{
 "cells": [
  {
   "cell_type": "markdown",
   "id": "8fe69520-de18-4f7e-a57d-3ce1bf9c801d",
   "metadata": {},
   "source": [
    "# Imports"
   ]
  },
  {
   "cell_type": "code",
   "execution_count": 2,
   "id": "e7bf477c-4d95-43c1-98b3-b204326365e8",
   "metadata": {},
   "outputs": [],
   "source": [
    "#!pip install statsmodels matplotlib"
   ]
  },
  {
   "cell_type": "code",
   "execution_count": 3,
   "id": "780a1904-2987-455f-90ef-5de906bf8863",
   "metadata": {},
   "outputs": [],
   "source": [
    "from pyspark.ml.feature import VectorAssembler\n",
    "from pyspark.ml.linalg import Vectors, VectorUDT, LinAlgError\n",
    "from pyspark.ml.regression import LinearRegression\n",
    "from pyspark.sql import SparkSession\n",
    "from pyspark.sql.types import StructType, StructField, DoubleType\n",
    "import numpy as np\n",
    "import pandas as pd\n",
    "import matplotlib.pyplot as plt\n",
    "import time\n",
    "from pyspark.sql.functions import col\n",
    "import statsmodels.api as sm\n",
    "import scipy.stats as scipy_stats\n",
    "from scipy.stats import t, f"
   ]
  },
  {
   "cell_type": "markdown",
   "id": "a0efbb38-8ac2-4704-a8d2-c5bf884b37b4",
   "metadata": {},
   "source": [
    "# Initialize Spark session"
   ]
  },
  {
   "cell_type": "code",
   "execution_count": 4,
   "id": "4d0d7bb0-bb83-4dd1-bc10-c99a76b7af12",
   "metadata": {},
   "outputs": [
    {
     "name": "stderr",
     "output_type": "stream",
     "text": [
      "Setting default log level to \"WARN\".\n",
      "To adjust logging level use sc.setLogLevel(newLevel). For SparkR, use setLogLevel(newLevel).\n",
      "24/10/29 06:42:24 WARN NativeCodeLoader: Unable to load native-hadoop library for your platform... using builtin-java classes where applicable\n"
     ]
    }
   ],
   "source": [
    "spark = SparkSession.builder.master(\"spark://spark-master:7077\").appName(\"ManualQRDecomposition\").getOrCreate()\n",
    "spark.sparkContext.setLogLevel(\"ERROR\")"
   ]
  },
  {
   "cell_type": "markdown",
   "id": "e8bc8cf8-3584-4cdf-88fa-7a3dbd17c89a",
   "metadata": {},
   "source": [
    "# 1) Functions for linear regression with QR decomposition"
   ]
  },
  {
   "cell_type": "markdown",
   "id": "1fd80614-6695-401e-a843-8b9e585e4f28",
   "metadata": {},
   "source": [
    "## 1.1)  Maethematical Core Functions"
   ]
  },
  {
   "cell_type": "markdown",
   "id": "fa5539cc",
   "metadata": {},
   "source": [
    "### 1.1.1) Backward Substitution"
   ]
  },
  {
   "cell_type": "code",
   "execution_count": 5,
   "id": "c52d27f0-21af-4b08-ad87-c39f37e81e8a",
   "metadata": {},
   "outputs": [],
   "source": [
    "def backward_substitution(R, b):\n",
    "    \"\"\"\n",
    "    Solves the upper triangular system Rx = b for x using backward substitution.\n",
    "    \n",
    "    Parameters\n",
    "    ----------\n",
    "    R : ndarray\n",
    "        Upper triangular matrix from QR decomposition\n",
    "    b : ndarray\n",
    "        The right-hand side vector\n",
    "        \n",
    "    Returns\n",
    "    -------\n",
    "    ndarray\n",
    "        Solution vector x that satisfies Rx = b\n",
    "        \n",
    "    Notes\n",
    "    -----\n",
    "    - Implements classic backward substitution algorithm\n",
    "    - Includes numerical stability check (threshold of 1e-10)\n",
    "    - Returns zero for numerically unstable solutions\n",
    "    \"\"\"\n",
    "    n = len(b)\n",
    "    x = np.zeros(n)\n",
    "    \n",
    "    for i in range(n-1, -1, -1):\n",
    "        sum_val = 0\n",
    "        for j in range(i+1, n):\n",
    "            sum_val += R[i, j] * x[j]\n",
    "        \n",
    "        if abs(R[i, i]) > 1e-10:\n",
    "            x[i] = (b[i] - sum_val) / R[i, i]\n",
    "        else:\n",
    "            x[i] = 0\n",
    "            \n",
    "    return x"
   ]
  },
  {
   "cell_type": "markdown",
   "id": "8e60304a-4ec6-4928-989b-1d4a5c8cb70c",
   "metadata": {},
   "source": [
    "### 1.1.2) Gram Schmidt without optimization for Spark"
   ]
  },
  {
   "cell_type": "code",
   "execution_count": null,
   "id": "bc07ed62-e4b1-42aa-99fd-0f649fc8b243",
   "metadata": {},
   "outputs": [],
   "source": [
    "def gram_schmidt(X):\n",
    "    \"\"\"\n",
    "    Performs classical Gram-Schmidt orthogonalization.\n",
    "    \n",
    "    Parameters\n",
    "    ----------\n",
    "    X : ndarray\n",
    "        Input matrix to orthogonalize, shape (n, m)\n",
    "        \n",
    "    Returns\n",
    "    -------\n",
    "    Q : ndarray\n",
    "        Orthogonal matrix, shape (n, m)\n",
    "    R : ndarray\n",
    "        Upper triangular matrix, shape (m, m)\n",
    "        \n",
    "    Notes\n",
    "    -----\n",
    "    - Implements classical Gram-Schmidt orthogonalization\n",
    "    - No explicit numerical stability checks\n",
    "    - May be less stable than modified Gram-Schmidt for ill-conditioned matrices\n",
    "    \"\"\"\n",
    "    n, m = X.shape\n",
    "    Q = np.zeros((n, m))\n",
    "    R = np.zeros((m, m))\n",
    "\n",
    "    for j in range(m):\n",
    "        v = X[:, j]\n",
    "        \n",
    "        for i in range(j):\n",
    "            R[i, j] = np.dot(Q[:, i], X[:, j])\n",
    "            v = v - R[i, j] * Q[:, i]\n",
    "\n",
    "        R[j, j] = np.linalg.norm(v)\n",
    "        Q[:, j] = v / R[j, j]\n",
    "\n",
    "    return Q, R"
   ]
  },
  {
   "cell_type": "markdown",
   "id": "515461cc-cc5e-4bec-b04a-7d90294d8f71",
   "metadata": {},
   "source": [
    "### 1.1.3) Gram Schmidt with optimization for Spark"
   ]
  },
  {
   "cell_type": "code",
   "execution_count": null,
   "id": "8830863b-6f7b-4317-b0e6-bc25d95d1d2e",
   "metadata": {},
   "outputs": [],
   "source": [
    "def manual_qr_decomposition(X_array):\n",
    "    \"\"\"\n",
    "    Performs QR decomposition using modified Gram-Schmidt with numerical stability handling.\n",
    "    \n",
    "    Parameters\n",
    "    ----------\n",
    "    X_array : ndarray\n",
    "        Input matrix to decompose, shape (n, m)\n",
    "        \n",
    "    Returns\n",
    "    -------\n",
    "    Q : ndarray\n",
    "        Orthogonal matrix, shape (n, m)\n",
    "    R : ndarray\n",
    "        Upper triangular matrix, shape (m, m)\n",
    "        \n",
    "    Notes\n",
    "    -----\n",
    "    - Implements modified Gram-Schmidt process\n",
    "    - Includes numerical stability threshold (1e-12)\n",
    "    - Returns zeros for numerically unstable columns\n",
    "    \"\"\"\n",
    "    n, m = X_array.shape\n",
    "    Q = np.zeros((n, m))\n",
    "    R = np.zeros((m, m))\n",
    "    \n",
    "    for j in range(m):\n",
    "        v = X_array[:, j]\n",
    "        for i in range(j):\n",
    "            R[i, j] = np.dot(Q[:, i], X_array[:, j])\n",
    "            v = v - R[i, j] * Q[:, i]\n",
    "        norm = np.linalg.norm(v)\n",
    "        if norm > 1e-12:\n",
    "            Q[:, j] = v / norm\n",
    "            R[j, j] = norm\n",
    "        else:\n",
    "            R[j, j] = 0\n",
    "    return Q, R"
   ]
  },
  {
   "cell_type": "markdown",
   "id": "1b829778-5e93-476e-8c5e-2b93dee3beab",
   "metadata": {},
   "source": [
    "## 1.3) Data Simulation"
   ]
  },
  {
   "cell_type": "markdown",
   "id": "ff8df7af-e5c3-4194-b54b-64bdaa2b25ff",
   "metadata": {},
   "source": [
    "### 1.3.1) Simulate data set without Spark optimization"
   ]
  },
  {
   "cell_type": "code",
   "execution_count": 8,
   "id": "b98535df-d721-4911-bb4b-1dab272760d6",
   "metadata": {},
   "outputs": [],
   "source": [
    "def create_data_numpy(n, p, beta_true):\n",
    "    \"\"\"\n",
    "    Generates synthetic regression data using NumPy.\n",
    "    \n",
    "    Parameters\n",
    "    ----------\n",
    "    n : int\n",
    "        Number of samples\n",
    "    p : int\n",
    "        Number of features (excluding intercept)\n",
    "    beta_true : ndarray\n",
    "        True coefficient values including intercept\n",
    "        \n",
    "    Returns\n",
    "    -------\n",
    "    X : ndarray\n",
    "        Design matrix with intercept column, shape (n, p+1)\n",
    "    y : ndarray\n",
    "        Target variable vector, shape (n,)\n",
    "        \n",
    "    Notes\n",
    "    -----\n",
    "    - Uses fixed random seed (42) for reproducibility\n",
    "    - Adds constant term (intercept) to X\n",
    "    - Adds Gaussian noise with std=0.1 to y\n",
    "    \"\"\"\n",
    "    np.random.seed(42)\n",
    "    X = np.random.rand(n, p)\n",
    "    X = np.column_stack([np.ones(X.shape[0]), X])\n",
    "    y = X @ beta_true + np.random.randn(n) * 0.3\n",
    "    return X, y"
   ]
  },
  {
   "cell_type": "markdown",
   "id": "f3053fff-9fd2-4383-b210-efd0a70ca89e",
   "metadata": {},
   "source": [
    "### 1.3.2) Simulate data set with Spark optimization"
   ]
  },
  {
   "cell_type": "code",
   "execution_count": 9,
   "id": "da0d5d5e-a431-4674-8e25-fadb4a65e54c",
   "metadata": {},
   "outputs": [],
   "source": [
    "def create_data_spark(n_samples, n_features, beta_true, noise_std=0.3, partition_size=10000):\n",
    "    \"\"\"\n",
    "    Generates distributed synthetic regression data optimized for Spark.\n",
    "    \n",
    "    Parameters\n",
    "    ----------\n",
    "    n_samples : int\n",
    "        Total number of observations\n",
    "    n_features : int\n",
    "        Number of features (excluding intercept)\n",
    "    beta_true : ndarray\n",
    "        True coefficient values including intercept\n",
    "    noise_std : float, optional\n",
    "        Standard deviation of Gaussian noise, default=0.1\n",
    "    partition_size : int, optional\n",
    "        Number of samples per partition, default=10000\n",
    "        \n",
    "    Returns\n",
    "    -------\n",
    "    DataFrame\n",
    "        Spark DataFrame with features and target columns\n",
    "        \n",
    "    Notes\n",
    "    -----\n",
    "    - Generates data in parallel across partitions\n",
    "    - Uses unique random seeds per partition\n",
    "    - Optimized for distributed processing\n",
    "    \"\"\"\n",
    "    def generate_partition(partition_index, partition_size):\n",
    "        np.random.seed(42 + partition_index)\n",
    "        X = np.random.randn(partition_size, n_features)\n",
    "        X = np.column_stack([np.ones(partition_size), X])\n",
    "        y = X @ beta_true + np.random.normal(0, noise_std, partition_size)\n",
    "        return [(Vectors.dense(x), float(y_i)) for x, y_i in zip(X, y)]\n",
    "    \n",
    "    num_partitions = max(n_samples // partition_size, spark.sparkContext.defaultParallelism)\n",
    "    samples_per_partition = n_samples // num_partitions\n",
    "    \n",
    "    rdd = (spark.sparkContext\n",
    "           .parallelize(range(num_partitions), num_partitions)\n",
    "           .flatMap(lambda i: generate_partition(i, samples_per_partition)))\n",
    "    \n",
    "    return spark.createDataFrame(rdd, [\"features\", \"y\"])\n"
   ]
  },
  {
   "cell_type": "markdown",
   "id": "306d14c3-ea1f-4d92-8823-f39e6ecc1023",
   "metadata": {},
   "source": [
    "## 1.4) Model Fitting Functions"
   ]
  },
  {
   "cell_type": "markdown",
   "id": "b6e6acd3-d231-4ac8-bd3f-7c28c9dd525b",
   "metadata": {},
   "source": [
    "### 1.4.1) Function for calculating the statistics"
   ]
  },
  {
   "cell_type": "code",
   "execution_count": 10,
   "id": "6d058ac9-6aeb-4537-a3a9-b916d74b259e",
   "metadata": {},
   "outputs": [],
   "source": [
    "def compute_statistics_numpy(X, y, beta, residuals):\n",
    "    \"\"\"\n",
    "    Computes comprehensive regression statistics using NumPy.\n",
    "    \n",
    "    Parameters\n",
    "    ----------\n",
    "    X : ndarray\n",
    "        Design matrix including intercept\n",
    "    y : ndarray\n",
    "        Target variable vector\n",
    "    beta : ndarray\n",
    "        Estimated coefficients\n",
    "    residuals : ndarray\n",
    "        Model residuals (y - X @ beta)\n",
    "        \n",
    "    Returns\n",
    "    -------\n",
    "    dict\n",
    "        Dictionary containing various statistics including:\n",
    "        - R-squared and Adjusted R-squared\n",
    "        - F-statistic and p-value\n",
    "        - Standard errors and t-statistics\n",
    "        - AIC and BIC\n",
    "        - Durbin-Watson statistic\n",
    "        - Jarque-Bera test results\n",
    "        \n",
    "    Notes\n",
    "    -----\n",
    "    - Computes full suite of regression diagnostics\n",
    "    - Includes both model fit and residual diagnostics\n",
    "    \"\"\"\n",
    "    n, k = X.shape\n",
    "    SSE = np.sum(residuals ** 2)\n",
    "    SST = np.sum((y - np.mean(y)) ** 2)\n",
    "    SSR = SST - SSE\n",
    "    df_residuals = n - k\n",
    "    df_model = k - 1\n",
    "    \n",
    "    r_squared = 1 - (SSE / SST)\n",
    "    adj_r_squared = 1 - ((1 - r_squared) * (n - 1) / df_residuals)\n",
    "    \n",
    "    MSE = SSE / df_residuals\n",
    "    MSR = SSR / df_model\n",
    "    f_statistic = MSR / MSE\n",
    "    f_p_value = stats.f.sf(f_statistic, df_model, df_residuals)\n",
    "    \n",
    "    sigma_squared = MSE\n",
    "    XtX_inv = np.linalg.inv(X.T @ X)\n",
    "    se = np.sqrt(np.diag(sigma_squared * XtX_inv))\n",
    "    t_values = beta / se\n",
    "    p_values = 2 * (1 - stats.t.cdf(np.abs(t_values), df_residuals))\n",
    "    \n",
    "    skewness = stats.skew(residuals)\n",
    "    kurtosis = stats.kurtosis(residuals, fisher=False)\n",
    "    log_likelihood = -0.5 * n * (np.log(2 * np.pi * sigma_squared) + 1)\n",
    "    AIC = 2 * k - 2 * log_likelihood\n",
    "    BIC = n * np.log(SSE / n) + k * np.log(n)\n",
    "    \n",
    "    dw_statistic = np.sum(np.diff(residuals) ** 2) / SSE\n",
    "    \n",
    "    jarque_bera_stat = (n / 6) * (skewness**2 + (kurtosis - 3)**2 / 4)\n",
    "    prob_jb = 1 - stats.chi2.cdf(jarque_bera_stat, df=2)\n",
    "    \n",
    "    return {\n",
    "        'r_squared': r_squared,\n",
    "        'Adjusted R-squared': adj_r_squared,\n",
    "        'F-statistic': f_statistic,\n",
    "        'Prob (F-statistic)': f_p_value,\n",
    "        'Log-Likelihood': log_likelihood,\n",
    "        'AIC': AIC,\n",
    "        'BIC': BIC,\n",
    "        'coef': beta,\n",
    "        'std err': se,\n",
    "        't': t_values,\n",
    "        'P>|t|': p_values,\n",
    "        'Skew': skewness,\n",
    "        'Kurtosis': kurtosis,\n",
    "        'Durbin-Watson': dw_statistic,\n",
    "        'Jarque-Bera (JB)': jarque_bera_stat,\n",
    "        'Prob(JB)': prob_jb,\n",
    "        'mse': MSE\n",
    "    }"
   ]
  },
  {
   "cell_type": "code",
   "execution_count": 13,
   "id": "cc87246e-14b8-4496-9546-33caa28f79a6",
   "metadata": {},
   "outputs": [],
   "source": [
    " def compute_statistics_partition(iterator, beta):\n",
    "    \"\"\"\n",
    "    Computes partial statistics for a partition of data in Spark.\n",
    "    \n",
    "    Parameters\n",
    "    ----------\n",
    "    iterator : iterator\n",
    "        Iterator over partition rows\n",
    "    beta : ndarray\n",
    "        Estimated coefficients\n",
    "        \n",
    "    Returns\n",
    "    -------\n",
    "    tuple\n",
    "        (SSE_local, SST_local, SSR_local, y_sum_local, count_local)\n",
    "        Local statistics for the partition\n",
    "        \n",
    "    Notes\n",
    "    -----\n",
    "    - Designed for distributed computation in Spark\n",
    "    - Handles empty partitions gracefully\n",
    "    - Computes sufficient statistics for later aggregation\n",
    "    \"\"\"\n",
    "    rows = list(iterator)\n",
    "    SSE_local, SST_local, SSR_local = 0, 0, 0\n",
    "    y_sum_local, count_local = 0, 0\n",
    "\n",
    "    if len(rows) == 0:\n",
    "        print(\"Empty partition in compute_statistics_partition.\")\n",
    "        return (0.0, 0.0, 0.0, 0.0, 0)\n",
    "\n",
    "    for row in rows:\n",
    "        y = row.y\n",
    "        y_sum_local += y\n",
    "        count_local += 1\n",
    "\n",
    "    if count_local > 0:\n",
    "        y_mean_local = y_sum_local / count_local\n",
    "\n",
    "        for row in rows:\n",
    "            X = row.features.toArray()\n",
    "            y = row.y\n",
    "            y_pred = np.dot(X, beta)\n",
    "            residual = y - y_pred\n",
    "            SSE_local += residual ** 2\n",
    "            SST_local += (y - y_mean_local) ** 2\n",
    "\n",
    "        SSR_local = SST_local - SSE_local\n",
    "\n",
    "    return (SSE_local, SST_local, SSR_local, y_sum_local, count_local)"
   ]
  },
  {
   "cell_type": "code",
   "execution_count": 14,
   "id": "25d1ea37-2d73-43e1-8360-709c0d154430",
   "metadata": {},
   "outputs": [],
   "source": [
    "def aggregate_statistics(rdd_stats, n, beta_length, XtX_inv, residuals, beta):\n",
    "    \"\"\"\n",
    "    Aggregates statistics across all partitions in Spark.\n",
    "    \n",
    "    Parameters\n",
    "    ----------\n",
    "    rdd_stats : RDD\n",
    "        RDD containing partial statistics from each partition\n",
    "    n : int\n",
    "        Total number of samples\n",
    "    beta_length : int\n",
    "        Number of coefficients (including intercept)\n",
    "        \n",
    "    Returns\n",
    "    -------\n",
    "    dict\n",
    "        Aggregated statistics including:\n",
    "        - R-squared and Adjusted R-squared\n",
    "        - F-statistic\n",
    "        - AIC and BIC\n",
    "        - Sample size and feature count\n",
    "        \n",
    "    Notes\n",
    "    -----\n",
    "    - Implements safe reduction operations\n",
    "    - Handles edge cases and potential errors\n",
    "    - Includes comprehensive error checking\n",
    "    \"\"\"\n",
    "    def safe_reduce(a, b):\n",
    "        try:\n",
    "            return (\n",
    "                a[0] + b[0],\n",
    "                a[1] + b[1],\n",
    "                a[2] + b[2],\n",
    "                a[3] + b[3],\n",
    "                a[4] + b[4]\n",
    "            )\n",
    "        except (IndexError, TypeError) as e:\n",
    "            print(f\"Error in safe_reduce: {str(e)}\")\n",
    "            return a\n",
    "\n",
    "    try:\n",
    "        (SSE, SST, SSR, y_sum_total, total_count) = rdd_stats.reduce(safe_reduce)\n",
    "    except Exception as e:\n",
    "        print(f\"Error in aggregating statistics: {str(e)}\")\n",
    "        return {}\n",
    "\n",
    "    y_mean = y_sum_total / total_count if total_count > 0 else 0\n",
    "\n",
    "    r_squared = 1 - (SSE / SST) if SST > 0 else 0\n",
    "    adj_r_squared = (\n",
    "        1 - ((1 - r_squared) * (total_count - 1) / (total_count - beta_length))\n",
    "        if total_count > beta_length else 0\n",
    "    )\n",
    "\n",
    "    MSE = SSE / (total_count - beta_length) if total_count > beta_length else 0\n",
    "    MSR = SSR / (beta_length - 1) if beta_length > 1 else 0\n",
    "    df_model = beta_length - 1\n",
    "    df_residuals = total_count - beta_length\n",
    "    f_statistic = MSR / MSE if MSE > 0 else float('inf')\n",
    "    f_p_value = scipy_stats.f.sf(f_statistic, df_model, df_residuals)\n",
    "    log_likelihood = -0.5 * total_count * (np.log(2 * np.pi * MSE) + 1) if MSE > 0 else float('-inf')\n",
    "\n",
    "    AIC = total_count * np.log(SSE / total_count) + 2 * beta_length if total_count > 0 else 0\n",
    "    BIC = total_count * np.log(SSE / total_count) + beta_length * np.log(total_count) if total_count > 0 else 0\n",
    "\n",
    "    sigma_squared = MSE\n",
    "    XtX_inv = XtX_inv\n",
    "    std_err = np.sqrt(np.diag(sigma_squared * XtX_inv)) if XtX_inv is not None else [float('nan')] * beta_length\n",
    "    dw_statistic = np.sum(np.diff(residuals) ** 2) / SSE\n",
    "    skewness = scipy_stats.skew(residuals)\n",
    "    kurtosis = scipy_stats.kurtosis(residuals, fisher=False)\n",
    "    jb_statistic = (n / 6) * (skewness**2 + (kurtosis - 3)**2 / 4)\n",
    "    prob_jb = 1 - scipy_stats.chi2.cdf(jb_statistic, df=2)\n",
    "    skew = scipy_stats.skew(residuals)\n",
    "    kurtosis = scipy_stats.kurtosis(residuals, fisher=False)\n",
    "    t_values = beta / std_err\n",
    "    p_values = 2 * (1 - scipy_stats.t.cdf(np.abs(t_values), df_residuals))\n",
    "\n",
    "    stats = {\n",
    "    'r_squared': r_squared,\n",
    "    'Adjusted R-squared': adj_r_squared,\n",
    "    'F-statistic': f_statistic,\n",
    "    'Prob (F-statistic)': f_p_value,\n",
    "    'Log-Likelihood': log_likelihood,\n",
    "    'AIC': AIC,\n",
    "    'BIC': BIC,\n",
    "    'SSE': SSE,\n",
    "    'SSR': SSR,\n",
    "    'SST': SST,\n",
    "    'mse': MSE,\n",
    "    'n_samples': total_count,\n",
    "    'n_features': beta_length,\n",
    "    'std err': std_err,\n",
    "    't': t_values,\n",
    "    'P>|t|': p_values,\n",
    "    'Durbin-Watson': dw_statistic,\n",
    "    'Jarque-Bera (JB)': jb_statistic,\n",
    "    'Prob(JB)': prob_jb,\n",
    "    'Skew': skew,\n",
    "    'Kurtosis': kurtosis\n",
    "}\n",
    "\n",
    "\n",
    "    return stats"
   ]
  },
  {
   "cell_type": "markdown",
   "id": "bc9ea64d-6edc-4b37-9ff9-ede937bf1939",
   "metadata": {},
   "source": [
    "### 1.4.2)  Linear regression with NumPy"
   ]
  },
  {
   "cell_type": "code",
   "execution_count": 15,
   "id": "15e67860-c100-450b-a82a-8147fc35694e",
   "metadata": {},
   "outputs": [],
   "source": [
    "def linear_regression_manual_qr(X, y):\n",
    "    \"\"\"\n",
    "    Fits linear regression using manual QR decomposition.\n",
    "    \n",
    "    Parameters\n",
    "    ----------\n",
    "    X : ndarray\n",
    "        Design matrix including intercept\n",
    "    y : ndarray\n",
    "        Target variable vector\n",
    "        \n",
    "    Returns\n",
    "    -------\n",
    "    dict\n",
    "        Regression results including coefficients and statistics\n",
    "    float\n",
    "        Computation time in seconds\n",
    "        \n",
    "    Notes\n",
    "    -----\n",
    "    - Uses Gram-Schmidt QR decomposition\n",
    "    - Computes comprehensive statistics\n",
    "    - Includes timing information\n",
    "    \"\"\"\n",
    "    start_time = time.time()\n",
    "    Q, R = gram_schmidt(X)\n",
    "    beta = backward_substitution(R, Q.T @ y)\n",
    "\n",
    "    y_pred = np.dot(X, beta)\n",
    "    residuals = y - y_pred\n",
    "\n",
    "    result = compute_statistics_numpy(X, y, beta, residuals)\n",
    "    \n",
    "    end_time = time.time()\n",
    "    elapsed_time = end_time - start_time\n",
    "\n",
    "    return result, elapsed_time"
   ]
  },
  {
   "cell_type": "markdown",
   "id": "a7f46832-388d-431c-94e7-7158f2545563",
   "metadata": {},
   "source": [
    "### 1.4.3) Linear regression optimized for Spark with manual QR decomposition"
   ]
  },
  {
   "cell_type": "code",
   "execution_count": 1,
   "id": "a353e714-0791-4068-a632-ca4b4b1d2ede",
   "metadata": {},
   "outputs": [],
   "source": [
    "def fit_ols_manual(df):\n",
    "    \"\"\"\n",
    "    Fits distributed OLS regression using manual QR decomposition in Spark.\n",
    "    \n",
    "    Parameters\n",
    "    ----------\n",
    "    df : DataFrame\n",
    "        Spark DataFrame with features and target columns\n",
    "        \n",
    "    Returns\n",
    "    -------\n",
    "    ndarray\n",
    "        Estimated coefficients\n",
    "    dict\n",
    "        Regression statistics\n",
    "        \n",
    "    Notes\n",
    "    -----\n",
    "    - Implements distributed QR decomposition\n",
    "    - Handles computation in partitions\n",
    "    - Includes timing information\n",
    "    \"\"\"\n",
    "    start_time = time.time()\n",
    "\n",
    "    def process_partition(iterator):\n",
    "        X_local, y_local = [], []\n",
    "        for row in iterator:\n",
    "            X_local.append(row.features.toArray())\n",
    "            y_local.append(row.y)\n",
    "\n",
    "        if not X_local:\n",
    "            print(\"Empty partition encountered in process_partition.\")\n",
    "            return [(np.zeros((1, 1)), np.zeros(1))]\n",
    "        X_local = np.vstack(X_local)\n",
    "        y_local = np.array(y_local)\n",
    "\n",
    "        Q_local, R_local = manual_qr_decomposition(X_local)\n",
    "\n",
    "        Qty_local = np.dot(Q_local.T, y_local)\n",
    "\n",
    "        return [(R_local, Qty_local)]\n",
    "\n",
    "    results = df.rdd.mapPartitions(process_partition).filter(lambda x: len(x) > 0).reduce(\n",
    "        lambda a, b: (\n",
    "            a[0] + b[0] if isinstance(a[0], np.ndarray) and isinstance(b[0], np.ndarray) else np.zeros((1, 1)),\n",
    "            a[1] + b[1] if isinstance(a[1], np.ndarray) and isinstance(b[1], np.ndarray) else np.zeros(1)\n",
    "        )\n",
    "    )\n",
    "\n",
    "    R_total, Qty_total = results\n",
    "\n",
    "    _, R_final = manual_qr_decomposition(R_total)\n",
    "    beta = backward_substitution(R_final, Qty_total)\n",
    "\n",
    "    rdd_stats = df.rdd.mapPartitions(lambda iter: [compute_statistics_partition(iter, beta)])\n",
    "    X = np.array(df.select(\"features\").rdd.map(lambda row: row[0].toArray()).collect())  # Or however X is obtained\n",
    "    XtX_inv = np.linalg.inv(np.dot(X.T, X))\n",
    "    y_pred = np.dot(X, beta)\n",
    "    residuals = df.select(\"y\").rdd.map(lambda row: row[0]).collect() - y_pred  # Calculate residuals\n",
    "\n",
    "    stats = aggregate_statistics(rdd_stats, n=df.count(), beta_length=len(beta), XtX_inv=XtX_inv, residuals=residuals, beta=beta)\n",
    "\n",
    "    computation_time = time.time() - start_time\n",
    "    stats['computation_time'] = computation_time\n",
    "    \n",
    "    return beta, stats"
   ]
  },
  {
   "cell_type": "markdown",
   "id": "f984c5e9-2db4-4409-9fdb-7985c8c525d1",
   "metadata": {},
   "source": [
    "### 1.4.4) Linear regression optimized for Spark with built-in functions for QR decomposition\n"
   ]
  },
  {
   "cell_type": "code",
   "execution_count": 17,
   "id": "ff1651dd-4214-4996-b8d9-5fce20fada03",
   "metadata": {},
   "outputs": [],
   "source": [
    "def fit_ols_spark(df):\n",
    "    \"\"\"\n",
    "    Fits linear regression using Spark's built-in implementation.\n",
    "    \n",
    "    Parameters\n",
    "    ----------\n",
    "    df : DataFrame\n",
    "        Spark DataFrame with features and target columns\n",
    "        \n",
    "    Returns\n",
    "    -------\n",
    "    LinearRegressionModel\n",
    "        Fitted Spark linear regression model\n",
    "    LinearRegressionTrainingSummary\n",
    "        Training summary with model statistics\n",
    "        \n",
    "    Notes\n",
    "    -----\n",
    "    - Uses Spark's MLlib implementation\n",
    "    - Uses QR decomposition solver\n",
    "    - Provides standard Spark model metrics\n",
    "    \"\"\"\n",
    "    lr = LinearRegression(featuresCol=\"features\", labelCol=\"y\", solver=\"normal\")\n",
    "    model = lr.fit(df)\n",
    "    \n",
    "    training_summary = model.summary\n",
    "    \n",
    "    return model, training_summary\n"
   ]
  },
  {
   "cell_type": "markdown",
   "id": "b4560b59-a830-4be4-a0ab-814ae0cdd1ba",
   "metadata": {},
   "source": [
    "## 1.5) Function for performing the benchmarks"
   ]
  },
  {
   "cell_type": "markdown",
   "id": "0196e160-68ec-426b-8610-0f8fb5f106ef",
   "metadata": {},
   "source": [
    "### 1.5.1) Formatting the statistics"
   ]
  },
  {
   "cell_type": "code",
   "execution_count": 18,
   "id": "78b2181d-80dc-43b6-8b31-78799d463b7b",
   "metadata": {},
   "outputs": [],
   "source": [
    "def format_summary(beta, statistics, computation_time, X):\n",
    "    \"\"\"\n",
    "    Formats regression results to match statsmodels summary output.\n",
    "    \n",
    "    Parameters\n",
    "    ----------\n",
    "    beta : ndarray\n",
    "        Estimated coefficients\n",
    "    statistics : dict\n",
    "        Dictionary of computed statistics\n",
    "    computation_time : float\n",
    "        Model fitting time in seconds\n",
    "    X : ndarray\n",
    "        Design matrix used in the regression\n",
    "        \n",
    "    Returns\n",
    "    -------\n",
    "    str\n",
    "        Formatted summary string\n",
    "    \"\"\"\n",
    "    n_obs = statistics['n_samples']\n",
    "    df_residuals = n_obs - len(beta)\n",
    "    df_model = len(beta) - 1\n",
    "    \n",
    "    summary = []\n",
    "    summary.append(\"=\" * 78)\n",
    "    summary.append(\"{: ^78}\".format(\"OLS Regression Results\"))\n",
    "    summary.append(\"=\" * 78)\n",
    "    \n",
    "    current_time = time.localtime()\n",
    "    formatted_date = time.strftime(\"%a, %d %b %Y\", current_time)\n",
    "    formatted_time = time.strftime(\"%H:%M:%S\", current_time)\n",
    "    \n",
    "    summary.append(\"{:<20} {:<12} {:<20} {: >20.3f}\".format(\n",
    "        \"Dep. Variable:\", \"y\",\n",
    "        \"R-squared:\", statistics['r_squared']))\n",
    "    \n",
    "    summary.append(\"{:<20} {:<12} {:<20} {: >20.3f}\".format(\n",
    "        \"Model:\", \"OLS\",\n",
    "        \"Adj. R-squared:\", statistics['Adjusted R-squared']))\n",
    "    \n",
    "    summary.append(\"{:<20} {:<12} {:<20} {: >20.3e}\".format(\n",
    "        \"Method:\", \"Least Squares\",\n",
    "        \"F-statistic:\", statistics['F-statistic']))\n",
    "    \n",
    "    summary.append(\"{:<20} {:<12} {:<20} {: >20.3e}\".format(\n",
    "        \"Date:\", formatted_date,\n",
    "        \"Prob (F-statistic):\", statistics['Prob (F-statistic)']))\n",
    "    \n",
    "    summary.append(\"{:<20} {:<12} {:<20} {: >20.3f}\".format(\n",
    "        \"Time:\", formatted_time,\n",
    "        \"Log-Likelihood:\", statistics['Log-Likelihood']))\n",
    "    \n",
    "    summary.append(\"{:<20} {:<12} {:<20} {: >20.3f}\".format(\n",
    "        \"No. Observations:\", str(n_obs),\n",
    "        \"AIC:\", statistics['AIC']))\n",
    "    \n",
    "    summary.append(\"{:<20} {:<12} {:<20} {: >20.3f}\".format(\n",
    "        \"Df Residuals:\", str(df_residuals),\n",
    "        \"BIC:\", statistics['BIC']))\n",
    "    \n",
    "    summary.append(\"{:<20} {:<12}\".format(\n",
    "        \"Df Model:\", str(df_model)))\n",
    "    \n",
    "    summary.append(\"Covariance Type:            nonrobust\")\n",
    "    \n",
    "    summary.append(\"=\" * 78)\n",
    "    summary.append(\"{:>16} {:>10} {:>10} {:>10} {:>12} {:>10} {:>10}\".format(\n",
    "        \"\", \"coef\", \"std err\", \"t\", \"P>|t|\", \"[0.025\", \"0.975]\"))\n",
    "    summary.append(\"-\" * 78)\n",
    "    \n",
    "    var_names = [\"const\"] + [f\"x{i+1}\" for i in range(len(beta)-1)]\n",
    "    for i, name in enumerate(var_names):\n",
    "        conf_int_lower = beta[i] - 1.96 * statistics['std err'][i]\n",
    "        conf_int_upper = beta[i] + 1.96 * statistics['std err'][i]\n",
    "        summary.append(\"{:>16} {: >9.4f} {: >9.3f} {: >10.3f} {: >11.3f} {: >9.3f} {: >9.3f}\".format(\n",
    "            name,\n",
    "            beta[i],\n",
    "            statistics['std err'][i],\n",
    "            statistics['t'][i],\n",
    "            statistics['P>|t|'][i],\n",
    "            conf_int_lower,\n",
    "            conf_int_upper\n",
    "        ))\n",
    "    \n",
    "    summary.append(\"=\" * 78)\n",
    "    summary.append(\"{:<21} {: >10.3f} {:<24} {: >19.3f}\".format(\n",
    "        \"Durbin-Watson:\", statistics['Durbin-Watson'],\n",
    "        \"Jarque-Bera (JB):\", statistics['Jarque-Bera (JB)']))\n",
    "    \n",
    "    summary.append(\"{:<21} {: >10.3f} {:<24} {: >19.3f}\".format(\n",
    "        \"Prob(JB):\", statistics['Prob(JB)'],\n",
    "        \"Skew:\", statistics['Skew']))\n",
    "    \n",
    "    summary.append(\"{:<21} {: >10.3f} {:<24} {: >19.3f}\".format(\n",
    "        \"Kurtosis:\", statistics['Kurtosis'],\n",
    "        \"Cond. No.:\", np.linalg.cond(X)))\n",
    "    \n",
    "    summary.append(\"=\" * 78)\n",
    "    summary.append(\"[1] Standard Errors assume that the covariance matrix of the errors is correctly specified.\")\n",
    "    \n",
    "    return \"\\n\".join(summary)\n"
   ]
  },
  {
   "cell_type": "markdown",
   "id": "c85a3f13-0fb2-494f-98d2-137e5fa557bc",
   "metadata": {},
   "source": [
    "### 1.5.2) Calculation with Numpy approach"
   ]
  },
  {
   "cell_type": "code",
   "execution_count": 27,
   "id": "67f44301-7434-41a8-bebe-410ba1b9ae80",
   "metadata": {},
   "outputs": [],
   "source": [
    "def run_benchmark_numpy(n_list, beta_true, p, repetitions=10):\n",
    "    \"\"\"\n",
    "    Runs benchmarking for different implementations of linear regression.\n",
    "    \n",
    "    Parameters\n",
    "    ----------\n",
    "    n_list : list\n",
    "        Sample sizes to test\n",
    "    p : int\n",
    "        Number of features\n",
    "    beta_true : ndarray\n",
    "        True coefficients for data generation\n",
    "    repetitions : int, optional\n",
    "        Number of benchmark repetitions, default=10\n",
    "        \n",
    "    Returns\n",
    "    -------\n",
    "    DataFrame\n",
    "        Benchmark results including:\n",
    "        - Sample sizes\n",
    "        - Mean and std of computation times\n",
    "        - Mean and std of R-squared values\n",
    "        - Success rates\n",
    "        \n",
    "    Notes\n",
    "    -----\n",
    "    - Includes error handling\n",
    "    - Prints progress information\n",
    "    - Generates comprehensive summaries\n",
    "    \"\"\"\n",
    "    results = [] \n",
    "\n",
    "    for n in n_list:\n",
    "        times = []\n",
    "        r_squared_values = []\n",
    "        print(f\"\\nBenchmarking for n={n:,} samples...\")\n",
    "\n",
    "        for i in range(repetitions):\n",
    "            X = np.hstack([np.ones((n, 1)), np.random.randn(n, p)]) \n",
    "            y = X @ beta_true + np.random.normal(0, 0.1, n)\n",
    "            \n",
    "            result, elapsed_time = linear_regression_manual_qr(X, y)\n",
    "            times.append(elapsed_time)\n",
    "            r_squared_values.append(result['r_squared'])\n",
    "\n",
    "        avg_time = np.mean(times)\n",
    "        avg_r_squared = np.mean(r_squared_values)\n",
    "        std_time = np.std(times)\n",
    "        std_r_squared = np.std(r_squared_values)\n",
    "\n",
    "        avg_statistics = {\n",
    "            'n_samples': n,\n",
    "            'SSE': np.sum((y - X @ result['coef']) ** 2),\n",
    "            'r_squared': result['r_squared'],\n",
    "            'Adjusted R-squared': result['Adjusted R-squared'],\n",
    "            'F-statistic': result['F-statistic'],\n",
    "            'Prob (F-statistic)': result['Prob (F-statistic)'],\n",
    "            'Log-Likelihood': result['Log-Likelihood'],\n",
    "            'AIC': result['AIC'],\n",
    "            'BIC': result['BIC'],\n",
    "            'coef': result['coef'],\n",
    "            'std err': result['std err'],\n",
    "            't': result['t'],\n",
    "            'P>|t|': result['P>|t|'],\n",
    "            'Skew': result['Skew'],\n",
    "            'Kurtosis': result['Kurtosis'],\n",
    "            'Durbin-Watson': result['Durbin-Watson'],\n",
    "            'Jarque-Bera (JB)': result['Jarque-Bera (JB)'],\n",
    "            'Prob(JB)': result['Prob(JB)'],\n",
    "            'mse': result['mse']\n",
    "        }\n",
    "\n",
    "        print(\"\\nSummary for final run:\")\n",
    "        summary_str = format_summary(result['coef'], avg_statistics, avg_time)\n",
    "        print(summary_str)\n",
    "\n",
    "        results.append({\n",
    "            'n_samples': n,\n",
    "            'n_features': p,\n",
    "            'mean_time': avg_time,\n",
    "            'std_time': std_time,\n",
    "            'mean_r_squared': avg_r_squared,\n",
    "            'std_r_squared': std_r_squared\n",
    "        })\n",
    "        \n",
    "        print(f\"\\nSummary for n={n:,}:\")\n",
    "        print(f\"  Mean time: {avg_time:.2f}s ± {std_time:.2f}s\")\n",
    "        print(f\"  Mean R²: {avg_r_squared:.4f} ± {std_r_squared:.4f}\")\n",
    "\n",
    "    return pd.DataFrame(results)\n"
   ]
  },
  {
   "cell_type": "markdown",
   "id": "4ee49a82-d6f0-4301-a20e-3f03407be25a",
   "metadata": {},
   "source": [
    "### 1.5.3) Calculation with Spark with manual QR decomposition"
   ]
  },
  {
   "cell_type": "code",
   "execution_count": 20,
   "id": "4726dfbf-79ed-4be7-87ca-222d8aaa810f",
   "metadata": {},
   "outputs": [],
   "source": [
    "def run_benchmark_point(n, p, true_coefficients, repetitions=10):\n",
    "    \"\"\"\n",
    "    Runs benchmarking for different implementations of linear regression.\n",
    "    \n",
    "    Parameters\n",
    "    ----------\n",
    "    n : int\n",
    "        Sample size(s) to test\n",
    "    p : int\n",
    "        Number of features\n",
    "    beta_true : ndarray\n",
    "        True coefficients for data generation\n",
    "    repetitions : int, optional\n",
    "        Number of benchmark repetitions, default=10\n",
    "        \n",
    "    Returns\n",
    "    -------\n",
    "    DataFrame\n",
    "        Benchmark results including:\n",
    "        - Sample sizes\n",
    "        - Mean and std of computation times\n",
    "        - Mean and std of R-squared values\n",
    "        - Success rates\n",
    "        \n",
    "    Notes\n",
    "    -----\n",
    "    - Includes error handling\n",
    "    - Prints progress information\n",
    "    - Generates comprehensive summaries\n",
    "    \"\"\"\n",
    "    times = []\n",
    "    r_squares = []\n",
    "    successful_runs = 0\n",
    "\n",
    "    print(f\"\\nBenchmarking n={n:,} samples...\")\n",
    "    \n",
    "    for i in range(repetitions):\n",
    "        try:\n",
    "            start_data_creation = time.time()\n",
    "            df = create_data_spark(n, p, true_coefficients)\n",
    "            end_data_creation = time.time()\n",
    "\n",
    "            start_fit = time.time()\n",
    "            beta, summary = fit_ols_manual(df)\n",
    "            end_fit = time.time()\n",
    "            \n",
    "            elapsed_time = end_fit - start_data_creation\n",
    "            times.append(elapsed_time)\n",
    "            r_squares.append(summary['r_squared'])\n",
    "            successful_runs += 1\n",
    "            \n",
    "            print(f\"  Run {i+1}: time={elapsed_time:.2f}s, R²={summary['r_squared']:.4f}\")\n",
    "            \n",
    "        except Exception as e:\n",
    "            print(f\"  Run {i+1} failed: {str(e)}\")\n",
    "    \n",
    "    if successful_runs > 0:\n",
    "        result = {\n",
    "            'n_samples': n,\n",
    "            'n_features': p,\n",
    "            'mean_time': np.mean(times),\n",
    "            'std_time': np.std(times),\n",
    "            'mean_r_squared': np.mean(r_squares),\n",
    "            'std_r_squared': np.std(r_squares),\n",
    "            'successful_runs': successful_runs\n",
    "        }\n",
    "        print(format_summary(beta, summary, result['mean_time']))\n",
    "        print(f\"\\nSummary for n={n:,}:\")\n",
    "        print(f\"  Mean time: {result['mean_time']:.2f}s ± {result['std_time']:.2f}s\")\n",
    "        print(f\"  Mean R²: {result['mean_r_squared']:.4f} ± {result['std_r_squared']:.4f}\")\n",
    "    \n",
    "    return pd.DataFrame([result])\n"
   ]
  },
  {
   "cell_type": "markdown",
   "id": "f3424ab2-16f9-4cf1-a321-fe79f93a2e96",
   "metadata": {},
   "source": [
    "### 1.5.4)Calculation for Spark's built-in functions for QR decomposition"
   ]
  },
  {
   "cell_type": "code",
   "execution_count": 22,
   "id": "46854dfe-34a2-4a13-9ce3-e37e71d9c047",
   "metadata": {},
   "outputs": [],
   "source": [
    "def run_benchmark_spark(n, p, beta_true, repetitions=10):\n",
    "    \"\"\"\n",
    "    Runs benchmarking for different implementations of linear regression.\n",
    "    \n",
    "    Parameters\n",
    "    ----------\n",
    "    n : int\n",
    "        Sample size(s) to test\n",
    "    p : int\n",
    "        Number of features\n",
    "    beta_true : ndarray\n",
    "        True coefficients for data generation\n",
    "    repetitions : int, optional\n",
    "        Number of benchmark repetitions, default=10\n",
    "        \n",
    "    Returns\n",
    "    -------\n",
    "    DataFrame\n",
    "        Benchmark results including:\n",
    "        - Sample sizes\n",
    "        - Mean and std of computation times\n",
    "        - Mean and std of R-squared values\n",
    "        - Success rates\n",
    "        \n",
    "    Notes\n",
    "    -----\n",
    "    - Includes error handling\n",
    "    - Prints progress information\n",
    "    - Generates comprehensive summaries\n",
    "    \"\"\"\n",
    "    times = []\n",
    "    r_squares = []\n",
    "    successful_runs = 0\n",
    "    results = []\n",
    "\n",
    "    print(f\"\\nBenchmarking for n={n:,} samples...\")\n",
    "\n",
    "    for i in range(repetitions):\n",
    "        try:\n",
    "            start_data_creation = time.time()\n",
    "            df = create_data_spark(n, p, beta_true)\n",
    "            end_data_creation = time.time()\n",
    "\n",
    "            start_fit = time.time()\n",
    "            model, summary = fit_ols_spark(df)\n",
    "            end_fit = time.time()\n",
    "\n",
    "            elapsed_time = end_fit - start_data_creation\n",
    "            times.append(elapsed_time)\n",
    "            r_squares.append(summary.r2)\n",
    "            successful_runs += 1\n",
    "\n",
    "            print(f\"  Run {i+1}: time={elapsed_time:.2f}s, R²={summary.r2:.4f}, Adjusted R²={summary.r2adj:.4f}\")\n",
    "\n",
    "        except Exception as e:\n",
    "            print(f\"  Run {i+1} failed: {str(e)}\")\n",
    "\n",
    "    \n",
    "    if successful_runs > 0:\n",
    "        result = {\n",
    "        'n_samples': n,\n",
    "        'n_features': p,\n",
    "        'mean_time': np.mean(times),\n",
    "        'std_time': np.std(times),\n",
    "        'mean_r_squared': np.mean(r_squares),\n",
    "        'std_r_squared': np.std(r_squares),\n",
    "        'successful_runs': successful_runs\n",
    "    }\n",
    "\n",
    "        print(f\"\\nSummary for n={n:,}:\")\n",
    "        print(f\"  Mean time: {result['mean_time']:.2f}s ± {result['std_time']:.2f}s\")\n",
    "        print(f\"  Mean R²: {result['mean_r_squared']:.4f} ± {result['std_r_squared']:.4f}\")\n",
    "    \n",
    "    return pd.DataFrame([result])\n"
   ]
  },
  {
   "cell_type": "markdown",
   "id": "39f3e295-03cd-479b-aefc-eb1e577872f8",
   "metadata": {},
   "source": [
    "# 2) Carrying out the benchmark and outputting the results"
   ]
  },
  {
   "cell_type": "markdown",
   "id": "09235d19-d83b-489f-8b37-c6069fa456bc",
   "metadata": {},
   "source": [
    "## 2.1) Calculation"
   ]
  },
  {
   "cell_type": "code",
   "execution_count": 28,
   "id": "abc3af8e-216f-4022-97c8-93469e34da5f",
   "metadata": {},
   "outputs": [],
   "source": [
    "n_values = [200000, 500000, 1000000, 5000000, 10000000]\n",
    "n_features = 10\n",
    "beta_true = np.random.randn(n_features + 1)"
   ]
  },
  {
   "cell_type": "code",
   "execution_count": 29,
   "id": "da201d6c-78d5-48d3-8108-e6f372726307",
   "metadata": {},
   "outputs": [],
   "source": [
    "n_values2 = [15000000, 20000000, 25000000, 30000000, 35000000]"
   ]
  },
  {
   "cell_type": "markdown",
   "id": "3716d95e-0cca-4fb9-8de4-a7729df933d4",
   "metadata": {},
   "source": [
    "### 2.1.1) Numpy"
   ]
  },
  {
   "cell_type": "code",
   "execution_count": 30,
   "id": "ca3874e2-0a3d-4276-a57c-db966351ea4f",
   "metadata": {
    "scrolled": true
   },
   "outputs": [
    {
     "name": "stdout",
     "output_type": "stream",
     "text": [
      "\n",
      "Benchmarking for n=200,000 samples...\n",
      "\n",
      "Summary for final run:\n",
      "==============================================================================\n",
      "                            OLS Regression Results                            \n",
      "==============================================================================\n",
      "Dep. Variable:       y            R-squared:                          0.999\n",
      "Model:               OLS          Adj. R-squared:                     0.999\n",
      "Method:              Least Squares F-statistic:                    2.082e+07\n",
      "Date:                Tue, 29 Oct 2024 Prob (F-statistic):             1.110e-16\n",
      "Time:                06:46:28     Log-Likelihood:                176710.777\n",
      "No. Observations:    200000       AIC:                          -353388.554\n",
      "Df Residuals:        199989       BIC:                          -920862.701\n",
      "Df Model:            10          \n",
      "Covariance Type:            nonrobust\n",
      "==============================================================================\n",
      "                       coef    std err          t        P>|t|     [0.025     0.975]\n",
      "------------------------------------------------------------------------------\n",
      "           const    0.0973     0.000    435.045       0.000     0.097     0.098\n",
      "              x1   -1.1888     0.000  -5309.652       0.000    -1.189    -1.188\n",
      "              x2    0.4806     0.000   2147.479       0.000     0.480     0.481\n",
      "              x3   -0.9641     0.000  -4295.791       0.000    -0.965    -0.964\n",
      "              x4    0.9715     0.000   4348.189       0.000     0.971     0.972\n",
      "              x5   -1.0872     0.000  -4865.675       0.000    -1.088    -1.087\n",
      "              x6    1.1874     0.000   5307.996       0.000     1.187     1.188\n",
      "              x7   -0.7962     0.000  -3572.720       0.000    -0.797    -0.796\n",
      "              x8   -1.1284     0.000  -5032.074       0.000    -1.129    -1.128\n",
      "              x9    0.7675     0.000   3429.201       0.000     0.767     0.768\n",
      "             x10    1.3408     0.000   5983.307       0.000     1.340     1.341\n",
      "==============================================================================\n",
      "Omnibus:                     nan Durbin-Watson:                           nan\n",
      "Prob(Omnibus):               nan Jarque-Bera (JB):                        nan\n",
      "Skew:                        nan Prob(JB):                                nan\n",
      "Kurtosis:                    nan Cond. No.:                              1.01\n",
      "==============================================================================\n",
      "[1] Standard Errors assume that the covariance matrix of the errors is correctly specified.\n",
      "\n",
      "Summary for n=200,000:\n",
      "  Mean time: 0.26s ± 0.18s\n",
      "  Mean R²: 0.9990 ± 0.0000\n",
      "\n",
      "Benchmarking for n=500,000 samples...\n",
      "\n",
      "Summary for final run:\n",
      "==============================================================================\n",
      "                            OLS Regression Results                            \n",
      "==============================================================================\n",
      "Dep. Variable:       y            R-squared:                          0.999\n",
      "Model:               OLS          Adj. R-squared:                     0.999\n",
      "Method:              Least Squares F-statistic:                    5.203e+07\n",
      "Date:                Tue, 29 Oct 2024 Prob (F-statistic):             1.110e-16\n",
      "Time:                06:46:36     Log-Likelihood:                441832.349\n",
      "No. Observations:    500000       AIC:                          -883631.699\n",
      "Df Residuals:        499989       BIC:                         -2302458.886\n",
      "Df Model:            10          \n",
      "Covariance Type:            nonrobust\n",
      "==============================================================================\n",
      "                       coef    std err          t        P>|t|     [0.025     0.975]\n",
      "------------------------------------------------------------------------------\n",
      "           const    0.0976     0.000    690.073       0.000     0.097     0.098\n",
      "              x1   -1.1890     0.000  -8403.895       0.000    -1.189    -1.189\n",
      "              x2    0.4804     0.000   3398.690       0.000     0.480     0.481\n",
      "              x3   -0.9645     0.000  -6826.931       0.000    -0.965    -0.964\n",
      "              x4    0.9712     0.000   6866.477       0.000     0.971     0.971\n",
      "              x5   -1.0873     0.000  -7696.055       0.000    -1.088    -1.087\n",
      "              x6    1.1873     0.000   8389.924       0.000     1.187     1.188\n",
      "              x7   -0.7961     0.000  -5638.665       0.000    -0.796    -0.796\n",
      "              x8   -1.1285     0.000  -7982.504       0.000    -1.129    -1.128\n",
      "              x9    0.7675     0.000   5436.435       0.000     0.767     0.768\n",
      "             x10    1.3407     0.000   9472.629       0.000     1.340     1.341\n",
      "==============================================================================\n",
      "Omnibus:                     nan Durbin-Watson:                           nan\n",
      "Prob(Omnibus):               nan Jarque-Bera (JB):                        nan\n",
      "Skew:                        nan Prob(JB):                                nan\n",
      "Kurtosis:                    nan Cond. No.:                              1.01\n",
      "==============================================================================\n",
      "[1] Standard Errors assume that the covariance matrix of the errors is correctly specified.\n",
      "\n",
      "Summary for n=500,000:\n",
      "  Mean time: 0.55s ± 0.21s\n",
      "  Mean R²: 0.9990 ± 0.0000\n",
      "\n",
      "Benchmarking for n=1,000,000 samples...\n",
      "\n",
      "Summary for final run:\n",
      "==============================================================================\n",
      "                            OLS Regression Results                            \n",
      "==============================================================================\n",
      "Dep. Variable:       y            R-squared:                          0.999\n",
      "Model:               OLS          Adj. R-squared:                     0.999\n",
      "Method:              Least Squares F-statistic:                    1.041e+08\n",
      "Date:                Tue, 29 Oct 2024 Prob (F-statistic):             1.110e-16\n",
      "Time:                06:46:49     Log-Likelihood:                883213.752\n",
      "No. Observations:    1000000      AIC:                         -1766394.505\n",
      "Df Residuals:        999989       BIC:                         -4604152.600\n",
      "Df Model:            10          \n",
      "Covariance Type:            nonrobust\n",
      "==============================================================================\n",
      "                       coef    std err          t        P>|t|     [0.025     0.975]\n",
      "------------------------------------------------------------------------------\n",
      "           const    0.0976     0.000    975.642       0.000     0.097     0.098\n",
      "              x1   -1.1889     0.000 -11878.419       0.000    -1.189    -1.189\n",
      "              x2    0.4806     0.000   4804.101       0.000     0.480     0.481\n",
      "              x3   -0.9644     0.000  -9645.708       0.000    -0.965    -0.964\n",
      "              x4    0.9713     0.000   9708.480       0.000     0.971     0.971\n",
      "              x5   -1.0871     0.000 -10869.747       0.000    -1.087    -1.087\n",
      "              x6    1.1873     0.000  11855.227       0.000     1.187     1.188\n",
      "              x7   -0.7964     0.000  -7963.977       0.000    -0.797    -0.796\n",
      "              x8   -1.1283     0.000 -11279.270       0.000    -1.129    -1.128\n",
      "              x9    0.7676     0.000   7677.001       0.000     0.767     0.768\n",
      "             x10    1.3408     0.000  13381.100       0.000     1.341     1.341\n",
      "==============================================================================\n",
      "Omnibus:                     nan Durbin-Watson:                           nan\n",
      "Prob(Omnibus):               nan Jarque-Bera (JB):                        nan\n",
      "Skew:                        nan Prob(JB):                                nan\n",
      "Kurtosis:                    nan Cond. No.:                              1.01\n",
      "==============================================================================\n",
      "[1] Standard Errors assume that the covariance matrix of the errors is correctly specified.\n",
      "\n",
      "Summary for n=1,000,000:\n",
      "  Mean time: 0.92s ± 0.19s\n",
      "  Mean R²: 0.9990 ± 0.0000\n",
      "\n",
      "Benchmarking for n=5,000,000 samples...\n",
      "\n",
      "Summary for final run:\n",
      "==============================================================================\n",
      "                            OLS Regression Results                            \n",
      "==============================================================================\n",
      "Dep. Variable:       y            R-squared:                          0.999\n",
      "Model:               OLS          Adj. R-squared:                     0.999\n",
      "Method:              Least Squares F-statistic:                    5.208e+08\n",
      "Date:                Tue, 29 Oct 2024 Prob (F-statistic):             1.110e-16\n",
      "Time:                06:48:01     Log-Likelihood:               4420705.892\n",
      "No. Observations:    5000000      AIC:                         -8841378.783\n",
      "Df Residuals:        4999989      BIC:                        -23030627.441\n",
      "Df Model:            10          \n",
      "Covariance Type:            nonrobust\n",
      "==============================================================================\n",
      "                       coef    std err          t        P>|t|     [0.025     0.975]\n",
      "------------------------------------------------------------------------------\n",
      "           const    0.0977     0.000   2186.098       0.000     0.098     0.098\n",
      "              x1   -1.1890     0.000 -26607.724       0.000    -1.189    -1.189\n",
      "              x2    0.4806     0.000  10757.300       0.000     0.481     0.481\n",
      "              x3   -0.9645     0.000 -21579.506       0.000    -0.965    -0.964\n",
      "              x4    0.9713     0.000  21733.896       0.000     0.971     0.971\n",
      "              x5   -1.0873     0.000 -24318.794       0.000    -1.087    -1.087\n",
      "              x6    1.1874     0.000  26580.395       0.000     1.187     1.187\n",
      "              x7   -0.7962     0.000 -17805.266       0.000    -0.796    -0.796\n",
      "              x8   -1.1283     0.000 -25250.787       0.000    -1.128    -1.128\n",
      "              x9    0.7676     0.000  17172.994       0.000     0.767     0.768\n",
      "             x10    1.3408     0.000  29993.756       0.000     1.341     1.341\n",
      "==============================================================================\n",
      "Omnibus:                     nan Durbin-Watson:                           nan\n",
      "Prob(Omnibus):               nan Jarque-Bera (JB):                        nan\n",
      "Skew:                        nan Prob(JB):                                nan\n",
      "Kurtosis:                    nan Cond. No.:                              1.00\n",
      "==============================================================================\n",
      "[1] Standard Errors assume that the covariance matrix of the errors is correctly specified.\n",
      "\n",
      "Summary for n=5,000,000:\n",
      "  Mean time: 4.93s ± 0.65s\n",
      "  Mean R²: 0.9990 ± 0.0000\n",
      "\n",
      "Benchmarking for n=10,000,000 samples...\n",
      "\n",
      "Summary for final run:\n",
      "==============================================================================\n",
      "                            OLS Regression Results                            \n",
      "==============================================================================\n",
      "Dep. Variable:       y            R-squared:                          0.999\n",
      "Model:               OLS          Adj. R-squared:                     0.999\n",
      "Method:              Least Squares F-statistic:                    1.040e+09\n",
      "Date:                Tue, 29 Oct 2024 Prob (F-statistic):             1.110e-16\n",
      "Time:                06:50:17     Log-Likelihood:               8835118.366\n",
      "No. Observations:    10000000     AIC:                        -17670203.733\n",
      "Df Residuals:        9999989      BIC:                        -46048830.098\n",
      "Df Model:            10          \n",
      "Covariance Type:            nonrobust\n",
      "==============================================================================\n",
      "                       coef    std err          t        P>|t|     [0.025     0.975]\n",
      "------------------------------------------------------------------------------\n",
      "           const    0.0976     0.000   3085.454       0.000     0.098     0.098\n",
      "              x1   -1.1889     0.000 -37593.931       0.000    -1.189    -1.189\n",
      "              x2    0.4805     0.000  15193.158       0.000     0.480     0.481\n",
      "              x3   -0.9645     0.000 -30495.448       0.000    -0.965    -0.964\n",
      "              x4    0.9713     0.000  30714.337       0.000     0.971     0.971\n",
      "              x5   -1.0873     0.000 -34378.689       0.000    -1.087    -1.087\n",
      "              x6    1.1874     0.000  37534.309       0.000     1.187     1.187\n",
      "              x7   -0.7963     0.000 -25162.433       0.000    -0.796    -0.796\n",
      "              x8   -1.1282     0.000 -35695.010       0.000    -1.128    -1.128\n",
      "              x9    0.7675     0.000  24263.650       0.000     0.767     0.768\n",
      "             x10    1.3408     0.000  42394.128       0.000     1.341     1.341\n",
      "==============================================================================\n",
      "Omnibus:                     nan Durbin-Watson:                           nan\n",
      "Prob(Omnibus):               nan Jarque-Bera (JB):                        nan\n",
      "Skew:                        nan Prob(JB):                                nan\n",
      "Kurtosis:                    nan Cond. No.:                              1.00\n",
      "==============================================================================\n",
      "[1] Standard Errors assume that the covariance matrix of the errors is correctly specified.\n",
      "\n",
      "Summary for n=10,000,000:\n",
      "  Mean time: 9.14s ± 0.49s\n",
      "  Mean R²: 0.9990 ± 0.0000\n"
     ]
    }
   ],
   "source": [
    "results_numpy = run_benchmark_numpy(n_list=n_values, beta_true=beta_true, p=n_features) "
   ]
  },
  {
   "cell_type": "code",
   "execution_count": 61,
   "id": "8d3ba12d-a140-4aad-a7ce-39085b57220a",
   "metadata": {},
   "outputs": [
    {
     "data": {
      "text/html": [
       "<div>\n",
       "<style scoped>\n",
       "    .dataframe tbody tr th:only-of-type {\n",
       "        vertical-align: middle;\n",
       "    }\n",
       "\n",
       "    .dataframe tbody tr th {\n",
       "        vertical-align: top;\n",
       "    }\n",
       "\n",
       "    .dataframe thead th {\n",
       "        text-align: right;\n",
       "    }\n",
       "</style>\n",
       "<table border=\"1\" class=\"dataframe\">\n",
       "  <thead>\n",
       "    <tr style=\"text-align: right;\">\n",
       "      <th></th>\n",
       "      <th>n_samples</th>\n",
       "      <th>n_features</th>\n",
       "      <th>mean_time</th>\n",
       "      <th>std_time</th>\n",
       "      <th>mean_r_squared</th>\n",
       "      <th>std_r_squared</th>\n",
       "    </tr>\n",
       "  </thead>\n",
       "  <tbody>\n",
       "    <tr>\n",
       "      <th>0</th>\n",
       "      <td>200000</td>\n",
       "      <td>10</td>\n",
       "      <td>0.264353</td>\n",
       "      <td>0.176450</td>\n",
       "      <td>0.999040</td>\n",
       "      <td>3.983148e-06</td>\n",
       "    </tr>\n",
       "    <tr>\n",
       "      <th>1</th>\n",
       "      <td>500000</td>\n",
       "      <td>10</td>\n",
       "      <td>0.545938</td>\n",
       "      <td>0.211107</td>\n",
       "      <td>0.999042</td>\n",
       "      <td>2.227146e-06</td>\n",
       "    </tr>\n",
       "    <tr>\n",
       "      <th>2</th>\n",
       "      <td>1000000</td>\n",
       "      <td>10</td>\n",
       "      <td>0.919593</td>\n",
       "      <td>0.188071</td>\n",
       "      <td>0.999040</td>\n",
       "      <td>1.557318e-06</td>\n",
       "    </tr>\n",
       "    <tr>\n",
       "      <th>3</th>\n",
       "      <td>5000000</td>\n",
       "      <td>10</td>\n",
       "      <td>4.930542</td>\n",
       "      <td>0.650629</td>\n",
       "      <td>0.999040</td>\n",
       "      <td>8.271204e-07</td>\n",
       "    </tr>\n",
       "    <tr>\n",
       "      <th>4</th>\n",
       "      <td>10000000</td>\n",
       "      <td>10</td>\n",
       "      <td>9.140280</td>\n",
       "      <td>0.489890</td>\n",
       "      <td>0.999040</td>\n",
       "      <td>6.316811e-07</td>\n",
       "    </tr>\n",
       "  </tbody>\n",
       "</table>\n",
       "</div>"
      ],
      "text/plain": [
       "   n_samples  n_features  mean_time  std_time  mean_r_squared  std_r_squared\n",
       "0     200000          10   0.264353  0.176450        0.999040   3.983148e-06\n",
       "1     500000          10   0.545938  0.211107        0.999042   2.227146e-06\n",
       "2    1000000          10   0.919593  0.188071        0.999040   1.557318e-06\n",
       "3    5000000          10   4.930542  0.650629        0.999040   8.271204e-07\n",
       "4   10000000          10   9.140280  0.489890        0.999040   6.316811e-07"
      ]
     },
     "execution_count": 61,
     "metadata": {},
     "output_type": "execute_result"
    }
   ],
   "source": [
    "results_numpy"
   ]
  },
  {
   "cell_type": "code",
   "execution_count": 31,
   "id": "021f6785-85a3-4017-864c-451b67327a58",
   "metadata": {
    "scrolled": true
   },
   "outputs": [
    {
     "name": "stdout",
     "output_type": "stream",
     "text": [
      "\n",
      "Benchmarking for n=15,000,000 samples...\n",
      "\n",
      "Summary for final run:\n",
      "==============================================================================\n",
      "                            OLS Regression Results                            \n",
      "==============================================================================\n",
      "Dep. Variable:       y            R-squared:                          0.999\n",
      "Model:               OLS          Adj. R-squared:                     0.999\n",
      "Method:              Least Squares F-statistic:                    1.561e+09\n",
      "Date:                Tue, 29 Oct 2024 Prob (F-statistic):             1.110e-16\n",
      "Time:                06:53:34     Log-Likelihood:              13257322.666\n",
      "No. Observations:    15000000     AIC:                        -26514612.332\n",
      "Df Residuals:        14999989     BIC:                        -69082619.569\n",
      "Df Model:            10          \n",
      "Covariance Type:            nonrobust\n",
      "==============================================================================\n",
      "                       coef    std err          t        P>|t|     [0.025     0.975]\n",
      "------------------------------------------------------------------------------\n",
      "           const    0.0977     0.000   3782.856       0.000     0.098     0.098\n",
      "              x1   -1.1889     0.000 -46048.812       0.000    -1.189    -1.189\n",
      "              x2    0.4806     0.000  18618.763       0.000     0.481     0.481\n",
      "              x3   -0.9645     0.000 -37359.036       0.000    -0.965    -0.964\n",
      "              x4    0.9713     0.000  37628.535       0.000     0.971     0.971\n",
      "              x5   -1.0874     0.000 -42117.170       0.000    -1.087    -1.087\n",
      "              x6    1.1874     0.000  45991.778       0.000     1.187     1.187\n",
      "              x7   -0.7963     0.000 -30846.723       0.000    -0.796    -0.796\n",
      "              x8   -1.1282     0.000 -43710.472       0.000    -1.128    -1.128\n",
      "              x9    0.7675     0.000  29732.265       0.000     0.767     0.768\n",
      "             x10    1.3408     0.000  51929.550       0.000     1.341     1.341\n",
      "==============================================================================\n",
      "Omnibus:                     nan Durbin-Watson:                           nan\n",
      "Prob(Omnibus):               nan Jarque-Bera (JB):                        nan\n",
      "Skew:                        nan Prob(JB):                                nan\n",
      "Kurtosis:                    nan Cond. No.:                              1.00\n",
      "==============================================================================\n",
      "[1] Standard Errors assume that the covariance matrix of the errors is correctly specified.\n",
      "\n",
      "Summary for n=15,000,000:\n",
      "  Mean time: 12.72s ± 0.27s\n",
      "  Mean R²: 0.9990 ± 0.0000\n",
      "\n",
      "Benchmarking for n=20,000,000 samples...\n",
      "\n",
      "Summary for final run:\n",
      "==============================================================================\n",
      "                            OLS Regression Results                            \n",
      "==============================================================================\n",
      "Dep. Variable:       y            R-squared:                          0.999\n",
      "Model:               OLS          Adj. R-squared:                     0.999\n",
      "Method:              Least Squares F-statistic:                    2.082e+09\n",
      "Date:                Tue, 29 Oct 2024 Prob (F-statistic):             1.110e-16\n",
      "Time:                06:57:46     Log-Likelihood:              17675980.900\n",
      "No. Observations:    20000000     AIC:                        -35351928.800\n",
      "Df Residuals:        19999989     BIC:                        -92109318.204\n",
      "Df Model:            10          \n",
      "Covariance Type:            nonrobust\n",
      "==============================================================================\n",
      "                       coef    std err          t        P>|t|     [0.025     0.975]\n",
      "------------------------------------------------------------------------------\n",
      "           const    0.0976     0.000   4365.921       0.000     0.098     0.098\n",
      "              x1   -1.1889     0.000 -53170.335       0.000    -1.189    -1.189\n",
      "              x2    0.4806     0.000  21499.741       0.000     0.481     0.481\n",
      "              x3   -0.9645     0.000 -43139.932       0.000    -0.965    -0.964\n",
      "              x4    0.9713     0.000  43447.130       0.000     0.971     0.971\n",
      "              x5   -1.0874     0.000 -48643.794       0.000    -1.087    -1.087\n",
      "              x6    1.1874     0.000  53113.940       0.000     1.187     1.187\n",
      "              x7   -0.7963     0.000 -35613.744       0.000    -0.796    -0.796\n",
      "              x8   -1.1282     0.000 -50457.537       0.000    -1.128    -1.128\n",
      "              x9    0.7675     0.000  34327.562       0.000     0.767     0.768\n",
      "             x10    1.3408     0.000  59973.525       0.000     1.341     1.341\n",
      "==============================================================================\n",
      "Omnibus:                     nan Durbin-Watson:                           nan\n",
      "Prob(Omnibus):               nan Jarque-Bera (JB):                        nan\n",
      "Skew:                        nan Prob(JB):                                nan\n",
      "Kurtosis:                    nan Cond. No.:                              1.00\n",
      "==============================================================================\n",
      "[1] Standard Errors assume that the covariance matrix of the errors is correctly specified.\n",
      "\n",
      "Summary for n=20,000,000:\n",
      "  Mean time: 16.07s ± 0.21s\n",
      "  Mean R²: 0.9990 ± 0.0000\n",
      "\n",
      "Benchmarking for n=25,000,000 samples...\n",
      "\n",
      "Summary for final run:\n",
      "==============================================================================\n",
      "                            OLS Regression Results                            \n",
      "==============================================================================\n",
      "Dep. Variable:       y            R-squared:                          0.999\n",
      "Model:               OLS          Adj. R-squared:                     0.999\n",
      "Method:              Least Squares F-statistic:                    2.601e+09\n",
      "Date:                Tue, 29 Oct 2024 Prob (F-statistic):             1.110e-16\n",
      "Time:                07:03:01     Log-Likelihood:              22094316.927\n",
      "No. Observations:    25000000     AIC:                        -44188600.854\n",
      "Df Residuals:        24999989     BIC:                       -115135373.136\n",
      "Df Model:            10          \n",
      "Covariance Type:            nonrobust\n",
      "==============================================================================\n",
      "                       coef    std err          t        P>|t|     [0.025     0.975]\n",
      "------------------------------------------------------------------------------\n",
      "           const    0.0977     0.000   4883.249       0.000     0.098     0.098\n",
      "              x1   -1.1889     0.000 -59451.828       0.000    -1.189    -1.189\n",
      "              x2    0.4805     0.000  24032.786       0.000     0.480     0.481\n",
      "              x3   -0.9645     0.000 -48232.456       0.000    -0.965    -0.964\n",
      "              x4    0.9713     0.000  48572.769       0.000     0.971     0.971\n",
      "              x5   -1.0874     0.000 -54374.930       0.000    -1.087    -1.087\n",
      "              x6    1.1874     0.000  59375.922       0.000     1.187     1.187\n",
      "              x7   -0.7963     0.000 -39832.496       0.000    -0.796    -0.796\n",
      "              x8   -1.1282     0.000 -56418.544       0.000    -1.128    -1.128\n",
      "              x9    0.7675     0.000  38384.278       0.000     0.767     0.768\n",
      "             x10    1.3408     0.000  67055.927       0.000     1.341     1.341\n",
      "==============================================================================\n",
      "Omnibus:                     nan Durbin-Watson:                           nan\n",
      "Prob(Omnibus):               nan Jarque-Bera (JB):                        nan\n",
      "Skew:                        nan Prob(JB):                                nan\n",
      "Kurtosis:                    nan Cond. No.:                              1.00\n",
      "==============================================================================\n",
      "[1] Standard Errors assume that the covariance matrix of the errors is correctly specified.\n",
      "\n",
      "Summary for n=25,000,000:\n",
      "  Mean time: 19.96s ± 0.19s\n",
      "  Mean R²: 0.9990 ± 0.0000\n",
      "\n",
      "Benchmarking for n=30,000,000 samples...\n",
      "\n",
      "Summary for final run:\n",
      "==============================================================================\n",
      "                            OLS Regression Results                            \n",
      "==============================================================================\n",
      "Dep. Variable:       y            R-squared:                          0.999\n",
      "Model:               OLS          Adj. R-squared:                     0.999\n",
      "Method:              Least Squares F-statistic:                    3.121e+09\n",
      "Date:                Tue, 29 Oct 2024 Prob (F-statistic):             1.110e-16\n",
      "Time:                07:09:22     Log-Likelihood:              26512080.118\n",
      "No. Observations:    30000000     AIC:                        -53024127.236\n",
      "Df Residuals:        29999989     BIC:                       -138160282.844\n",
      "Df Model:            10          \n",
      "Covariance Type:            nonrobust\n",
      "==============================================================================\n",
      "                       coef    std err          t        P>|t|     [0.025     0.975]\n",
      "------------------------------------------------------------------------------\n",
      "           const    0.0976     0.000   5348.192       0.000     0.098     0.098\n",
      "              x1   -1.1889     0.000 -65108.086       0.000    -1.189    -1.189\n",
      "              x2    0.4806     0.000  26325.266       0.000     0.481     0.481\n",
      "              x3   -0.9645     0.000 -52840.877       0.000    -0.965    -0.964\n",
      "              x4    0.9713     0.000  53205.649       0.000     0.971     0.971\n",
      "              x5   -1.0873     0.000 -59569.606       0.000    -1.087    -1.087\n",
      "              x6    1.1875     0.000  65037.946       0.000     1.187     1.187\n",
      "              x7   -0.7963     0.000 -43615.941       0.000    -0.796    -0.796\n",
      "              x8   -1.1282     0.000 -61798.591       0.000    -1.128    -1.128\n",
      "              x9    0.7675     0.000  42036.547       0.000     0.767     0.768\n",
      "             x10    1.3408     0.000  73446.406       0.000     1.341     1.341\n",
      "==============================================================================\n",
      "Omnibus:                     nan Durbin-Watson:                           nan\n",
      "Prob(Omnibus):               nan Jarque-Bera (JB):                        nan\n",
      "Skew:                        nan Prob(JB):                                nan\n",
      "Kurtosis:                    nan Cond. No.:                              1.00\n",
      "==============================================================================\n",
      "[1] Standard Errors assume that the covariance matrix of the errors is correctly specified.\n",
      "\n",
      "Summary for n=30,000,000:\n",
      "  Mean time: 24.02s ± 0.16s\n",
      "  Mean R²: 0.9990 ± 0.0000\n",
      "\n",
      "Benchmarking for n=35,000,000 samples...\n",
      "\n",
      "Summary for final run:\n",
      "==============================================================================\n",
      "                            OLS Regression Results                            \n",
      "==============================================================================\n",
      "Dep. Variable:       y            R-squared:                          0.999\n",
      "Model:               OLS          Adj. R-squared:                     0.999\n",
      "Method:              Least Squares F-statistic:                    3.642e+09\n",
      "Date:                Tue, 29 Oct 2024 Prob (F-statistic):             1.110e-16\n",
      "Time:                07:17:00     Log-Likelihood:              30924496.927\n",
      "No. Observations:    35000000     AIC:                        -61848960.855\n",
      "Df Residuals:        34999989     BIC:                       -161174500.100\n",
      "Df Model:            10          \n",
      "Covariance Type:            nonrobust\n",
      "==============================================================================\n",
      "                       coef    std err          t        P>|t|     [0.025     0.975]\n",
      "------------------------------------------------------------------------------\n",
      "           const    0.0976     0.000   5775.192       0.000     0.098     0.098\n",
      "              x1   -1.1889     0.000 -70328.465       0.000    -1.189    -1.189\n",
      "              x2    0.4805     0.000  28421.786       0.000     0.481     0.481\n",
      "              x3   -0.9645     0.000 -57056.576       0.000    -0.965    -0.964\n",
      "              x4    0.9713     0.000  57456.657       0.000     0.971     0.971\n",
      "              x5   -1.0874     0.000 -64318.995       0.000    -1.087    -1.087\n",
      "              x6    1.1874     0.000  70243.163       0.000     1.187     1.187\n",
      "              x7   -0.7963     0.000 -47120.757       0.000    -0.796    -0.796\n",
      "              x8   -1.1282     0.000 -66745.773       0.000    -1.128    -1.128\n",
      "              x9    0.7675     0.000  45399.882       0.000     0.767     0.768\n",
      "             x10    1.3408     0.000  79317.844       0.000     1.341     1.341\n",
      "==============================================================================\n",
      "Omnibus:                     nan Durbin-Watson:                           nan\n",
      "Prob(Omnibus):               nan Jarque-Bera (JB):                        nan\n",
      "Skew:                        nan Prob(JB):                                nan\n",
      "Kurtosis:                    nan Cond. No.:                              1.00\n",
      "==============================================================================\n",
      "[1] Standard Errors assume that the covariance matrix of the errors is correctly specified.\n",
      "\n",
      "Summary for n=35,000,000:\n",
      "  Mean time: 29.16s ± 1.29s\n",
      "  Mean R²: 0.9990 ± 0.0000\n"
     ]
    }
   ],
   "source": [
    "results_numpy2 = run_benchmark_numpy(n_list=n_values2, beta_true=beta_true, p=n_features)"
   ]
  },
  {
   "cell_type": "code",
   "execution_count": 62,
   "id": "2858e181-99ef-419b-9e47-ac8f7dee1d6b",
   "metadata": {},
   "outputs": [],
   "source": [
    "results_numpy_df = pd.concat([results_numpy, results_numpy2], ignore_index=True)"
   ]
  },
  {
   "cell_type": "code",
   "execution_count": 66,
   "id": "68259486-0220-4798-992c-7aa26fc4b030",
   "metadata": {},
   "outputs": [
    {
     "data": {
      "text/html": [
       "<div>\n",
       "<style scoped>\n",
       "    .dataframe tbody tr th:only-of-type {\n",
       "        vertical-align: middle;\n",
       "    }\n",
       "\n",
       "    .dataframe tbody tr th {\n",
       "        vertical-align: top;\n",
       "    }\n",
       "\n",
       "    .dataframe thead th {\n",
       "        text-align: right;\n",
       "    }\n",
       "</style>\n",
       "<table border=\"1\" class=\"dataframe\">\n",
       "  <thead>\n",
       "    <tr style=\"text-align: right;\">\n",
       "      <th></th>\n",
       "      <th>n_samples</th>\n",
       "      <th>n_features</th>\n",
       "      <th>mean_time</th>\n",
       "      <th>std_time</th>\n",
       "      <th>mean_r_squared</th>\n",
       "      <th>std_r_squared</th>\n",
       "    </tr>\n",
       "  </thead>\n",
       "  <tbody>\n",
       "    <tr>\n",
       "      <th>0</th>\n",
       "      <td>200000</td>\n",
       "      <td>10</td>\n",
       "      <td>0.264353</td>\n",
       "      <td>0.176450</td>\n",
       "      <td>0.999040</td>\n",
       "      <td>3.983148e-06</td>\n",
       "    </tr>\n",
       "    <tr>\n",
       "      <th>1</th>\n",
       "      <td>500000</td>\n",
       "      <td>10</td>\n",
       "      <td>0.545938</td>\n",
       "      <td>0.211107</td>\n",
       "      <td>0.999042</td>\n",
       "      <td>2.227146e-06</td>\n",
       "    </tr>\n",
       "    <tr>\n",
       "      <th>2</th>\n",
       "      <td>1000000</td>\n",
       "      <td>10</td>\n",
       "      <td>0.919593</td>\n",
       "      <td>0.188071</td>\n",
       "      <td>0.999040</td>\n",
       "      <td>1.557318e-06</td>\n",
       "    </tr>\n",
       "    <tr>\n",
       "      <th>3</th>\n",
       "      <td>5000000</td>\n",
       "      <td>10</td>\n",
       "      <td>4.930542</td>\n",
       "      <td>0.650629</td>\n",
       "      <td>0.999040</td>\n",
       "      <td>8.271204e-07</td>\n",
       "    </tr>\n",
       "    <tr>\n",
       "      <th>4</th>\n",
       "      <td>10000000</td>\n",
       "      <td>10</td>\n",
       "      <td>9.140280</td>\n",
       "      <td>0.489890</td>\n",
       "      <td>0.999040</td>\n",
       "      <td>6.316811e-07</td>\n",
       "    </tr>\n",
       "    <tr>\n",
       "      <th>5</th>\n",
       "      <td>15000000</td>\n",
       "      <td>10</td>\n",
       "      <td>12.722001</td>\n",
       "      <td>0.267729</td>\n",
       "      <td>0.999040</td>\n",
       "      <td>1.974655e-07</td>\n",
       "    </tr>\n",
       "    <tr>\n",
       "      <th>6</th>\n",
       "      <td>20000000</td>\n",
       "      <td>10</td>\n",
       "      <td>16.073033</td>\n",
       "      <td>0.212598</td>\n",
       "      <td>0.999040</td>\n",
       "      <td>4.352536e-07</td>\n",
       "    </tr>\n",
       "    <tr>\n",
       "      <th>7</th>\n",
       "      <td>25000000</td>\n",
       "      <td>10</td>\n",
       "      <td>19.955422</td>\n",
       "      <td>0.188008</td>\n",
       "      <td>0.999040</td>\n",
       "      <td>2.781232e-07</td>\n",
       "    </tr>\n",
       "    <tr>\n",
       "      <th>8</th>\n",
       "      <td>30000000</td>\n",
       "      <td>10</td>\n",
       "      <td>24.019758</td>\n",
       "      <td>0.159221</td>\n",
       "      <td>0.999040</td>\n",
       "      <td>2.755813e-07</td>\n",
       "    </tr>\n",
       "    <tr>\n",
       "      <th>9</th>\n",
       "      <td>35000000</td>\n",
       "      <td>10</td>\n",
       "      <td>29.157389</td>\n",
       "      <td>1.294133</td>\n",
       "      <td>0.999040</td>\n",
       "      <td>2.449528e-07</td>\n",
       "    </tr>\n",
       "  </tbody>\n",
       "</table>\n",
       "</div>"
      ],
      "text/plain": [
       "   n_samples  n_features  mean_time  std_time  mean_r_squared  std_r_squared\n",
       "0     200000          10   0.264353  0.176450        0.999040   3.983148e-06\n",
       "1     500000          10   0.545938  0.211107        0.999042   2.227146e-06\n",
       "2    1000000          10   0.919593  0.188071        0.999040   1.557318e-06\n",
       "3    5000000          10   4.930542  0.650629        0.999040   8.271204e-07\n",
       "4   10000000          10   9.140280  0.489890        0.999040   6.316811e-07\n",
       "5   15000000          10  12.722001  0.267729        0.999040   1.974655e-07\n",
       "6   20000000          10  16.073033  0.212598        0.999040   4.352536e-07\n",
       "7   25000000          10  19.955422  0.188008        0.999040   2.781232e-07\n",
       "8   30000000          10  24.019758  0.159221        0.999040   2.755813e-07\n",
       "9   35000000          10  29.157389  1.294133        0.999040   2.449528e-07"
      ]
     },
     "execution_count": 66,
     "metadata": {},
     "output_type": "execute_result"
    }
   ],
   "source": [
    "results_numpy_df"
   ]
  },
  {
   "cell_type": "markdown",
   "id": "26997485-2f3b-4dd1-95cc-5efb1c860c6a",
   "metadata": {},
   "source": [
    "### 2.1.2)  Spark with manual QR decomposition"
   ]
  },
  {
   "cell_type": "code",
   "execution_count": 32,
   "id": "de869ab9-65a4-4416-950d-aa99543a5bab",
   "metadata": {
    "collapsed": true,
    "jupyter": {
     "outputs_hidden": true
    },
    "scrolled": true
   },
   "outputs": [
    {
     "name": "stdout",
     "output_type": "stream",
     "text": [
      "\n",
      "Benchmarking n=200,000 samples...\n"
     ]
    },
    {
     "name": "stderr",
     "output_type": "stream",
     "text": [
      "                                                                                \r"
     ]
    },
    {
     "name": "stdout",
     "output_type": "stream",
     "text": [
      "  Run 1: time=16.52s, R²=0.9990\n"
     ]
    },
    {
     "name": "stderr",
     "output_type": "stream",
     "text": [
      "                                                                                \r"
     ]
    },
    {
     "name": "stdout",
     "output_type": "stream",
     "text": [
      "  Run 2: time=5.55s, R²=0.9990\n"
     ]
    },
    {
     "name": "stderr",
     "output_type": "stream",
     "text": [
      "                                                                                \r"
     ]
    },
    {
     "name": "stdout",
     "output_type": "stream",
     "text": [
      "  Run 3: time=5.20s, R²=0.9990\n"
     ]
    },
    {
     "name": "stderr",
     "output_type": "stream",
     "text": [
      "                                                                                \r"
     ]
    },
    {
     "name": "stdout",
     "output_type": "stream",
     "text": [
      "  Run 4: time=4.73s, R²=0.9990\n"
     ]
    },
    {
     "name": "stderr",
     "output_type": "stream",
     "text": [
      "                                                                                \r"
     ]
    },
    {
     "name": "stdout",
     "output_type": "stream",
     "text": [
      "  Run 5: time=4.32s, R²=0.9990\n"
     ]
    },
    {
     "name": "stderr",
     "output_type": "stream",
     "text": [
      "                                                                                \r"
     ]
    },
    {
     "name": "stdout",
     "output_type": "stream",
     "text": [
      "  Run 6: time=4.14s, R²=0.9990\n"
     ]
    },
    {
     "name": "stderr",
     "output_type": "stream",
     "text": [
      "                                                                                \r"
     ]
    },
    {
     "name": "stdout",
     "output_type": "stream",
     "text": [
      "  Run 7: time=4.04s, R²=0.9990\n"
     ]
    },
    {
     "name": "stderr",
     "output_type": "stream",
     "text": [
      "                                                                                \r"
     ]
    },
    {
     "name": "stdout",
     "output_type": "stream",
     "text": [
      "  Run 8: time=4.08s, R²=0.9990\n"
     ]
    },
    {
     "name": "stderr",
     "output_type": "stream",
     "text": [
      "                                                                                \r"
     ]
    },
    {
     "name": "stdout",
     "output_type": "stream",
     "text": [
      "  Run 9: time=3.98s, R²=0.9990\n"
     ]
    },
    {
     "name": "stderr",
     "output_type": "stream",
     "text": [
      "                                                                                \r"
     ]
    },
    {
     "name": "stdout",
     "output_type": "stream",
     "text": [
      "  Run 10: time=4.10s, R²=0.9990\n",
      "==============================================================================\n",
      "                            OLS Regression Results                            \n",
      "==============================================================================\n",
      "Dep. Variable:       y            R-squared:                          0.999\n",
      "Model:               OLS          Adj. R-squared:                     0.999\n",
      "Method:              Least Squares F-statistic:                    2.086e+07\n",
      "Date:                Tue, 29 Oct 2024 Prob (F-statistic):             1.110e-16\n",
      "Time:                07:18:16     Log-Likelihood:                176894.633\n",
      "No. Observations:    200000       AIC:                          -921342.680\n",
      "Df Residuals:        199989       BIC:                          -921230.413\n",
      "Df Model:            10          \n",
      "Covariance Type:            nonrobust\n",
      "==============================================================================\n",
      "                       coef    std err          t        P>|t|     [0.025     0.975]\n",
      "------------------------------------------------------------------------------\n",
      "           const    0.0979     0.000    438.304       0.000     0.097     0.098\n",
      "              x1   -1.1889     0.000  -5314.712       0.000    -1.189    -1.188\n",
      "              x2    0.4808     0.000   2145.295       0.000     0.480     0.481\n",
      "              x3   -0.9646     0.000  -4324.319       0.000    -0.965    -0.964\n",
      "              x4    0.9711     0.000   4346.612       0.000     0.971     0.972\n",
      "              x5   -1.0870     0.000  -4872.954       0.000    -1.087    -1.087\n",
      "              x6    1.1878     0.000   5312.350       0.000     1.187     1.188\n",
      "              x7   -0.7962     0.000  -3558.916       0.000    -0.797    -0.796\n",
      "              x8   -1.1285     0.000  -5051.000       0.000    -1.129    -1.128\n",
      "              x9    0.7672     0.000   3429.868       0.000     0.767     0.768\n",
      "             x10    1.3408     0.000   6014.712       0.000     1.340     1.341\n",
      "==============================================================================\n",
      "Omnibus:                     nan Durbin-Watson:                           nan\n",
      "Prob(Omnibus):               nan Jarque-Bera (JB):                        nan\n",
      "Skew:                        nan Prob(JB):                                nan\n",
      "Kurtosis:                    nan Cond. No.:                              1.02\n",
      "==============================================================================\n",
      "[1] Standard Errors assume that the covariance matrix of the errors is correctly specified.\n",
      "\n",
      "Summary for n=200,000:\n",
      "  Mean time: 5.67s ± 3.65s\n",
      "  Mean R²: 0.9990 ± 0.0000\n",
      "\n",
      "Benchmarking n=500,000 samples...\n"
     ]
    },
    {
     "name": "stderr",
     "output_type": "stream",
     "text": [
      "                                                                                \r"
     ]
    },
    {
     "name": "stdout",
     "output_type": "stream",
     "text": [
      "  Run 1: time=8.71s, R²=0.9990\n"
     ]
    },
    {
     "name": "stderr",
     "output_type": "stream",
     "text": [
      "                                                                                \r"
     ]
    },
    {
     "name": "stdout",
     "output_type": "stream",
     "text": [
      "  Run 2: time=8.78s, R²=0.9990\n"
     ]
    },
    {
     "name": "stderr",
     "output_type": "stream",
     "text": [
      "                                                                                \r"
     ]
    },
    {
     "name": "stdout",
     "output_type": "stream",
     "text": [
      "  Run 3: time=8.77s, R²=0.9990\n"
     ]
    },
    {
     "name": "stderr",
     "output_type": "stream",
     "text": [
      "                                                                                \r"
     ]
    },
    {
     "name": "stdout",
     "output_type": "stream",
     "text": [
      "  Run 4: time=8.60s, R²=0.9990\n"
     ]
    },
    {
     "name": "stderr",
     "output_type": "stream",
     "text": [
      "                                                                                \r"
     ]
    },
    {
     "name": "stdout",
     "output_type": "stream",
     "text": [
      "  Run 5: time=8.68s, R²=0.9990\n"
     ]
    },
    {
     "name": "stderr",
     "output_type": "stream",
     "text": [
      "                                                                                \r"
     ]
    },
    {
     "name": "stdout",
     "output_type": "stream",
     "text": [
      "  Run 6: time=8.49s, R²=0.9990\n"
     ]
    },
    {
     "name": "stderr",
     "output_type": "stream",
     "text": [
      "                                                                                \r"
     ]
    },
    {
     "name": "stdout",
     "output_type": "stream",
     "text": [
      "  Run 7: time=8.43s, R²=0.9990\n"
     ]
    },
    {
     "name": "stderr",
     "output_type": "stream",
     "text": [
      "                                                                                \r"
     ]
    },
    {
     "name": "stdout",
     "output_type": "stream",
     "text": [
      "  Run 8: time=9.62s, R²=0.9990\n"
     ]
    },
    {
     "name": "stderr",
     "output_type": "stream",
     "text": [
      "                                                                                \r"
     ]
    },
    {
     "name": "stdout",
     "output_type": "stream",
     "text": [
      "  Run 9: time=9.37s, R²=0.9990\n"
     ]
    },
    {
     "name": "stderr",
     "output_type": "stream",
     "text": [
      "                                                                                \r"
     ]
    },
    {
     "name": "stdout",
     "output_type": "stream",
     "text": [
      "  Run 10: time=9.20s, R²=0.9990\n",
      "==============================================================================\n",
      "                            OLS Regression Results                            \n",
      "==============================================================================\n",
      "Dep. Variable:       y            R-squared:                          0.999\n",
      "Model:               OLS          Adj. R-squared:                     0.999\n",
      "Method:              Least Squares F-statistic:                    5.220e+07\n",
      "Date:                Tue, 29 Oct 2024 Prob (F-statistic):             1.110e-16\n",
      "Time:                07:19:45     Log-Likelihood:                442861.348\n",
      "No. Observations:    500000       AIC:                         -2304639.229\n",
      "Df Residuals:        499989       BIC:                         -2304516.883\n",
      "Df Model:            10          \n",
      "Covariance Type:            nonrobust\n",
      "==============================================================================\n",
      "                       coef    std err          t        P>|t|     [0.025     0.975]\n",
      "------------------------------------------------------------------------------\n",
      "           const    0.0977     0.000    692.367       0.000     0.097     0.098\n",
      "              x1   -1.1890     0.000  -8416.549       0.000    -1.189    -1.189\n",
      "              x2    0.4805     0.000   3403.192       0.000     0.480     0.481\n",
      "              x3   -0.9645     0.000  -6831.466       0.000    -0.965    -0.964\n",
      "              x4    0.9712     0.000   6885.585       0.000     0.971     0.972\n",
      "              x5   -1.0871     0.000  -7701.052       0.000    -1.087    -1.087\n",
      "              x6    1.1875     0.000   8406.878       0.000     1.187     1.188\n",
      "              x7   -0.7961     0.000  -5642.197       0.000    -0.796    -0.796\n",
      "              x8   -1.1283     0.000  -8002.423       0.000    -1.129    -1.128\n",
      "              x9    0.7674     0.000   5450.564       0.000     0.767     0.768\n",
      "             x10    1.3406     0.000   9506.693       0.000     1.340     1.341\n",
      "==============================================================================\n",
      "Omnibus:                     nan Durbin-Watson:                           nan\n",
      "Prob(Omnibus):               nan Jarque-Bera (JB):                        nan\n",
      "Skew:                        nan Prob(JB):                                nan\n",
      "Kurtosis:                    nan Cond. No.:                              1.01\n",
      "==============================================================================\n",
      "[1] Standard Errors assume that the covariance matrix of the errors is correctly specified.\n",
      "\n",
      "Summary for n=500,000:\n",
      "  Mean time: 8.87s ± 0.38s\n",
      "  Mean R²: 0.9990 ± 0.0000\n",
      "\n",
      "Benchmarking n=1,000,000 samples...\n"
     ]
    },
    {
     "name": "stderr",
     "output_type": "stream",
     "text": [
      "                                                                                \r"
     ]
    },
    {
     "name": "stdout",
     "output_type": "stream",
     "text": [
      "  Run 1: time=17.51s, R²=0.9990\n"
     ]
    },
    {
     "name": "stderr",
     "output_type": "stream",
     "text": [
      "                                                                                \r"
     ]
    },
    {
     "name": "stdout",
     "output_type": "stream",
     "text": [
      "  Run 2: time=17.49s, R²=0.9990\n"
     ]
    },
    {
     "name": "stderr",
     "output_type": "stream",
     "text": [
      "                                                                                \r"
     ]
    },
    {
     "name": "stdout",
     "output_type": "stream",
     "text": [
      "  Run 3: time=16.22s, R²=0.9990\n"
     ]
    },
    {
     "name": "stderr",
     "output_type": "stream",
     "text": [
      "                                                                                \r"
     ]
    },
    {
     "name": "stdout",
     "output_type": "stream",
     "text": [
      "  Run 4: time=16.44s, R²=0.9990\n"
     ]
    },
    {
     "name": "stderr",
     "output_type": "stream",
     "text": [
      "                                                                                \r"
     ]
    },
    {
     "name": "stdout",
     "output_type": "stream",
     "text": [
      "  Run 5: time=16.76s, R²=0.9990\n"
     ]
    },
    {
     "name": "stderr",
     "output_type": "stream",
     "text": [
      "                                                                                \r"
     ]
    },
    {
     "name": "stdout",
     "output_type": "stream",
     "text": [
      "  Run 6: time=16.42s, R²=0.9990\n"
     ]
    },
    {
     "name": "stderr",
     "output_type": "stream",
     "text": [
      "                                                                                \r"
     ]
    },
    {
     "name": "stdout",
     "output_type": "stream",
     "text": [
      "  Run 7: time=16.21s, R²=0.9990\n"
     ]
    },
    {
     "name": "stderr",
     "output_type": "stream",
     "text": [
      "                                                                                \r"
     ]
    },
    {
     "name": "stdout",
     "output_type": "stream",
     "text": [
      "  Run 8: time=16.29s, R²=0.9990\n"
     ]
    },
    {
     "name": "stderr",
     "output_type": "stream",
     "text": [
      "                                                                                \r"
     ]
    },
    {
     "name": "stdout",
     "output_type": "stream",
     "text": [
      "  Run 9: time=16.16s, R²=0.9990\n"
     ]
    },
    {
     "name": "stderr",
     "output_type": "stream",
     "text": [
      "                                                                                \r"
     ]
    },
    {
     "name": "stdout",
     "output_type": "stream",
     "text": [
      "  Run 10: time=16.25s, R²=0.9990\n",
      "==============================================================================\n",
      "                            OLS Regression Results                            \n",
      "==============================================================================\n",
      "Dep. Variable:       y            R-squared:                          0.999\n",
      "Model:               OLS          Adj. R-squared:                     0.999\n",
      "Method:              Least Squares F-statistic:                    1.040e+08\n",
      "Date:                Tue, 29 Oct 2024 Prob (F-statistic):             1.110e-16\n",
      "Time:                07:22:31     Log-Likelihood:                884632.775\n",
      "No. Observations:    1000000      AIC:                         -4607120.617\n",
      "Df Residuals:        999989       BIC:                         -4606990.647\n",
      "Df Model:            10          \n",
      "Covariance Type:            nonrobust\n",
      "==============================================================================\n",
      "                       coef    std err          t        P>|t|     [0.025     0.975]\n",
      "------------------------------------------------------------------------------\n",
      "           const    0.0976     0.000    976.659       0.000     0.097     0.098\n",
      "              x1   -1.1890     0.000 -11898.451       0.000    -1.189    -1.189\n",
      "              x2    0.4805     0.000   4816.417       0.000     0.480     0.481\n",
      "              x3   -0.9644     0.000  -9647.255       0.000    -0.965    -0.964\n",
      "              x4    0.9712     0.000   9725.952       0.000     0.971     0.971\n",
      "              x5   -1.0871     0.000 -10883.056       0.000    -1.087    -1.087\n",
      "              x6    1.1875     0.000  11886.839       0.000     1.187     1.188\n",
      "              x7   -0.7962     0.000  -7973.987       0.000    -0.796    -0.796\n",
      "              x8   -1.1281     0.000 -11290.020       0.000    -1.128    -1.128\n",
      "              x9    0.7675     0.000   7687.537       0.000     0.767     0.768\n",
      "             x10    1.3407     0.000  13427.195       0.000     1.340     1.341\n",
      "==============================================================================\n",
      "Omnibus:                     nan Durbin-Watson:                           nan\n",
      "Prob(Omnibus):               nan Jarque-Bera (JB):                        nan\n",
      "Skew:                        nan Prob(JB):                                nan\n",
      "Kurtosis:                    nan Cond. No.:                              1.00\n",
      "==============================================================================\n",
      "[1] Standard Errors assume that the covariance matrix of the errors is correctly specified.\n",
      "\n",
      "Summary for n=1,000,000:\n",
      "  Mean time: 16.58s ± 0.49s\n",
      "  Mean R²: 0.9990 ± 0.0000\n",
      "\n",
      "Benchmarking n=5,000,000 samples...\n"
     ]
    },
    {
     "name": "stderr",
     "output_type": "stream",
     "text": [
      "                                                                                \r"
     ]
    },
    {
     "name": "stdout",
     "output_type": "stream",
     "text": [
      "  Run 1: time=84.95s, R²=0.9990\n"
     ]
    },
    {
     "name": "stderr",
     "output_type": "stream",
     "text": [
      "                                                                                \r"
     ]
    },
    {
     "name": "stdout",
     "output_type": "stream",
     "text": [
      "  Run 2: time=81.72s, R²=0.9990\n"
     ]
    },
    {
     "name": "stderr",
     "output_type": "stream",
     "text": [
      "                                                                                \r"
     ]
    },
    {
     "name": "stdout",
     "output_type": "stream",
     "text": [
      "  Run 3: time=78.76s, R²=0.9990\n"
     ]
    },
    {
     "name": "stderr",
     "output_type": "stream",
     "text": [
      "                                                                                \r"
     ]
    },
    {
     "name": "stdout",
     "output_type": "stream",
     "text": [
      "  Run 4: time=78.93s, R²=0.9990\n"
     ]
    },
    {
     "name": "stderr",
     "output_type": "stream",
     "text": [
      "                                                                                \r"
     ]
    },
    {
     "name": "stdout",
     "output_type": "stream",
     "text": [
      "  Run 5: time=79.08s, R²=0.9990\n"
     ]
    },
    {
     "name": "stderr",
     "output_type": "stream",
     "text": [
      "                                                                                \r"
     ]
    },
    {
     "name": "stdout",
     "output_type": "stream",
     "text": [
      "  Run 6: time=79.08s, R²=0.9990\n"
     ]
    },
    {
     "name": "stderr",
     "output_type": "stream",
     "text": [
      "                                                                                \r"
     ]
    },
    {
     "name": "stdout",
     "output_type": "stream",
     "text": [
      "  Run 7: time=79.25s, R²=0.9990\n"
     ]
    },
    {
     "name": "stderr",
     "output_type": "stream",
     "text": [
      "                                                                                \r"
     ]
    },
    {
     "name": "stdout",
     "output_type": "stream",
     "text": [
      "  Run 8: time=81.17s, R²=0.9990\n"
     ]
    },
    {
     "name": "stderr",
     "output_type": "stream",
     "text": [
      "                                                                                \r"
     ]
    },
    {
     "name": "stdout",
     "output_type": "stream",
     "text": [
      "  Run 9: time=79.90s, R²=0.9990\n"
     ]
    },
    {
     "name": "stderr",
     "output_type": "stream",
     "text": [
      "                                                                                \r"
     ]
    },
    {
     "name": "stdout",
     "output_type": "stream",
     "text": [
      "  Run 10: time=78.47s, R²=0.9990\n",
      "==============================================================================\n",
      "                            OLS Regression Results                            \n",
      "==============================================================================\n",
      "Dep. Variable:       y            R-squared:                          0.999\n",
      "Model:               OLS          Adj. R-squared:                     0.999\n",
      "Method:              Least Squares F-statistic:                    5.201e+08\n",
      "Date:                Tue, 29 Oct 2024 Prob (F-statistic):             1.110e-16\n",
      "Time:                07:35:53     Log-Likelihood:               4418273.642\n",
      "No. Observations:    5000000      AIC:                        -23025910.616\n",
      "Df Residuals:        4999989      BIC:                        -23025762.942\n",
      "Df Model:            10          \n",
      "Covariance Type:            nonrobust\n",
      "==============================================================================\n",
      "                       coef    std err          t        P>|t|     [0.025     0.975]\n",
      "------------------------------------------------------------------------------\n",
      "           const    0.0977     0.000   2183.777       0.000     0.098     0.098\n",
      "              x1   -1.1890     0.000 -26597.123       0.000    -1.189    -1.189\n",
      "              x2    0.4807     0.000  10749.973       0.000     0.481     0.481\n",
      "              x3   -0.9644     0.000 -21577.498       0.000    -0.965    -0.964\n",
      "              x4    0.9712     0.000  21725.326       0.000     0.971     0.971\n",
      "              x5   -1.0873     0.000 -24310.340       0.000    -1.087    -1.087\n",
      "              x6    1.1874     0.000  26554.745       0.000     1.187     1.188\n",
      "              x7   -0.7963     0.000 -17802.864       0.000    -0.796    -0.796\n",
      "              x8   -1.1282     0.000 -25221.120       0.000    -1.128    -1.128\n",
      "              x9    0.7676     0.000  17167.471       0.000     0.767     0.768\n",
      "             x10    1.3408     0.000  29978.630       0.000     1.341     1.341\n",
      "==============================================================================\n",
      "Omnibus:                     nan Durbin-Watson:                           nan\n",
      "Prob(Omnibus):               nan Jarque-Bera (JB):                        nan\n",
      "Skew:                        nan Prob(JB):                                nan\n",
      "Kurtosis:                    nan Cond. No.:                              1.00\n",
      "==============================================================================\n",
      "[1] Standard Errors assume that the covariance matrix of the errors is correctly specified.\n",
      "\n",
      "Summary for n=5,000,000:\n",
      "  Mean time: 80.13s ± 1.89s\n",
      "  Mean R²: 0.9990 ± 0.0000\n",
      "\n",
      "Benchmarking n=10,000,000 samples...\n"
     ]
    },
    {
     "name": "stderr",
     "output_type": "stream",
     "text": [
      "                                                                                \r"
     ]
    },
    {
     "name": "stdout",
     "output_type": "stream",
     "text": [
      "  Run 1: time=158.78s, R²=0.9990\n"
     ]
    },
    {
     "name": "stderr",
     "output_type": "stream",
     "text": [
      "                                                                                \r"
     ]
    },
    {
     "name": "stdout",
     "output_type": "stream",
     "text": [
      "  Run 2: time=158.72s, R²=0.9990\n"
     ]
    },
    {
     "name": "stderr",
     "output_type": "stream",
     "text": [
      "                                                                                \r"
     ]
    },
    {
     "name": "stdout",
     "output_type": "stream",
     "text": [
      "  Run 3: time=159.89s, R²=0.9990\n"
     ]
    },
    {
     "name": "stderr",
     "output_type": "stream",
     "text": [
      "                                                                                \r"
     ]
    },
    {
     "name": "stdout",
     "output_type": "stream",
     "text": [
      "  Run 4: time=158.00s, R²=0.9990\n"
     ]
    },
    {
     "name": "stderr",
     "output_type": "stream",
     "text": [
      "                                                                                \r"
     ]
    },
    {
     "name": "stdout",
     "output_type": "stream",
     "text": [
      "  Run 5: time=157.91s, R²=0.9990\n"
     ]
    },
    {
     "name": "stderr",
     "output_type": "stream",
     "text": [
      "                                                                                \r"
     ]
    },
    {
     "name": "stdout",
     "output_type": "stream",
     "text": [
      "  Run 6: time=164.76s, R²=0.9990\n"
     ]
    },
    {
     "name": "stderr",
     "output_type": "stream",
     "text": [
      "                                                                                \r"
     ]
    },
    {
     "name": "stdout",
     "output_type": "stream",
     "text": [
      "  Run 7: time=161.06s, R²=0.9990\n"
     ]
    },
    {
     "name": "stderr",
     "output_type": "stream",
     "text": [
      "                                                                                \r"
     ]
    },
    {
     "name": "stdout",
     "output_type": "stream",
     "text": [
      "  Run 8: time=158.68s, R²=0.9990\n"
     ]
    },
    {
     "name": "stderr",
     "output_type": "stream",
     "text": [
      "                                                                                \r"
     ]
    },
    {
     "name": "stdout",
     "output_type": "stream",
     "text": [
      "  Run 9: time=159.06s, R²=0.9990\n"
     ]
    },
    {
     "name": "stderr",
     "output_type": "stream",
     "text": [
      "                                                                                \r"
     ]
    },
    {
     "name": "stdout",
     "output_type": "stream",
     "text": [
      "  Run 10: time=159.05s, R²=0.9990\n",
      "==============================================================================\n",
      "                            OLS Regression Results                            \n",
      "==============================================================================\n",
      "Dep. Variable:       y            R-squared:                          0.999\n",
      "Model:               OLS          Adj. R-squared:                     0.999\n",
      "Method:              Least Squares F-statistic:                    1.040e+09\n",
      "Date:                Tue, 29 Oct 2024 Prob (F-statistic):             1.110e-16\n",
      "Time:                08:02:32     Log-Likelihood:               8836217.233\n",
      "No. Observations:    10000000     AIC:                        -46051183.131\n",
      "Df Residuals:        9999989      BIC:                        -46051027.832\n",
      "Df Model:            10          \n",
      "Covariance Type:            nonrobust\n",
      "==============================================================================\n",
      "                       coef    std err          t        P>|t|     [0.025     0.975]\n",
      "------------------------------------------------------------------------------\n",
      "           const    0.0977     0.000   3088.355       0.000     0.098     0.098\n",
      "              x1   -1.1890     0.000 -37588.303       0.000    -1.189    -1.189\n",
      "              x2    0.4806     0.000  15200.999       0.000     0.481     0.481\n",
      "              x3   -0.9645     0.000 -30494.821       0.000    -0.965    -0.964\n",
      "              x4    0.9713     0.000  30723.747       0.000     0.971     0.971\n",
      "              x5   -1.0873     0.000 -34387.340       0.000    -1.087    -1.087\n",
      "              x6    1.1874     0.000  37551.544       0.000     1.187     1.187\n",
      "              x7   -0.7963     0.000 -25181.459       0.000    -0.796    -0.796\n",
      "              x8   -1.1283     0.000 -35673.356       0.000    -1.128    -1.128\n",
      "              x9    0.7675     0.000  24276.597       0.000     0.767     0.768\n",
      "             x10    1.3408     0.000  42401.326       0.000     1.341     1.341\n",
      "==============================================================================\n",
      "Omnibus:                     nan Durbin-Watson:                           nan\n",
      "Prob(Omnibus):               nan Jarque-Bera (JB):                        nan\n",
      "Skew:                        nan Prob(JB):                                nan\n",
      "Kurtosis:                    nan Cond. No.:                              1.00\n",
      "==============================================================================\n",
      "[1] Standard Errors assume that the covariance matrix of the errors is correctly specified.\n",
      "\n",
      "Summary for n=10,000,000:\n",
      "  Mean time: 159.59s ± 1.93s\n",
      "  Mean R²: 0.9990 ± 0.0000\n"
     ]
    }
   ],
   "source": [
    "results_point = []\n",
    "results_point = [run_benchmark_point(n=n, p=n_features, true_coefficients=beta_true) for n in n_values]"
   ]
  },
  {
   "cell_type": "code",
   "execution_count": 33,
   "id": "bf26993b-6f39-48c2-ad4f-6e9a548ba282",
   "metadata": {
    "collapsed": true,
    "jupyter": {
     "outputs_hidden": true
    },
    "scrolled": true
   },
   "outputs": [
    {
     "name": "stdout",
     "output_type": "stream",
     "text": [
      "\n",
      "Benchmarking n=15,000,000 samples...\n"
     ]
    },
    {
     "name": "stderr",
     "output_type": "stream",
     "text": [
      "                                                                                \r"
     ]
    },
    {
     "name": "stdout",
     "output_type": "stream",
     "text": [
      "  Run 1: time=236.37s, R²=0.9990\n"
     ]
    },
    {
     "name": "stderr",
     "output_type": "stream",
     "text": [
      "                                                                                \r"
     ]
    },
    {
     "name": "stdout",
     "output_type": "stream",
     "text": [
      "  Run 2: time=230.77s, R²=0.9990\n"
     ]
    },
    {
     "name": "stderr",
     "output_type": "stream",
     "text": [
      "                                                                                \r"
     ]
    },
    {
     "name": "stdout",
     "output_type": "stream",
     "text": [
      "  Run 3: time=231.09s, R²=0.9990\n"
     ]
    },
    {
     "name": "stderr",
     "output_type": "stream",
     "text": [
      "                                                                                \r"
     ]
    },
    {
     "name": "stdout",
     "output_type": "stream",
     "text": [
      "  Run 4: time=230.26s, R²=0.9990\n"
     ]
    },
    {
     "name": "stderr",
     "output_type": "stream",
     "text": [
      "                                                                                \r"
     ]
    },
    {
     "name": "stdout",
     "output_type": "stream",
     "text": [
      "  Run 5: time=231.09s, R²=0.9990\n"
     ]
    },
    {
     "name": "stderr",
     "output_type": "stream",
     "text": [
      "                                                                                \r"
     ]
    },
    {
     "name": "stdout",
     "output_type": "stream",
     "text": [
      "  Run 6: time=231.96s, R²=0.9990\n"
     ]
    },
    {
     "name": "stderr",
     "output_type": "stream",
     "text": [
      "                                                                                \r"
     ]
    },
    {
     "name": "stdout",
     "output_type": "stream",
     "text": [
      "  Run 7: time=230.45s, R²=0.9990\n"
     ]
    },
    {
     "name": "stderr",
     "output_type": "stream",
     "text": [
      "                                                                                \r"
     ]
    },
    {
     "name": "stdout",
     "output_type": "stream",
     "text": [
      "  Run 8: time=230.35s, R²=0.9990\n"
     ]
    },
    {
     "name": "stderr",
     "output_type": "stream",
     "text": [
      "                                                                                \r"
     ]
    },
    {
     "name": "stdout",
     "output_type": "stream",
     "text": [
      "  Run 9: time=229.82s, R²=0.9990\n"
     ]
    },
    {
     "name": "stderr",
     "output_type": "stream",
     "text": [
      "                                                                                \r"
     ]
    },
    {
     "name": "stdout",
     "output_type": "stream",
     "text": [
      "  Run 10: time=229.73s, R²=0.9990\n",
      "==============================================================================\n",
      "                            OLS Regression Results                            \n",
      "==============================================================================\n",
      "Dep. Variable:       y            R-squared:                          0.999\n",
      "Model:               OLS          Adj. R-squared:                     0.999\n",
      "Method:              Least Squares F-statistic:                    1.560e+09\n",
      "Date:                Tue, 29 Oct 2024 Prob (F-statistic):             1.110e-16\n",
      "Time:                08:41:09     Log-Likelihood:              13253276.389\n",
      "No. Observations:    15000000     AIC:                        -69074686.774\n",
      "Df Residuals:        14999989     BIC:                        -69074527.015\n",
      "Df Model:            10          \n",
      "Covariance Type:            nonrobust\n",
      "==============================================================================\n",
      "                       coef    std err          t        P>|t|     [0.025     0.975]\n",
      "------------------------------------------------------------------------------\n",
      "           const    0.0976     0.000   3779.938       0.000     0.098     0.098\n",
      "              x1   -1.1890     0.000 -46047.346       0.000    -1.189    -1.189\n",
      "              x2    0.4806     0.000  18607.194       0.000     0.481     0.481\n",
      "              x3   -0.9645     0.000 -37351.416       0.000    -0.965    -0.964\n",
      "              x4    0.9713     0.000  37608.799       0.000     0.971     0.971\n",
      "              x5   -1.0873     0.000 -42118.884       0.000    -1.087    -1.087\n",
      "              x6    1.1874     0.000  45987.886       0.000     1.187     1.187\n",
      "              x7   -0.7963     0.000 -30835.736       0.000    -0.796    -0.796\n",
      "              x8   -1.1282     0.000 -43692.976       0.000    -1.128    -1.128\n",
      "              x9    0.7675     0.000  29731.431       0.000     0.767     0.768\n",
      "             x10    1.3408     0.000  51923.580       0.000     1.341     1.341\n",
      "==============================================================================\n",
      "Omnibus:                     nan Durbin-Watson:                           nan\n",
      "Prob(Omnibus):               nan Jarque-Bera (JB):                        nan\n",
      "Skew:                        nan Prob(JB):                                nan\n",
      "Kurtosis:                    nan Cond. No.:                              1.00\n",
      "==============================================================================\n",
      "[1] Standard Errors assume that the covariance matrix of the errors is correctly specified.\n",
      "\n",
      "Summary for n=15,000,000:\n",
      "  Mean time: 231.19s ± 1.84s\n",
      "  Mean R²: 0.9990 ± 0.0000\n",
      "\n",
      "Benchmarking n=20,000,000 samples...\n"
     ]
    },
    {
     "name": "stderr",
     "output_type": "stream",
     "text": [
      "                                                                                \r"
     ]
    },
    {
     "name": "stdout",
     "output_type": "stream",
     "text": [
      "  Run 1: time=308.79s, R²=0.9990\n"
     ]
    },
    {
     "name": "stderr",
     "output_type": "stream",
     "text": [
      "                                                                                \r"
     ]
    },
    {
     "name": "stdout",
     "output_type": "stream",
     "text": [
      "  Run 2: time=306.01s, R²=0.9990\n"
     ]
    },
    {
     "name": "stderr",
     "output_type": "stream",
     "text": [
      "                                                                                \r"
     ]
    },
    {
     "name": "stdout",
     "output_type": "stream",
     "text": [
      "  Run 3: time=306.56s, R²=0.9990\n"
     ]
    },
    {
     "name": "stderr",
     "output_type": "stream",
     "text": [
      "                                                                                \r"
     ]
    },
    {
     "name": "stdout",
     "output_type": "stream",
     "text": [
      "  Run 4: time=306.28s, R²=0.9990\n"
     ]
    },
    {
     "name": "stderr",
     "output_type": "stream",
     "text": [
      "                                                                                \r"
     ]
    },
    {
     "name": "stdout",
     "output_type": "stream",
     "text": [
      "  Run 5: time=306.27s, R²=0.9990\n"
     ]
    },
    {
     "name": "stderr",
     "output_type": "stream",
     "text": [
      "                                                                                \r"
     ]
    },
    {
     "name": "stdout",
     "output_type": "stream",
     "text": [
      "  Run 6: time=306.38s, R²=0.9990\n"
     ]
    },
    {
     "name": "stderr",
     "output_type": "stream",
     "text": [
      "                                                                                \r"
     ]
    },
    {
     "name": "stdout",
     "output_type": "stream",
     "text": [
      "  Run 7: time=306.62s, R²=0.9990\n"
     ]
    },
    {
     "name": "stderr",
     "output_type": "stream",
     "text": [
      "                                                                                \r"
     ]
    },
    {
     "name": "stdout",
     "output_type": "stream",
     "text": [
      "  Run 8: time=305.95s, R²=0.9990\n"
     ]
    },
    {
     "name": "stderr",
     "output_type": "stream",
     "text": [
      "                                                                                \r"
     ]
    },
    {
     "name": "stdout",
     "output_type": "stream",
     "text": [
      "  Run 9: time=307.10s, R²=0.9990\n"
     ]
    },
    {
     "name": "stderr",
     "output_type": "stream",
     "text": [
      "                                                                                \r"
     ]
    },
    {
     "name": "stdout",
     "output_type": "stream",
     "text": [
      "  Run 10: time=306.04s, R²=0.9990\n",
      "==============================================================================\n",
      "                            OLS Regression Results                            \n",
      "==============================================================================\n",
      "Dep. Variable:       y            R-squared:                          0.999\n",
      "Model:               OLS          Adj. R-squared:                     0.999\n",
      "Method:              Least Squares F-statistic:                    2.080e+09\n",
      "Date:                Tue, 29 Oct 2024 Prob (F-statistic):             1.110e-16\n",
      "Time:                09:32:24     Log-Likelihood:              17673725.547\n",
      "No. Observations:    20000000     AIC:                        -92104970.421\n",
      "Df Residuals:        19999989     BIC:                        -92104807.498\n",
      "Df Model:            10          \n",
      "Covariance Type:            nonrobust\n",
      "==============================================================================\n",
      "                       coef    std err          t        P>|t|     [0.025     0.975]\n",
      "------------------------------------------------------------------------------\n",
      "           const    0.0976     0.000   4365.839       0.000     0.098     0.098\n",
      "              x1   -1.1890     0.000 -53167.583       0.000    -1.189    -1.189\n",
      "              x2    0.4806     0.000  21494.895       0.000     0.481     0.481\n",
      "              x3   -0.9645     0.000 -43131.987       0.000    -0.965    -0.964\n",
      "              x4    0.9713     0.000  43447.112       0.000     0.971     0.971\n",
      "              x5   -1.0873     0.000 -48625.091       0.000    -1.087    -1.087\n",
      "              x6    1.1875     0.000  53084.679       0.000     1.187     1.187\n",
      "              x7   -0.7963     0.000 -35619.167       0.000    -0.796    -0.796\n",
      "              x8   -1.1282     0.000 -50459.545       0.000    -1.128    -1.128\n",
      "              x9    0.7675     0.000  34332.150       0.000     0.767     0.768\n",
      "             x10    1.3408     0.000  59966.954       0.000     1.341     1.341\n",
      "==============================================================================\n",
      "Omnibus:                     nan Durbin-Watson:                           nan\n",
      "Prob(Omnibus):               nan Jarque-Bera (JB):                        nan\n",
      "Skew:                        nan Prob(JB):                                nan\n",
      "Kurtosis:                    nan Cond. No.:                              1.00\n",
      "==============================================================================\n",
      "[1] Standard Errors assume that the covariance matrix of the errors is correctly specified.\n",
      "\n",
      "Summary for n=20,000,000:\n",
      "  Mean time: 306.60s ± 0.80s\n",
      "  Mean R²: 0.9990 ± 0.0000\n",
      "\n",
      "Benchmarking n=25,000,000 samples...\n"
     ]
    },
    {
     "name": "stderr",
     "output_type": "stream",
     "text": [
      "                                                                                \r"
     ]
    },
    {
     "name": "stdout",
     "output_type": "stream",
     "text": [
      "  Run 1: time=384.82s, R²=0.9990\n"
     ]
    },
    {
     "name": "stderr",
     "output_type": "stream",
     "text": [
      "                                                                                \r"
     ]
    },
    {
     "name": "stdout",
     "output_type": "stream",
     "text": [
      "  Run 2: time=382.78s, R²=0.9990\n"
     ]
    },
    {
     "name": "stderr",
     "output_type": "stream",
     "text": [
      "                                                                                \r"
     ]
    },
    {
     "name": "stdout",
     "output_type": "stream",
     "text": [
      "  Run 3: time=382.60s, R²=0.9990\n"
     ]
    },
    {
     "name": "stderr",
     "output_type": "stream",
     "text": [
      "                                                                                \r"
     ]
    },
    {
     "name": "stdout",
     "output_type": "stream",
     "text": [
      "  Run 4: time=384.18s, R²=0.9990\n"
     ]
    },
    {
     "name": "stderr",
     "output_type": "stream",
     "text": [
      "                                                                                \r"
     ]
    },
    {
     "name": "stdout",
     "output_type": "stream",
     "text": [
      "  Run 5: time=383.43s, R²=0.9990\n"
     ]
    },
    {
     "name": "stderr",
     "output_type": "stream",
     "text": [
      "                                                                                \r"
     ]
    },
    {
     "name": "stdout",
     "output_type": "stream",
     "text": [
      "  Run 6: time=384.18s, R²=0.9990\n"
     ]
    },
    {
     "name": "stderr",
     "output_type": "stream",
     "text": [
      "                                                                                \r"
     ]
    },
    {
     "name": "stdout",
     "output_type": "stream",
     "text": [
      "  Run 7: time=384.93s, R²=0.9990\n"
     ]
    },
    {
     "name": "stderr",
     "output_type": "stream",
     "text": [
      "                                                                                \r"
     ]
    },
    {
     "name": "stdout",
     "output_type": "stream",
     "text": [
      "  Run 8: time=385.43s, R²=0.9990\n"
     ]
    },
    {
     "name": "stderr",
     "output_type": "stream",
     "text": [
      "                                                                                \r"
     ]
    },
    {
     "name": "stdout",
     "output_type": "stream",
     "text": [
      "  Run 9: time=385.53s, R²=0.9990\n"
     ]
    },
    {
     "name": "stderr",
     "output_type": "stream",
     "text": [
      "                                                                                \r"
     ]
    },
    {
     "name": "stdout",
     "output_type": "stream",
     "text": [
      "  Run 10: time=394.05s, R²=0.9990\n",
      "==============================================================================\n",
      "                            OLS Regression Results                            \n",
      "==============================================================================\n",
      "Dep. Variable:       y            R-squared:                          0.999\n",
      "Model:               OLS          Adj. R-squared:                     0.999\n",
      "Method:              Least Squares F-statistic:                    2.600e+09\n",
      "Date:                Tue, 29 Oct 2024 Prob (F-statistic):             1.110e-16\n",
      "Time:                10:36:48     Log-Likelihood:              22090627.077\n",
      "No. Observations:    25000000     AIC:                       -115128158.815\n",
      "Df Residuals:        24999989     BIC:                       -115127993.437\n",
      "Df Model:            10          \n",
      "Covariance Type:            nonrobust\n",
      "==============================================================================\n",
      "                       coef    std err          t        P>|t|     [0.025     0.975]\n",
      "------------------------------------------------------------------------------\n",
      "           const    0.0976     0.000   4881.177       0.000     0.098     0.098\n",
      "              x1   -1.1890     0.000 -59444.746       0.000    -1.189    -1.189\n",
      "              x2    0.4806     0.000  24031.752       0.000     0.481     0.481\n",
      "              x3   -0.9645     0.000 -48221.700       0.000    -0.965    -0.964\n",
      "              x4    0.9713     0.000  48565.667       0.000     0.971     0.971\n",
      "              x5   -1.0873     0.000 -54359.696       0.000    -1.087    -1.087\n",
      "              x6    1.1875     0.000  59383.768       0.000     1.187     1.188\n",
      "              x7   -0.7963     0.000 -39822.106       0.000    -0.796    -0.796\n",
      "              x8   -1.1282     0.000 -56391.428       0.000    -1.128    -1.128\n",
      "              x9    0.7675     0.000  38383.907       0.000     0.767     0.768\n",
      "             x10    1.3408     0.000  67045.525       0.000     1.341     1.341\n",
      "==============================================================================\n",
      "Omnibus:                     nan Durbin-Watson:                           nan\n",
      "Prob(Omnibus):               nan Jarque-Bera (JB):                        nan\n",
      "Skew:                        nan Prob(JB):                                nan\n",
      "Kurtosis:                    nan Cond. No.:                              1.00\n",
      "==============================================================================\n",
      "[1] Standard Errors assume that the covariance matrix of the errors is correctly specified.\n",
      "\n",
      "Summary for n=25,000,000:\n",
      "  Mean time: 385.19s ± 3.11s\n",
      "  Mean R²: 0.9990 ± 0.0000\n",
      "\n",
      "Benchmarking n=30,000,000 samples...\n"
     ]
    },
    {
     "name": "stderr",
     "output_type": "stream",
     "text": [
      "                                                                                \r"
     ]
    },
    {
     "name": "stdout",
     "output_type": "stream",
     "text": [
      "  Run 1: time=457.34s, R²=0.9990\n"
     ]
    },
    {
     "name": "stderr",
     "output_type": "stream",
     "text": [
      "                                                                                \r"
     ]
    },
    {
     "name": "stdout",
     "output_type": "stream",
     "text": [
      "  Run 2: time=450.35s, R²=0.9990\n"
     ]
    },
    {
     "name": "stderr",
     "output_type": "stream",
     "text": [
      "                                                                                \r"
     ]
    },
    {
     "name": "stdout",
     "output_type": "stream",
     "text": [
      "  Run 3: time=452.71s, R²=0.9990\n"
     ]
    },
    {
     "name": "stderr",
     "output_type": "stream",
     "text": [
      "                                                                                \r"
     ]
    },
    {
     "name": "stdout",
     "output_type": "stream",
     "text": [
      "  Run 4: time=450.74s, R²=0.9990\n"
     ]
    },
    {
     "name": "stderr",
     "output_type": "stream",
     "text": [
      "                                                                                \r"
     ]
    },
    {
     "name": "stdout",
     "output_type": "stream",
     "text": [
      "  Run 5: time=451.12s, R²=0.9990\n"
     ]
    },
    {
     "name": "stderr",
     "output_type": "stream",
     "text": [
      "                                                                                \r"
     ]
    },
    {
     "name": "stdout",
     "output_type": "stream",
     "text": [
      "  Run 6: time=451.83s, R²=0.9990\n"
     ]
    },
    {
     "name": "stderr",
     "output_type": "stream",
     "text": [
      "                                                                                \r"
     ]
    },
    {
     "name": "stdout",
     "output_type": "stream",
     "text": [
      "  Run 7: time=460.55s, R²=0.9990\n"
     ]
    },
    {
     "name": "stderr",
     "output_type": "stream",
     "text": [
      "                                                                                \r"
     ]
    },
    {
     "name": "stdout",
     "output_type": "stream",
     "text": [
      "  Run 8: time=455.41s, R²=0.9990\n"
     ]
    },
    {
     "name": "stderr",
     "output_type": "stream",
     "text": [
      "                                                                                \r"
     ]
    },
    {
     "name": "stdout",
     "output_type": "stream",
     "text": [
      "  Run 9: time=461.84s, R²=0.9990\n"
     ]
    },
    {
     "name": "stderr",
     "output_type": "stream",
     "text": [
      "                                                                                \r"
     ]
    },
    {
     "name": "stdout",
     "output_type": "stream",
     "text": [
      "  Run 10: time=457.08s, R²=0.9990\n",
      "==============================================================================\n",
      "                            OLS Regression Results                            \n",
      "==============================================================================\n",
      "Dep. Variable:       y            R-squared:                          0.999\n",
      "Model:               OLS          Adj. R-squared:                     0.999\n",
      "Method:              Least Squares F-statistic:                    3.120e+09\n",
      "Date:                Tue, 29 Oct 2024 Prob (F-statistic):             1.110e-16\n",
      "Time:                11:52:54     Log-Likelihood:              26509619.951\n",
      "No. Observations:    30000000     AIC:                       -138155529.894\n",
      "Df Residuals:        29999989     BIC:                       -138155362.511\n",
      "Df Model:            10          \n",
      "Covariance Type:            nonrobust\n",
      "==============================================================================\n",
      "                       coef    std err          t        P>|t|     [0.025     0.975]\n",
      "------------------------------------------------------------------------------\n",
      "           const    0.0976     0.000   5346.937       0.000     0.098     0.098\n",
      "              x1   -1.1890     0.000 -65132.452       0.000    -1.189    -1.189\n",
      "              x2    0.4806     0.000  26323.015       0.000     0.481     0.481\n",
      "              x3   -0.9645     0.000 -52840.016       0.000    -0.965    -0.964\n",
      "              x4    0.9713     0.000  53196.704       0.000     0.971     0.971\n",
      "              x5   -1.0873     0.000 -59553.156       0.000    -1.087    -1.087\n",
      "              x6    1.1875     0.000  65033.257       0.000     1.187     1.188\n",
      "              x7   -0.7963     0.000 -43616.830       0.000    -0.796    -0.796\n",
      "              x8   -1.1282     0.000 -61811.386       0.000    -1.128    -1.128\n",
      "              x9    0.7675     0.000  42034.628       0.000     0.767     0.768\n",
      "             x10    1.3408     0.000  73434.405       0.000     1.341     1.341\n",
      "==============================================================================\n",
      "Omnibus:                     nan Durbin-Watson:                           nan\n",
      "Prob(Omnibus):               nan Jarque-Bera (JB):                        nan\n",
      "Skew:                        nan Prob(JB):                                nan\n",
      "Kurtosis:                    nan Cond. No.:                              1.00\n",
      "==============================================================================\n",
      "[1] Standard Errors assume that the covariance matrix of the errors is correctly specified.\n",
      "\n",
      "Summary for n=30,000,000:\n",
      "  Mean time: 454.90s ± 3.97s\n",
      "  Mean R²: 0.9990 ± 0.0000\n",
      "\n",
      "Benchmarking n=35,000,000 samples...\n"
     ]
    },
    {
     "name": "stderr",
     "output_type": "stream",
     "text": [
      "                                                                                \r"
     ]
    },
    {
     "name": "stdout",
     "output_type": "stream",
     "text": [
      "  Run 1: time=535.97s, R²=0.9990\n"
     ]
    },
    {
     "name": "stderr",
     "output_type": "stream",
     "text": [
      "                                                                                \r"
     ]
    },
    {
     "name": "stdout",
     "output_type": "stream",
     "text": [
      "  Run 2: time=526.54s, R²=0.9990\n"
     ]
    },
    {
     "name": "stderr",
     "output_type": "stream",
     "text": [
      "                                                                                \r"
     ]
    },
    {
     "name": "stdout",
     "output_type": "stream",
     "text": [
      "  Run 3: time=532.37s, R²=0.9990\n"
     ]
    },
    {
     "name": "stderr",
     "output_type": "stream",
     "text": [
      "                                                                                \r"
     ]
    },
    {
     "name": "stdout",
     "output_type": "stream",
     "text": [
      "  Run 4: time=533.06s, R²=0.9990\n"
     ]
    },
    {
     "name": "stderr",
     "output_type": "stream",
     "text": [
      "                                                                                \r"
     ]
    },
    {
     "name": "stdout",
     "output_type": "stream",
     "text": [
      "  Run 5: time=532.52s, R²=0.9990\n"
     ]
    },
    {
     "name": "stderr",
     "output_type": "stream",
     "text": [
      "                                                                                \r"
     ]
    },
    {
     "name": "stdout",
     "output_type": "stream",
     "text": [
      "  Run 6: time=533.57s, R²=0.9990\n"
     ]
    },
    {
     "name": "stderr",
     "output_type": "stream",
     "text": [
      "                                                                                \r"
     ]
    },
    {
     "name": "stdout",
     "output_type": "stream",
     "text": [
      "  Run 7: time=533.06s, R²=0.9990\n"
     ]
    },
    {
     "name": "stderr",
     "output_type": "stream",
     "text": [
      "                                                                                \r"
     ]
    },
    {
     "name": "stdout",
     "output_type": "stream",
     "text": [
      "  Run 8: time=532.68s, R²=0.9990\n"
     ]
    },
    {
     "name": "stderr",
     "output_type": "stream",
     "text": [
      "                                                                                \r"
     ]
    },
    {
     "name": "stdout",
     "output_type": "stream",
     "text": [
      "  Run 9: time=533.81s, R²=0.9990\n"
     ]
    },
    {
     "name": "stderr",
     "output_type": "stream",
     "text": [
      "                                                                                \r"
     ]
    },
    {
     "name": "stdout",
     "output_type": "stream",
     "text": [
      "  Run 10: time=532.71s, R²=0.9990\n",
      "==============================================================================\n",
      "                            OLS Regression Results                            \n",
      "==============================================================================\n",
      "Dep. Variable:       y            R-squared:                          0.999\n",
      "Model:               OLS          Adj. R-squared:                     0.999\n",
      "Method:              Least Squares F-statistic:                    3.641e+09\n",
      "Date:                Tue, 29 Oct 2024 Prob (F-statistic):             1.110e-16\n",
      "Time:                13:22:01     Log-Likelihood:              30926362.416\n",
      "No. Observations:    35000000     AIC:                       -161178400.156\n",
      "Df Residuals:        34999989     BIC:                       -161178231.077\n",
      "Df Model:            10          \n",
      "Covariance Type:            nonrobust\n",
      "==============================================================================\n",
      "                       coef    std err          t        P>|t|     [0.025     0.975]\n",
      "------------------------------------------------------------------------------\n",
      "           const    0.0976     0.000   5775.426       0.000     0.098     0.098\n",
      "              x1   -1.1890     0.000 -70340.015       0.000    -1.189    -1.189\n",
      "              x2    0.4806     0.000  28433.941       0.000     0.481     0.481\n",
      "              x3   -0.9645     0.000 -57046.710       0.000    -0.965    -0.964\n",
      "              x4    0.9713     0.000  57468.559       0.000     0.971     0.971\n",
      "              x5   -1.0873     0.000 -64331.137       0.000    -1.087    -1.087\n",
      "              x6    1.1875     0.000  70255.210       0.000     1.187     1.188\n",
      "              x7   -0.7963     0.000 -47110.372       0.000    -0.796    -0.796\n",
      "              x8   -1.1282     0.000 -66748.345       0.000    -1.128    -1.128\n",
      "              x9    0.7675     0.000  45412.627       0.000     0.768     0.768\n",
      "             x10    1.3408     0.000  79318.852       0.000     1.341     1.341\n",
      "==============================================================================\n",
      "Omnibus:                     nan Durbin-Watson:                           nan\n",
      "Prob(Omnibus):               nan Jarque-Bera (JB):                        nan\n",
      "Skew:                        nan Prob(JB):                                nan\n",
      "Kurtosis:                    nan Cond. No.:                              1.00\n",
      "==============================================================================\n",
      "[1] Standard Errors assume that the covariance matrix of the errors is correctly specified.\n",
      "\n",
      "Summary for n=35,000,000:\n",
      "  Mean time: 532.63s ± 2.26s\n",
      "  Mean R²: 0.9990 ± 0.0000\n"
     ]
    }
   ],
   "source": [
    "results_point2 = [run_benchmark_point(n=n, p=n_features, true_coefficients=beta_true) for n in n_values2]"
   ]
  },
  {
   "cell_type": "code",
   "execution_count": 50,
   "id": "60124b28-336d-4cea-899d-a25a9d62e49a",
   "metadata": {},
   "outputs": [
    {
     "data": {
      "text/html": [
       "<div>\n",
       "<style scoped>\n",
       "    .dataframe tbody tr th:only-of-type {\n",
       "        vertical-align: middle;\n",
       "    }\n",
       "\n",
       "    .dataframe tbody tr th {\n",
       "        vertical-align: top;\n",
       "    }\n",
       "\n",
       "    .dataframe thead th {\n",
       "        text-align: right;\n",
       "    }\n",
       "</style>\n",
       "<table border=\"1\" class=\"dataframe\">\n",
       "  <thead>\n",
       "    <tr style=\"text-align: right;\">\n",
       "      <th></th>\n",
       "      <th>n_samples</th>\n",
       "      <th>n_features</th>\n",
       "      <th>mean_time</th>\n",
       "      <th>std_time</th>\n",
       "      <th>mean_r_squared</th>\n",
       "      <th>std_r_squared</th>\n",
       "      <th>successful_runs</th>\n",
       "    </tr>\n",
       "  </thead>\n",
       "  <tbody>\n",
       "    <tr>\n",
       "      <th>0</th>\n",
       "      <td>200000</td>\n",
       "      <td>10</td>\n",
       "      <td>5.666338</td>\n",
       "      <td>3.654084</td>\n",
       "      <td>0.999042</td>\n",
       "      <td>2.220446e-16</td>\n",
       "      <td>10</td>\n",
       "    </tr>\n",
       "    <tr>\n",
       "      <th>1</th>\n",
       "      <td>500000</td>\n",
       "      <td>10</td>\n",
       "      <td>8.865941</td>\n",
       "      <td>0.376182</td>\n",
       "      <td>0.999043</td>\n",
       "      <td>1.110223e-16</td>\n",
       "      <td>10</td>\n",
       "    </tr>\n",
       "    <tr>\n",
       "      <th>2</th>\n",
       "      <td>1000000</td>\n",
       "      <td>10</td>\n",
       "      <td>16.575382</td>\n",
       "      <td>0.489483</td>\n",
       "      <td>0.999039</td>\n",
       "      <td>0.000000e+00</td>\n",
       "      <td>10</td>\n",
       "    </tr>\n",
       "    <tr>\n",
       "      <th>3</th>\n",
       "      <td>5000000</td>\n",
       "      <td>10</td>\n",
       "      <td>80.131793</td>\n",
       "      <td>1.893848</td>\n",
       "      <td>0.999040</td>\n",
       "      <td>1.110223e-16</td>\n",
       "      <td>10</td>\n",
       "    </tr>\n",
       "    <tr>\n",
       "      <th>4</th>\n",
       "      <td>10000000</td>\n",
       "      <td>10</td>\n",
       "      <td>159.590770</td>\n",
       "      <td>1.927801</td>\n",
       "      <td>0.999040</td>\n",
       "      <td>0.000000e+00</td>\n",
       "      <td>10</td>\n",
       "    </tr>\n",
       "  </tbody>\n",
       "</table>\n",
       "</div>"
      ],
      "text/plain": [
       "   n_samples  n_features   mean_time  std_time  mean_r_squared  std_r_squared  \\\n",
       "0     200000          10    5.666338  3.654084        0.999042   2.220446e-16   \n",
       "1     500000          10    8.865941  0.376182        0.999043   1.110223e-16   \n",
       "2    1000000          10   16.575382  0.489483        0.999039   0.000000e+00   \n",
       "3    5000000          10   80.131793  1.893848        0.999040   1.110223e-16   \n",
       "4   10000000          10  159.590770  1.927801        0.999040   0.000000e+00   \n",
       "\n",
       "   successful_runs  \n",
       "0               10  \n",
       "1               10  \n",
       "2               10  \n",
       "3               10  \n",
       "4               10  "
      ]
     },
     "execution_count": 50,
     "metadata": {},
     "output_type": "execute_result"
    }
   ],
   "source": [
    "results_point_df = pd.concat(results_point , ignore_index=True)"
   ]
  },
  {
   "cell_type": "code",
   "execution_count": 51,
   "id": "88059a25-51b6-401a-9dc6-50d0c1c0886f",
   "metadata": {},
   "outputs": [
    {
     "data": {
      "text/html": [
       "<div>\n",
       "<style scoped>\n",
       "    .dataframe tbody tr th:only-of-type {\n",
       "        vertical-align: middle;\n",
       "    }\n",
       "\n",
       "    .dataframe tbody tr th {\n",
       "        vertical-align: top;\n",
       "    }\n",
       "\n",
       "    .dataframe thead th {\n",
       "        text-align: right;\n",
       "    }\n",
       "</style>\n",
       "<table border=\"1\" class=\"dataframe\">\n",
       "  <thead>\n",
       "    <tr style=\"text-align: right;\">\n",
       "      <th></th>\n",
       "      <th>n_samples</th>\n",
       "      <th>n_features</th>\n",
       "      <th>mean_time</th>\n",
       "      <th>std_time</th>\n",
       "      <th>mean_r_squared</th>\n",
       "      <th>std_r_squared</th>\n",
       "      <th>successful_runs</th>\n",
       "    </tr>\n",
       "  </thead>\n",
       "  <tbody>\n",
       "    <tr>\n",
       "      <th>0</th>\n",
       "      <td>15000000</td>\n",
       "      <td>10</td>\n",
       "      <td>231.189844</td>\n",
       "      <td>1.838073</td>\n",
       "      <td>0.999039</td>\n",
       "      <td>1.110223e-16</td>\n",
       "      <td>10</td>\n",
       "    </tr>\n",
       "    <tr>\n",
       "      <th>1</th>\n",
       "      <td>20000000</td>\n",
       "      <td>10</td>\n",
       "      <td>306.599324</td>\n",
       "      <td>0.799264</td>\n",
       "      <td>0.999039</td>\n",
       "      <td>0.000000e+00</td>\n",
       "      <td>10</td>\n",
       "    </tr>\n",
       "    <tr>\n",
       "      <th>2</th>\n",
       "      <td>25000000</td>\n",
       "      <td>10</td>\n",
       "      <td>385.193334</td>\n",
       "      <td>3.108170</td>\n",
       "      <td>0.999039</td>\n",
       "      <td>1.110223e-16</td>\n",
       "      <td>10</td>\n",
       "    </tr>\n",
       "    <tr>\n",
       "      <th>3</th>\n",
       "      <td>30000000</td>\n",
       "      <td>10</td>\n",
       "      <td>454.897410</td>\n",
       "      <td>3.969470</td>\n",
       "      <td>0.999040</td>\n",
       "      <td>1.110223e-16</td>\n",
       "      <td>10</td>\n",
       "    </tr>\n",
       "    <tr>\n",
       "      <th>4</th>\n",
       "      <td>35000000</td>\n",
       "      <td>10</td>\n",
       "      <td>532.630095</td>\n",
       "      <td>2.257321</td>\n",
       "      <td>0.999040</td>\n",
       "      <td>1.110223e-16</td>\n",
       "      <td>10</td>\n",
       "    </tr>\n",
       "  </tbody>\n",
       "</table>\n",
       "</div>"
      ],
      "text/plain": [
       "   n_samples  n_features   mean_time  std_time  mean_r_squared  std_r_squared  \\\n",
       "0   15000000          10  231.189844  1.838073        0.999039   1.110223e-16   \n",
       "1   20000000          10  306.599324  0.799264        0.999039   0.000000e+00   \n",
       "2   25000000          10  385.193334  3.108170        0.999039   1.110223e-16   \n",
       "3   30000000          10  454.897410  3.969470        0.999040   1.110223e-16   \n",
       "4   35000000          10  532.630095  2.257321        0.999040   1.110223e-16   \n",
       "\n",
       "   successful_runs  \n",
       "0               10  \n",
       "1               10  \n",
       "2               10  \n",
       "3               10  \n",
       "4               10  "
      ]
     },
     "execution_count": 51,
     "metadata": {},
     "output_type": "execute_result"
    }
   ],
   "source": [
    "results_point_df2 = pd.concat(results_point2, ignore_index=True)\n",
    "results_point_df2"
   ]
  },
  {
   "cell_type": "code",
   "execution_count": 55,
   "id": "ff87d300-71a8-434d-8885-42661b4477fd",
   "metadata": {},
   "outputs": [],
   "source": [
    "results_point_final =  pd.concat([results_point_df, results_point_df2], ignore_index=True)"
   ]
  },
  {
   "cell_type": "code",
   "execution_count": 56,
   "id": "89ce5a8c-2bb1-43d2-95bf-7e78729ef6dc",
   "metadata": {},
   "outputs": [
    {
     "data": {
      "text/html": [
       "<div>\n",
       "<style scoped>\n",
       "    .dataframe tbody tr th:only-of-type {\n",
       "        vertical-align: middle;\n",
       "    }\n",
       "\n",
       "    .dataframe tbody tr th {\n",
       "        vertical-align: top;\n",
       "    }\n",
       "\n",
       "    .dataframe thead th {\n",
       "        text-align: right;\n",
       "    }\n",
       "</style>\n",
       "<table border=\"1\" class=\"dataframe\">\n",
       "  <thead>\n",
       "    <tr style=\"text-align: right;\">\n",
       "      <th></th>\n",
       "      <th>n_samples</th>\n",
       "      <th>n_features</th>\n",
       "      <th>mean_time</th>\n",
       "      <th>std_time</th>\n",
       "      <th>mean_r_squared</th>\n",
       "      <th>std_r_squared</th>\n",
       "      <th>successful_runs</th>\n",
       "    </tr>\n",
       "  </thead>\n",
       "  <tbody>\n",
       "    <tr>\n",
       "      <th>0</th>\n",
       "      <td>200000</td>\n",
       "      <td>10</td>\n",
       "      <td>5.666338</td>\n",
       "      <td>3.654084</td>\n",
       "      <td>0.999042</td>\n",
       "      <td>2.220446e-16</td>\n",
       "      <td>10</td>\n",
       "    </tr>\n",
       "    <tr>\n",
       "      <th>1</th>\n",
       "      <td>500000</td>\n",
       "      <td>10</td>\n",
       "      <td>8.865941</td>\n",
       "      <td>0.376182</td>\n",
       "      <td>0.999043</td>\n",
       "      <td>1.110223e-16</td>\n",
       "      <td>10</td>\n",
       "    </tr>\n",
       "    <tr>\n",
       "      <th>2</th>\n",
       "      <td>1000000</td>\n",
       "      <td>10</td>\n",
       "      <td>16.575382</td>\n",
       "      <td>0.489483</td>\n",
       "      <td>0.999039</td>\n",
       "      <td>0.000000e+00</td>\n",
       "      <td>10</td>\n",
       "    </tr>\n",
       "    <tr>\n",
       "      <th>3</th>\n",
       "      <td>5000000</td>\n",
       "      <td>10</td>\n",
       "      <td>80.131793</td>\n",
       "      <td>1.893848</td>\n",
       "      <td>0.999040</td>\n",
       "      <td>1.110223e-16</td>\n",
       "      <td>10</td>\n",
       "    </tr>\n",
       "    <tr>\n",
       "      <th>4</th>\n",
       "      <td>10000000</td>\n",
       "      <td>10</td>\n",
       "      <td>159.590770</td>\n",
       "      <td>1.927801</td>\n",
       "      <td>0.999040</td>\n",
       "      <td>0.000000e+00</td>\n",
       "      <td>10</td>\n",
       "    </tr>\n",
       "    <tr>\n",
       "      <th>5</th>\n",
       "      <td>15000000</td>\n",
       "      <td>10</td>\n",
       "      <td>231.189844</td>\n",
       "      <td>1.838073</td>\n",
       "      <td>0.999039</td>\n",
       "      <td>1.110223e-16</td>\n",
       "      <td>10</td>\n",
       "    </tr>\n",
       "    <tr>\n",
       "      <th>6</th>\n",
       "      <td>20000000</td>\n",
       "      <td>10</td>\n",
       "      <td>306.599324</td>\n",
       "      <td>0.799264</td>\n",
       "      <td>0.999039</td>\n",
       "      <td>0.000000e+00</td>\n",
       "      <td>10</td>\n",
       "    </tr>\n",
       "    <tr>\n",
       "      <th>7</th>\n",
       "      <td>25000000</td>\n",
       "      <td>10</td>\n",
       "      <td>385.193334</td>\n",
       "      <td>3.108170</td>\n",
       "      <td>0.999039</td>\n",
       "      <td>1.110223e-16</td>\n",
       "      <td>10</td>\n",
       "    </tr>\n",
       "    <tr>\n",
       "      <th>8</th>\n",
       "      <td>30000000</td>\n",
       "      <td>10</td>\n",
       "      <td>454.897410</td>\n",
       "      <td>3.969470</td>\n",
       "      <td>0.999040</td>\n",
       "      <td>1.110223e-16</td>\n",
       "      <td>10</td>\n",
       "    </tr>\n",
       "    <tr>\n",
       "      <th>9</th>\n",
       "      <td>35000000</td>\n",
       "      <td>10</td>\n",
       "      <td>532.630095</td>\n",
       "      <td>2.257321</td>\n",
       "      <td>0.999040</td>\n",
       "      <td>1.110223e-16</td>\n",
       "      <td>10</td>\n",
       "    </tr>\n",
       "  </tbody>\n",
       "</table>\n",
       "</div>"
      ],
      "text/plain": [
       "   n_samples  n_features   mean_time  std_time  mean_r_squared  std_r_squared  \\\n",
       "0     200000          10    5.666338  3.654084        0.999042   2.220446e-16   \n",
       "1     500000          10    8.865941  0.376182        0.999043   1.110223e-16   \n",
       "2    1000000          10   16.575382  0.489483        0.999039   0.000000e+00   \n",
       "3    5000000          10   80.131793  1.893848        0.999040   1.110223e-16   \n",
       "4   10000000          10  159.590770  1.927801        0.999040   0.000000e+00   \n",
       "5   15000000          10  231.189844  1.838073        0.999039   1.110223e-16   \n",
       "6   20000000          10  306.599324  0.799264        0.999039   0.000000e+00   \n",
       "7   25000000          10  385.193334  3.108170        0.999039   1.110223e-16   \n",
       "8   30000000          10  454.897410  3.969470        0.999040   1.110223e-16   \n",
       "9   35000000          10  532.630095  2.257321        0.999040   1.110223e-16   \n",
       "\n",
       "   successful_runs  \n",
       "0               10  \n",
       "1               10  \n",
       "2               10  \n",
       "3               10  \n",
       "4               10  \n",
       "5               10  \n",
       "6               10  \n",
       "7               10  \n",
       "8               10  \n",
       "9               10  "
      ]
     },
     "execution_count": 56,
     "metadata": {},
     "output_type": "execute_result"
    }
   ],
   "source": [
    "results_point_final"
   ]
  },
  {
   "cell_type": "markdown",
   "id": "9c38eab9-100f-40ec-86c3-3ec84a177118",
   "metadata": {},
   "source": [
    "### 2.1.3)  Spark with built-in functions for QR decomposition"
   ]
  },
  {
   "cell_type": "code",
   "execution_count": 54,
   "id": "992ea3fb-b1e3-4230-8a12-45293bcdf20b",
   "metadata": {
    "collapsed": true,
    "jupyter": {
     "outputs_hidden": true
    },
    "scrolled": true
   },
   "outputs": [
    {
     "name": "stdout",
     "output_type": "stream",
     "text": [
      "\n",
      "Benchmarking for n=200,000 samples...\n"
     ]
    },
    {
     "name": "stderr",
     "output_type": "stream",
     "text": [
      "                                                                                \r"
     ]
    },
    {
     "name": "stdout",
     "output_type": "stream",
     "text": [
      "  Run 1: time=10.41s, R²=0.9990, Adjusted R²=0.9990\n"
     ]
    },
    {
     "name": "stderr",
     "output_type": "stream",
     "text": [
      "                                                                                \r"
     ]
    },
    {
     "name": "stdout",
     "output_type": "stream",
     "text": [
      "  Run 2: time=2.59s, R²=0.9990, Adjusted R²=0.9990\n"
     ]
    },
    {
     "name": "stderr",
     "output_type": "stream",
     "text": [
      "                                                                                \r"
     ]
    },
    {
     "name": "stdout",
     "output_type": "stream",
     "text": [
      "  Run 3: time=2.52s, R²=0.9990, Adjusted R²=0.9990\n"
     ]
    },
    {
     "name": "stderr",
     "output_type": "stream",
     "text": [
      "                                                                                \r"
     ]
    },
    {
     "name": "stdout",
     "output_type": "stream",
     "text": [
      "  Run 4: time=2.42s, R²=0.9990, Adjusted R²=0.9990\n"
     ]
    },
    {
     "name": "stderr",
     "output_type": "stream",
     "text": [
      "                                                                                \r"
     ]
    },
    {
     "name": "stdout",
     "output_type": "stream",
     "text": [
      "  Run 5: time=2.31s, R²=0.9990, Adjusted R²=0.9990\n"
     ]
    },
    {
     "name": "stderr",
     "output_type": "stream",
     "text": [
      "                                                                                \r"
     ]
    },
    {
     "name": "stdout",
     "output_type": "stream",
     "text": [
      "  Run 6: time=2.46s, R²=0.9990, Adjusted R²=0.9990\n"
     ]
    },
    {
     "name": "stderr",
     "output_type": "stream",
     "text": [
      "                                                                                \r"
     ]
    },
    {
     "name": "stdout",
     "output_type": "stream",
     "text": [
      "  Run 7: time=2.36s, R²=0.9990, Adjusted R²=0.9990\n"
     ]
    },
    {
     "name": "stderr",
     "output_type": "stream",
     "text": [
      "                                                                                \r"
     ]
    },
    {
     "name": "stdout",
     "output_type": "stream",
     "text": [
      "  Run 8: time=2.38s, R²=0.9990, Adjusted R²=0.9990\n"
     ]
    },
    {
     "name": "stderr",
     "output_type": "stream",
     "text": [
      "                                                                                \r"
     ]
    },
    {
     "name": "stdout",
     "output_type": "stream",
     "text": [
      "  Run 9: time=2.27s, R²=0.9990, Adjusted R²=0.9990\n"
     ]
    },
    {
     "name": "stderr",
     "output_type": "stream",
     "text": [
      "                                                                                \r"
     ]
    },
    {
     "name": "stdout",
     "output_type": "stream",
     "text": [
      "  Run 10: time=2.48s, R²=0.9990, Adjusted R²=0.9990\n",
      "\n",
      "Summary for n=200,000:\n",
      "  Mean time: 3.22s ± 2.40s\n",
      "  Mean R²: 0.9990 ± 0.0000\n",
      "\n",
      "Benchmarking for n=500,000 samples...\n"
     ]
    },
    {
     "name": "stderr",
     "output_type": "stream",
     "text": [
      "                                                                                \r"
     ]
    },
    {
     "name": "stdout",
     "output_type": "stream",
     "text": [
      "  Run 1: time=3.84s, R²=0.9990, Adjusted R²=0.9990\n"
     ]
    },
    {
     "name": "stderr",
     "output_type": "stream",
     "text": [
      "                                                                                \r"
     ]
    },
    {
     "name": "stdout",
     "output_type": "stream",
     "text": [
      "  Run 2: time=3.84s, R²=0.9990, Adjusted R²=0.9990\n"
     ]
    },
    {
     "name": "stderr",
     "output_type": "stream",
     "text": [
      "                                                                                \r"
     ]
    },
    {
     "name": "stdout",
     "output_type": "stream",
     "text": [
      "  Run 3: time=3.92s, R²=0.9990, Adjusted R²=0.9990\n"
     ]
    },
    {
     "name": "stderr",
     "output_type": "stream",
     "text": [
      "                                                                                \r"
     ]
    },
    {
     "name": "stdout",
     "output_type": "stream",
     "text": [
      "  Run 4: time=3.90s, R²=0.9990, Adjusted R²=0.9990\n"
     ]
    },
    {
     "name": "stderr",
     "output_type": "stream",
     "text": [
      "                                                                                \r"
     ]
    },
    {
     "name": "stdout",
     "output_type": "stream",
     "text": [
      "  Run 5: time=3.98s, R²=0.9990, Adjusted R²=0.9990\n"
     ]
    },
    {
     "name": "stderr",
     "output_type": "stream",
     "text": [
      "                                                                                \r"
     ]
    },
    {
     "name": "stdout",
     "output_type": "stream",
     "text": [
      "  Run 6: time=3.83s, R²=0.9990, Adjusted R²=0.9990\n"
     ]
    },
    {
     "name": "stderr",
     "output_type": "stream",
     "text": [
      "                                                                                \r"
     ]
    },
    {
     "name": "stdout",
     "output_type": "stream",
     "text": [
      "  Run 7: time=3.83s, R²=0.9990, Adjusted R²=0.9990\n"
     ]
    },
    {
     "name": "stderr",
     "output_type": "stream",
     "text": [
      "                                                                                \r"
     ]
    },
    {
     "name": "stdout",
     "output_type": "stream",
     "text": [
      "  Run 8: time=3.93s, R²=0.9990, Adjusted R²=0.9990\n"
     ]
    },
    {
     "name": "stderr",
     "output_type": "stream",
     "text": [
      "                                                                                \r"
     ]
    },
    {
     "name": "stdout",
     "output_type": "stream",
     "text": [
      "  Run 9: time=3.80s, R²=0.9990, Adjusted R²=0.9990\n"
     ]
    },
    {
     "name": "stderr",
     "output_type": "stream",
     "text": [
      "                                                                                \r"
     ]
    },
    {
     "name": "stdout",
     "output_type": "stream",
     "text": [
      "  Run 10: time=4.15s, R²=0.9990, Adjusted R²=0.9990\n",
      "\n",
      "Summary for n=500,000:\n",
      "  Mean time: 3.90s ± 0.10s\n",
      "  Mean R²: 0.9990 ± 0.0000\n",
      "\n",
      "Benchmarking for n=1,000,000 samples...\n"
     ]
    },
    {
     "name": "stderr",
     "output_type": "stream",
     "text": [
      "24/10/29 14:24:37 ERROR LBFGS: Failure! Resetting history: breeze.optimize.FirstOrderException: Line search zoom failed\n",
      "                                                                                \r"
     ]
    },
    {
     "name": "stdout",
     "output_type": "stream",
     "text": [
      "  Run 1: time=7.04s, R²=0.9990, Adjusted R²=0.9990\n"
     ]
    },
    {
     "name": "stderr",
     "output_type": "stream",
     "text": [
      "24/10/29 14:24:44 ERROR LBFGS: Failure! Resetting history: breeze.optimize.FirstOrderException: Line search zoom failed\n",
      "24/10/29 14:24:44 ERROR LBFGS: Failure again! Giving up and returning. Maybe the objective is just poorly behaved?\n",
      "                                                                                \r"
     ]
    },
    {
     "name": "stdout",
     "output_type": "stream",
     "text": [
      "  Run 2: time=7.09s, R²=0.9990, Adjusted R²=0.9990\n"
     ]
    },
    {
     "name": "stderr",
     "output_type": "stream",
     "text": [
      "                                                                                \r"
     ]
    },
    {
     "name": "stdout",
     "output_type": "stream",
     "text": [
      "  Run 3: time=6.95s, R²=0.9990, Adjusted R²=0.9990\n"
     ]
    },
    {
     "name": "stderr",
     "output_type": "stream",
     "text": [
      "24/10/29 14:24:58 ERROR LBFGS: Failure! Resetting history: breeze.optimize.FirstOrderException: Line search zoom failed\n",
      "24/10/29 14:24:58 ERROR LBFGS: Failure again! Giving up and returning. Maybe the objective is just poorly behaved?\n",
      "                                                                                \r"
     ]
    },
    {
     "name": "stdout",
     "output_type": "stream",
     "text": [
      "  Run 4: time=7.04s, R²=0.9990, Adjusted R²=0.9990\n"
     ]
    },
    {
     "name": "stderr",
     "output_type": "stream",
     "text": [
      "                                                                                \r"
     ]
    },
    {
     "name": "stdout",
     "output_type": "stream",
     "text": [
      "  Run 5: time=7.20s, R²=0.9990, Adjusted R²=0.9990\n"
     ]
    },
    {
     "name": "stderr",
     "output_type": "stream",
     "text": [
      "                                                                                \r"
     ]
    },
    {
     "name": "stdout",
     "output_type": "stream",
     "text": [
      "  Run 6: time=7.21s, R²=0.9990, Adjusted R²=0.9990\n"
     ]
    },
    {
     "name": "stderr",
     "output_type": "stream",
     "text": [
      "                                                                                \r"
     ]
    },
    {
     "name": "stdout",
     "output_type": "stream",
     "text": [
      "  Run 7: time=7.20s, R²=0.9990, Adjusted R²=0.9990\n"
     ]
    },
    {
     "name": "stderr",
     "output_type": "stream",
     "text": [
      "                                                                                \r"
     ]
    },
    {
     "name": "stdout",
     "output_type": "stream",
     "text": [
      "  Run 8: time=7.56s, R²=0.9990, Adjusted R²=0.9990\n"
     ]
    },
    {
     "name": "stderr",
     "output_type": "stream",
     "text": [
      "                                                                                \r"
     ]
    },
    {
     "name": "stdout",
     "output_type": "stream",
     "text": [
      "  Run 9: time=7.20s, R²=0.9990, Adjusted R²=0.9990\n"
     ]
    },
    {
     "name": "stderr",
     "output_type": "stream",
     "text": [
      "24/10/29 14:25:41 ERROR LBFGS: Failure! Resetting history: breeze.optimize.FirstOrderException: Line search zoom failed\n",
      "24/10/29 14:25:41 ERROR LBFGS: Failure again! Giving up and returning. Maybe the objective is just poorly behaved?\n",
      "                                                                                \r"
     ]
    },
    {
     "name": "stdout",
     "output_type": "stream",
     "text": [
      "  Run 10: time=7.36s, R²=0.9990, Adjusted R²=0.9990\n",
      "\n",
      "Summary for n=1,000,000:\n",
      "  Mean time: 7.18s ± 0.17s\n",
      "  Mean R²: 0.9990 ± 0.0000\n",
      "\n",
      "Benchmarking for n=5,000,000 samples...\n"
     ]
    },
    {
     "name": "stderr",
     "output_type": "stream",
     "text": [
      "                                                                                \r"
     ]
    },
    {
     "name": "stdout",
     "output_type": "stream",
     "text": [
      "  Run 1: time=34.25s, R²=0.9990, Adjusted R²=0.9990\n"
     ]
    },
    {
     "name": "stderr",
     "output_type": "stream",
     "text": [
      "                                                                                \r"
     ]
    },
    {
     "name": "stdout",
     "output_type": "stream",
     "text": [
      "  Run 2: time=31.94s, R²=0.9990, Adjusted R²=0.9990\n"
     ]
    },
    {
     "name": "stderr",
     "output_type": "stream",
     "text": [
      "                                                                                \r"
     ]
    },
    {
     "name": "stdout",
     "output_type": "stream",
     "text": [
      "  Run 3: time=32.36s, R²=0.9990, Adjusted R²=0.9990\n"
     ]
    },
    {
     "name": "stderr",
     "output_type": "stream",
     "text": [
      "                                                                                \r"
     ]
    },
    {
     "name": "stdout",
     "output_type": "stream",
     "text": [
      "  Run 4: time=33.30s, R²=0.9990, Adjusted R²=0.9990\n"
     ]
    },
    {
     "name": "stderr",
     "output_type": "stream",
     "text": [
      "                                                                                \r"
     ]
    },
    {
     "name": "stdout",
     "output_type": "stream",
     "text": [
      "  Run 5: time=32.45s, R²=0.9990, Adjusted R²=0.9990\n"
     ]
    },
    {
     "name": "stderr",
     "output_type": "stream",
     "text": [
      "                                                                                \r"
     ]
    },
    {
     "name": "stdout",
     "output_type": "stream",
     "text": [
      "  Run 6: time=31.14s, R²=0.9990, Adjusted R²=0.9990\n"
     ]
    },
    {
     "name": "stderr",
     "output_type": "stream",
     "text": [
      "                                                                                \r"
     ]
    },
    {
     "name": "stdout",
     "output_type": "stream",
     "text": [
      "  Run 7: time=31.27s, R²=0.9990, Adjusted R²=0.9990\n"
     ]
    },
    {
     "name": "stderr",
     "output_type": "stream",
     "text": [
      "                                                                                \r"
     ]
    },
    {
     "name": "stdout",
     "output_type": "stream",
     "text": [
      "  Run 8: time=31.22s, R²=0.9990, Adjusted R²=0.9990\n"
     ]
    },
    {
     "name": "stderr",
     "output_type": "stream",
     "text": [
      "                                                                                \r"
     ]
    },
    {
     "name": "stdout",
     "output_type": "stream",
     "text": [
      "  Run 9: time=31.05s, R²=0.9990, Adjusted R²=0.9990\n"
     ]
    },
    {
     "name": "stderr",
     "output_type": "stream",
     "text": [
      "                                                                                \r"
     ]
    },
    {
     "name": "stdout",
     "output_type": "stream",
     "text": [
      "  Run 10: time=31.24s, R²=0.9990, Adjusted R²=0.9990\n",
      "\n",
      "Summary for n=5,000,000:\n",
      "  Mean time: 32.02s ± 1.02s\n",
      "  Mean R²: 0.9990 ± 0.0000\n",
      "\n",
      "Benchmarking for n=10,000,000 samples...\n"
     ]
    },
    {
     "name": "stderr",
     "output_type": "stream",
     "text": [
      "                                                                                \r"
     ]
    },
    {
     "name": "stdout",
     "output_type": "stream",
     "text": [
      "  Run 1: time=62.54s, R²=0.9990, Adjusted R²=0.9990\n"
     ]
    },
    {
     "name": "stderr",
     "output_type": "stream",
     "text": [
      "                                                                                \r"
     ]
    },
    {
     "name": "stdout",
     "output_type": "stream",
     "text": [
      "  Run 2: time=63.03s, R²=0.9990, Adjusted R²=0.9990\n"
     ]
    },
    {
     "name": "stderr",
     "output_type": "stream",
     "text": [
      "                                                                                \r"
     ]
    },
    {
     "name": "stdout",
     "output_type": "stream",
     "text": [
      "  Run 3: time=61.32s, R²=0.9990, Adjusted R²=0.9990\n"
     ]
    },
    {
     "name": "stderr",
     "output_type": "stream",
     "text": [
      "                                                                                \r"
     ]
    },
    {
     "name": "stdout",
     "output_type": "stream",
     "text": [
      "  Run 4: time=61.25s, R²=0.9990, Adjusted R²=0.9990\n"
     ]
    },
    {
     "name": "stderr",
     "output_type": "stream",
     "text": [
      "                                                                                \r"
     ]
    },
    {
     "name": "stdout",
     "output_type": "stream",
     "text": [
      "  Run 5: time=61.32s, R²=0.9990, Adjusted R²=0.9990\n"
     ]
    },
    {
     "name": "stderr",
     "output_type": "stream",
     "text": [
      "                                                                                \r"
     ]
    },
    {
     "name": "stdout",
     "output_type": "stream",
     "text": [
      "  Run 6: time=62.18s, R²=0.9990, Adjusted R²=0.9990\n"
     ]
    },
    {
     "name": "stderr",
     "output_type": "stream",
     "text": [
      "                                                                                \r"
     ]
    },
    {
     "name": "stdout",
     "output_type": "stream",
     "text": [
      "  Run 7: time=65.83s, R²=0.9990, Adjusted R²=0.9990\n"
     ]
    },
    {
     "name": "stderr",
     "output_type": "stream",
     "text": [
      "                                                                                \r"
     ]
    },
    {
     "name": "stdout",
     "output_type": "stream",
     "text": [
      "  Run 8: time=63.07s, R²=0.9990, Adjusted R²=0.9990\n"
     ]
    },
    {
     "name": "stderr",
     "output_type": "stream",
     "text": [
      "                                                                                \r"
     ]
    },
    {
     "name": "stdout",
     "output_type": "stream",
     "text": [
      "  Run 9: time=61.73s, R²=0.9990, Adjusted R²=0.9990\n"
     ]
    },
    {
     "name": "stderr",
     "output_type": "stream",
     "text": [
      "[Stage 898:===================================================>(993 + 7) / 1000]\r"
     ]
    },
    {
     "name": "stdout",
     "output_type": "stream",
     "text": [
      "  Run 10: time=61.82s, R²=0.9990, Adjusted R²=0.9990\n",
      "\n",
      "Summary for n=10,000,000:\n",
      "  Mean time: 62.41s ± 1.31s\n",
      "  Mean R²: 0.9990 ± 0.0000\n"
     ]
    },
    {
     "name": "stderr",
     "output_type": "stream",
     "text": [
      "                                                                                \r"
     ]
    }
   ],
   "source": [
    "results_spark = []\n",
    "results_spark = [run_benchmark_spark(n=n, p=n_features, beta_true=beta_true) for n in n_values]"
   ]
  },
  {
   "cell_type": "code",
   "execution_count": 57,
   "id": "5a34d72e",
   "metadata": {
    "collapsed": true,
    "jupyter": {
     "outputs_hidden": true
    },
    "scrolled": true
   },
   "outputs": [
    {
     "name": "stdout",
     "output_type": "stream",
     "text": [
      "\n",
      "Benchmarking for n=15,000,000 samples...\n"
     ]
    },
    {
     "name": "stderr",
     "output_type": "stream",
     "text": [
      "                                                                                \r"
     ]
    },
    {
     "name": "stdout",
     "output_type": "stream",
     "text": [
      "  Run 1: time=94.28s, R²=0.9990, Adjusted R²=0.9990\n"
     ]
    },
    {
     "name": "stderr",
     "output_type": "stream",
     "text": [
      "                                                                                \r"
     ]
    },
    {
     "name": "stdout",
     "output_type": "stream",
     "text": [
      "  Run 2: time=92.29s, R²=0.9990, Adjusted R²=0.9990\n"
     ]
    },
    {
     "name": "stderr",
     "output_type": "stream",
     "text": [
      "                                                                                \r"
     ]
    },
    {
     "name": "stdout",
     "output_type": "stream",
     "text": [
      "  Run 3: time=92.84s, R²=0.9990, Adjusted R²=0.9990\n"
     ]
    },
    {
     "name": "stderr",
     "output_type": "stream",
     "text": [
      "                                                                                \r"
     ]
    },
    {
     "name": "stdout",
     "output_type": "stream",
     "text": [
      "  Run 4: time=91.83s, R²=0.9990, Adjusted R²=0.9990\n"
     ]
    },
    {
     "name": "stderr",
     "output_type": "stream",
     "text": [
      "                                                                                \r"
     ]
    },
    {
     "name": "stdout",
     "output_type": "stream",
     "text": [
      "  Run 5: time=91.22s, R²=0.9990, Adjusted R²=0.9990\n"
     ]
    },
    {
     "name": "stderr",
     "output_type": "stream",
     "text": [
      "                                                                                \r"
     ]
    },
    {
     "name": "stdout",
     "output_type": "stream",
     "text": [
      "  Run 6: time=91.24s, R²=0.9990, Adjusted R²=0.9990\n"
     ]
    },
    {
     "name": "stderr",
     "output_type": "stream",
     "text": [
      "                                                                                \r"
     ]
    },
    {
     "name": "stdout",
     "output_type": "stream",
     "text": [
      "  Run 7: time=91.39s, R²=0.9990, Adjusted R²=0.9990\n"
     ]
    },
    {
     "name": "stderr",
     "output_type": "stream",
     "text": [
      "                                                                                \r"
     ]
    },
    {
     "name": "stdout",
     "output_type": "stream",
     "text": [
      "  Run 8: time=91.34s, R²=0.9990, Adjusted R²=0.9990\n"
     ]
    },
    {
     "name": "stderr",
     "output_type": "stream",
     "text": [
      "                                                                                \r"
     ]
    },
    {
     "name": "stdout",
     "output_type": "stream",
     "text": [
      "  Run 9: time=91.48s, R²=0.9990, Adjusted R²=0.9990\n"
     ]
    },
    {
     "name": "stderr",
     "output_type": "stream",
     "text": [
      "                                                                                \r"
     ]
    },
    {
     "name": "stdout",
     "output_type": "stream",
     "text": [
      "  Run 10: time=91.37s, R²=0.9990, Adjusted R²=0.9990\n",
      "\n",
      "Summary for n=15,000,000:\n",
      "  Mean time: 91.93s ± 0.93s\n",
      "  Mean R²: 0.9990 ± 0.0000\n",
      "\n",
      "Benchmarking for n=20,000,000 samples...\n"
     ]
    },
    {
     "name": "stderr",
     "output_type": "stream",
     "text": [
      "                                                                                \r"
     ]
    },
    {
     "name": "stdout",
     "output_type": "stream",
     "text": [
      "  Run 1: time=121.18s, R²=0.9990, Adjusted R²=0.9990\n"
     ]
    },
    {
     "name": "stderr",
     "output_type": "stream",
     "text": [
      "                                                                                \r"
     ]
    },
    {
     "name": "stdout",
     "output_type": "stream",
     "text": [
      "  Run 2: time=121.95s, R²=0.9990, Adjusted R²=0.9990\n"
     ]
    },
    {
     "name": "stderr",
     "output_type": "stream",
     "text": [
      "                                                                                \r"
     ]
    },
    {
     "name": "stdout",
     "output_type": "stream",
     "text": [
      "  Run 3: time=120.99s, R²=0.9990, Adjusted R²=0.9990\n"
     ]
    },
    {
     "name": "stderr",
     "output_type": "stream",
     "text": [
      "                                                                                \r"
     ]
    },
    {
     "name": "stdout",
     "output_type": "stream",
     "text": [
      "  Run 4: time=121.64s, R²=0.9990, Adjusted R²=0.9990\n"
     ]
    },
    {
     "name": "stderr",
     "output_type": "stream",
     "text": [
      "                                                                                \r"
     ]
    },
    {
     "name": "stdout",
     "output_type": "stream",
     "text": [
      "  Run 5: time=121.80s, R²=0.9990, Adjusted R²=0.9990\n"
     ]
    },
    {
     "name": "stderr",
     "output_type": "stream",
     "text": [
      "                                                                                \r"
     ]
    },
    {
     "name": "stdout",
     "output_type": "stream",
     "text": [
      "  Run 6: time=121.54s, R²=0.9990, Adjusted R²=0.9990\n"
     ]
    },
    {
     "name": "stderr",
     "output_type": "stream",
     "text": [
      "                                                                                \r"
     ]
    },
    {
     "name": "stdout",
     "output_type": "stream",
     "text": [
      "  Run 7: time=121.48s, R²=0.9990, Adjusted R²=0.9990\n"
     ]
    },
    {
     "name": "stderr",
     "output_type": "stream",
     "text": [
      "                                                                                \r"
     ]
    },
    {
     "name": "stdout",
     "output_type": "stream",
     "text": [
      "  Run 8: time=121.48s, R²=0.9990, Adjusted R²=0.9990\n"
     ]
    },
    {
     "name": "stderr",
     "output_type": "stream",
     "text": [
      "                                                                                \r"
     ]
    },
    {
     "name": "stdout",
     "output_type": "stream",
     "text": [
      "  Run 9: time=122.36s, R²=0.9990, Adjusted R²=0.9990\n"
     ]
    },
    {
     "name": "stderr",
     "output_type": "stream",
     "text": [
      "                                                                                \r"
     ]
    },
    {
     "name": "stdout",
     "output_type": "stream",
     "text": [
      "  Run 10: time=121.69s, R²=0.9990, Adjusted R²=0.9990\n",
      "\n",
      "Summary for n=20,000,000:\n",
      "  Mean time: 121.61s ± 0.36s\n",
      "  Mean R²: 0.9990 ± 0.0000\n",
      "\n",
      "Benchmarking for n=25,000,000 samples...\n"
     ]
    },
    {
     "name": "stderr",
     "output_type": "stream",
     "text": [
      "                                                                                \r"
     ]
    },
    {
     "name": "stdout",
     "output_type": "stream",
     "text": [
      "  Run 1: time=151.98s, R²=0.9990, Adjusted R²=0.9990\n"
     ]
    },
    {
     "name": "stderr",
     "output_type": "stream",
     "text": [
      "                                                                                \r"
     ]
    },
    {
     "name": "stdout",
     "output_type": "stream",
     "text": [
      "  Run 2: time=155.28s, R²=0.9990, Adjusted R²=0.9990\n"
     ]
    },
    {
     "name": "stderr",
     "output_type": "stream",
     "text": [
      "                                                                                \r"
     ]
    },
    {
     "name": "stdout",
     "output_type": "stream",
     "text": [
      "  Run 3: time=152.14s, R²=0.9990, Adjusted R²=0.9990\n"
     ]
    },
    {
     "name": "stderr",
     "output_type": "stream",
     "text": [
      "                                                                                \r"
     ]
    },
    {
     "name": "stdout",
     "output_type": "stream",
     "text": [
      "  Run 4: time=153.18s, R²=0.9990, Adjusted R²=0.9990\n"
     ]
    },
    {
     "name": "stderr",
     "output_type": "stream",
     "text": [
      "                                                                                \r"
     ]
    },
    {
     "name": "stdout",
     "output_type": "stream",
     "text": [
      "  Run 5: time=152.50s, R²=0.9990, Adjusted R²=0.9990\n"
     ]
    },
    {
     "name": "stderr",
     "output_type": "stream",
     "text": [
      "                                                                                \r"
     ]
    },
    {
     "name": "stdout",
     "output_type": "stream",
     "text": [
      "  Run 6: time=152.18s, R²=0.9990, Adjusted R²=0.9990\n"
     ]
    },
    {
     "name": "stderr",
     "output_type": "stream",
     "text": [
      "                                                                                \r"
     ]
    },
    {
     "name": "stdout",
     "output_type": "stream",
     "text": [
      "  Run 7: time=152.50s, R²=0.9990, Adjusted R²=0.9990\n"
     ]
    },
    {
     "name": "stderr",
     "output_type": "stream",
     "text": [
      "                                                                                \r"
     ]
    },
    {
     "name": "stdout",
     "output_type": "stream",
     "text": [
      "  Run 8: time=152.37s, R²=0.9990, Adjusted R²=0.9990\n"
     ]
    },
    {
     "name": "stderr",
     "output_type": "stream",
     "text": [
      "                                                                                \r"
     ]
    },
    {
     "name": "stdout",
     "output_type": "stream",
     "text": [
      "  Run 9: time=151.97s, R²=0.9990, Adjusted R²=0.9990\n"
     ]
    },
    {
     "name": "stderr",
     "output_type": "stream",
     "text": [
      "                                                                                \r"
     ]
    },
    {
     "name": "stdout",
     "output_type": "stream",
     "text": [
      "  Run 10: time=152.12s, R²=0.9990, Adjusted R²=0.9990\n",
      "\n",
      "Summary for n=25,000,000:\n",
      "  Mean time: 152.62s ± 0.95s\n",
      "  Mean R²: 0.9990 ± 0.0000\n",
      "\n",
      "Benchmarking for n=30,000,000 samples...\n"
     ]
    },
    {
     "name": "stderr",
     "output_type": "stream",
     "text": [
      "                                                                                \r"
     ]
    },
    {
     "name": "stdout",
     "output_type": "stream",
     "text": [
      "  Run 1: time=182.71s, R²=0.9990, Adjusted R²=0.9990\n"
     ]
    },
    {
     "name": "stderr",
     "output_type": "stream",
     "text": [
      "                                                                                \r"
     ]
    },
    {
     "name": "stdout",
     "output_type": "stream",
     "text": [
      "  Run 2: time=182.51s, R²=0.9990, Adjusted R²=0.9990\n"
     ]
    },
    {
     "name": "stderr",
     "output_type": "stream",
     "text": [
      "                                                                                \r"
     ]
    },
    {
     "name": "stdout",
     "output_type": "stream",
     "text": [
      "  Run 3: time=184.14s, R²=0.9990, Adjusted R²=0.9990\n"
     ]
    },
    {
     "name": "stderr",
     "output_type": "stream",
     "text": [
      "                                                                                \r"
     ]
    },
    {
     "name": "stdout",
     "output_type": "stream",
     "text": [
      "  Run 4: time=183.99s, R²=0.9990, Adjusted R²=0.9990\n"
     ]
    },
    {
     "name": "stderr",
     "output_type": "stream",
     "text": [
      "                                                                                \r"
     ]
    },
    {
     "name": "stdout",
     "output_type": "stream",
     "text": [
      "  Run 5: time=183.78s, R²=0.9990, Adjusted R²=0.9990\n"
     ]
    },
    {
     "name": "stderr",
     "output_type": "stream",
     "text": [
      "                                                                                \r"
     ]
    },
    {
     "name": "stdout",
     "output_type": "stream",
     "text": [
      "  Run 6: time=215.37s, R²=0.9990, Adjusted R²=0.9990\n"
     ]
    },
    {
     "name": "stderr",
     "output_type": "stream",
     "text": [
      "                                                                                \r"
     ]
    },
    {
     "name": "stdout",
     "output_type": "stream",
     "text": [
      "  Run 7: time=209.77s, R²=0.9990, Adjusted R²=0.9990\n"
     ]
    },
    {
     "name": "stderr",
     "output_type": "stream",
     "text": [
      "                                                                                \r"
     ]
    },
    {
     "name": "stdout",
     "output_type": "stream",
     "text": [
      "  Run 8: time=201.43s, R²=0.9990, Adjusted R²=0.9990\n"
     ]
    },
    {
     "name": "stderr",
     "output_type": "stream",
     "text": [
      "                                                                                \r"
     ]
    },
    {
     "name": "stdout",
     "output_type": "stream",
     "text": [
      "  Run 9: time=199.99s, R²=0.9990, Adjusted R²=0.9990\n"
     ]
    },
    {
     "name": "stderr",
     "output_type": "stream",
     "text": [
      "                                                                                \r"
     ]
    },
    {
     "name": "stdout",
     "output_type": "stream",
     "text": [
      "  Run 10: time=198.91s, R²=0.9990, Adjusted R²=0.9990\n",
      "\n",
      "Summary for n=30,000,000:\n",
      "  Mean time: 194.26s ± 11.75s\n",
      "  Mean R²: 0.9990 ± 0.0000\n",
      "\n",
      "Benchmarking for n=35,000,000 samples...\n"
     ]
    },
    {
     "name": "stderr",
     "output_type": "stream",
     "text": [
      "                                                                                \r"
     ]
    },
    {
     "name": "stdout",
     "output_type": "stream",
     "text": [
      "  Run 1: time=237.01s, R²=0.9990, Adjusted R²=0.9990\n"
     ]
    },
    {
     "name": "stderr",
     "output_type": "stream",
     "text": [
      "                                                                                \r"
     ]
    },
    {
     "name": "stdout",
     "output_type": "stream",
     "text": [
      "  Run 2: time=238.24s, R²=0.9990, Adjusted R²=0.9990\n"
     ]
    },
    {
     "name": "stderr",
     "output_type": "stream",
     "text": [
      "                                                                                \r"
     ]
    },
    {
     "name": "stdout",
     "output_type": "stream",
     "text": [
      "  Run 3: time=238.44s, R²=0.9990, Adjusted R²=0.9990\n"
     ]
    },
    {
     "name": "stderr",
     "output_type": "stream",
     "text": [
      "                                                                                \r"
     ]
    },
    {
     "name": "stdout",
     "output_type": "stream",
     "text": [
      "  Run 4: time=238.28s, R²=0.9990, Adjusted R²=0.9990\n"
     ]
    },
    {
     "name": "stderr",
     "output_type": "stream",
     "text": [
      "                                                                                \r"
     ]
    },
    {
     "name": "stdout",
     "output_type": "stream",
     "text": [
      "  Run 5: time=233.06s, R²=0.9990, Adjusted R²=0.9990\n"
     ]
    },
    {
     "name": "stderr",
     "output_type": "stream",
     "text": [
      "                                                                                \r"
     ]
    },
    {
     "name": "stdout",
     "output_type": "stream",
     "text": [
      "  Run 6: time=234.76s, R²=0.9990, Adjusted R²=0.9990\n"
     ]
    },
    {
     "name": "stderr",
     "output_type": "stream",
     "text": [
      "                                                                                \r"
     ]
    },
    {
     "name": "stdout",
     "output_type": "stream",
     "text": [
      "  Run 7: time=239.71s, R²=0.9990, Adjusted R²=0.9990\n"
     ]
    },
    {
     "name": "stderr",
     "output_type": "stream",
     "text": [
      "                                                                                \r"
     ]
    },
    {
     "name": "stdout",
     "output_type": "stream",
     "text": [
      "  Run 8: time=232.66s, R²=0.9990, Adjusted R²=0.9990\n"
     ]
    },
    {
     "name": "stderr",
     "output_type": "stream",
     "text": [
      "                                                                                \r"
     ]
    },
    {
     "name": "stdout",
     "output_type": "stream",
     "text": [
      "  Run 9: time=236.28s, R²=0.9990, Adjusted R²=0.9990\n"
     ]
    },
    {
     "name": "stderr",
     "output_type": "stream",
     "text": [
      "[Stage 1198:================================================>(3485 + 15) / 3500]\r"
     ]
    },
    {
     "name": "stdout",
     "output_type": "stream",
     "text": [
      "  Run 10: time=256.08s, R²=0.9990, Adjusted R²=0.9990\n",
      "\n",
      "Summary for n=35,000,000:\n",
      "  Mean time: 238.45s ± 6.29s\n",
      "  Mean R²: 0.9990 ± 0.0000\n"
     ]
    },
    {
     "name": "stderr",
     "output_type": "stream",
     "text": [
      "                                                                                \r"
     ]
    }
   ],
   "source": [
    "results_spark2 = [run_benchmark_spark(n=n, p=n_features, beta_true=beta_true) for n in n_values2]"
   ]
  },
  {
   "cell_type": "code",
   "execution_count": 58,
   "id": "1b454784-8787-4264-8e7d-364aa14eeada",
   "metadata": {},
   "outputs": [],
   "source": [
    "results_spark_df = pd.concat(results_spark, ignore_index=True)\n",
    "results_spark_df2 = pd.concat(results_spark2, ignore_index=True)"
   ]
  },
  {
   "cell_type": "code",
   "execution_count": 59,
   "id": "2f04b047-0cb9-412c-bae8-198a0ea8217e",
   "metadata": {},
   "outputs": [],
   "source": [
    "results_spark_final =  pd.concat([results_spark_df, results_spark_df2], ignore_index=True)"
   ]
  },
  {
   "cell_type": "code",
   "execution_count": 67,
   "id": "9808270a-b03c-4618-a5b7-016536fa9155",
   "metadata": {},
   "outputs": [
    {
     "data": {
      "text/html": [
       "<div>\n",
       "<style scoped>\n",
       "    .dataframe tbody tr th:only-of-type {\n",
       "        vertical-align: middle;\n",
       "    }\n",
       "\n",
       "    .dataframe tbody tr th {\n",
       "        vertical-align: top;\n",
       "    }\n",
       "\n",
       "    .dataframe thead th {\n",
       "        text-align: right;\n",
       "    }\n",
       "</style>\n",
       "<table border=\"1\" class=\"dataframe\">\n",
       "  <thead>\n",
       "    <tr style=\"text-align: right;\">\n",
       "      <th></th>\n",
       "      <th>n_samples</th>\n",
       "      <th>n_features</th>\n",
       "      <th>mean_time</th>\n",
       "      <th>std_time</th>\n",
       "      <th>mean_r_squared</th>\n",
       "      <th>std_r_squared</th>\n",
       "      <th>successful_runs</th>\n",
       "    </tr>\n",
       "  </thead>\n",
       "  <tbody>\n",
       "    <tr>\n",
       "      <th>0</th>\n",
       "      <td>200000</td>\n",
       "      <td>10</td>\n",
       "      <td>3.221290</td>\n",
       "      <td>2.398785</td>\n",
       "      <td>0.999042</td>\n",
       "      <td>1.110223e-16</td>\n",
       "      <td>10</td>\n",
       "    </tr>\n",
       "    <tr>\n",
       "      <th>1</th>\n",
       "      <td>500000</td>\n",
       "      <td>10</td>\n",
       "      <td>3.902082</td>\n",
       "      <td>0.097600</td>\n",
       "      <td>0.999043</td>\n",
       "      <td>1.110223e-16</td>\n",
       "      <td>10</td>\n",
       "    </tr>\n",
       "    <tr>\n",
       "      <th>2</th>\n",
       "      <td>1000000</td>\n",
       "      <td>10</td>\n",
       "      <td>7.184584</td>\n",
       "      <td>0.166283</td>\n",
       "      <td>0.999039</td>\n",
       "      <td>9.288792e-17</td>\n",
       "      <td>10</td>\n",
       "    </tr>\n",
       "    <tr>\n",
       "      <th>3</th>\n",
       "      <td>5000000</td>\n",
       "      <td>10</td>\n",
       "      <td>32.022483</td>\n",
       "      <td>1.022115</td>\n",
       "      <td>0.999040</td>\n",
       "      <td>0.000000e+00</td>\n",
       "      <td>10</td>\n",
       "    </tr>\n",
       "    <tr>\n",
       "      <th>4</th>\n",
       "      <td>10000000</td>\n",
       "      <td>10</td>\n",
       "      <td>62.408405</td>\n",
       "      <td>1.308641</td>\n",
       "      <td>0.999040</td>\n",
       "      <td>4.965068e-17</td>\n",
       "      <td>10</td>\n",
       "    </tr>\n",
       "    <tr>\n",
       "      <th>5</th>\n",
       "      <td>15000000</td>\n",
       "      <td>10</td>\n",
       "      <td>91.926532</td>\n",
       "      <td>0.928986</td>\n",
       "      <td>0.999039</td>\n",
       "      <td>1.110223e-16</td>\n",
       "      <td>10</td>\n",
       "    </tr>\n",
       "    <tr>\n",
       "      <th>6</th>\n",
       "      <td>20000000</td>\n",
       "      <td>10</td>\n",
       "      <td>121.611345</td>\n",
       "      <td>0.364510</td>\n",
       "      <td>0.999039</td>\n",
       "      <td>1.110223e-16</td>\n",
       "      <td>10</td>\n",
       "    </tr>\n",
       "    <tr>\n",
       "      <th>7</th>\n",
       "      <td>25000000</td>\n",
       "      <td>10</td>\n",
       "      <td>152.622898</td>\n",
       "      <td>0.948158</td>\n",
       "      <td>0.999039</td>\n",
       "      <td>1.110223e-16</td>\n",
       "      <td>10</td>\n",
       "    </tr>\n",
       "    <tr>\n",
       "      <th>8</th>\n",
       "      <td>30000000</td>\n",
       "      <td>10</td>\n",
       "      <td>194.260576</td>\n",
       "      <td>11.753652</td>\n",
       "      <td>0.999040</td>\n",
       "      <td>1.110223e-16</td>\n",
       "      <td>10</td>\n",
       "    </tr>\n",
       "    <tr>\n",
       "      <th>9</th>\n",
       "      <td>35000000</td>\n",
       "      <td>10</td>\n",
       "      <td>238.451077</td>\n",
       "      <td>6.287796</td>\n",
       "      <td>0.999040</td>\n",
       "      <td>0.000000e+00</td>\n",
       "      <td>10</td>\n",
       "    </tr>\n",
       "  </tbody>\n",
       "</table>\n",
       "</div>"
      ],
      "text/plain": [
       "   n_samples  n_features   mean_time   std_time  mean_r_squared  \\\n",
       "0     200000          10    3.221290   2.398785        0.999042   \n",
       "1     500000          10    3.902082   0.097600        0.999043   \n",
       "2    1000000          10    7.184584   0.166283        0.999039   \n",
       "3    5000000          10   32.022483   1.022115        0.999040   \n",
       "4   10000000          10   62.408405   1.308641        0.999040   \n",
       "5   15000000          10   91.926532   0.928986        0.999039   \n",
       "6   20000000          10  121.611345   0.364510        0.999039   \n",
       "7   25000000          10  152.622898   0.948158        0.999039   \n",
       "8   30000000          10  194.260576  11.753652        0.999040   \n",
       "9   35000000          10  238.451077   6.287796        0.999040   \n",
       "\n",
       "   std_r_squared  successful_runs  \n",
       "0   1.110223e-16               10  \n",
       "1   1.110223e-16               10  \n",
       "2   9.288792e-17               10  \n",
       "3   0.000000e+00               10  \n",
       "4   4.965068e-17               10  \n",
       "5   1.110223e-16               10  \n",
       "6   1.110223e-16               10  \n",
       "7   1.110223e-16               10  \n",
       "8   1.110223e-16               10  \n",
       "9   0.000000e+00               10  "
      ]
     },
     "execution_count": 67,
     "metadata": {},
     "output_type": "execute_result"
    }
   ],
   "source": [
    "results_spark_final"
   ]
  },
  {
   "cell_type": "markdown",
   "id": "e45ba8cd-e4cd-43f1-ae36-a039696ce95a",
   "metadata": {},
   "source": [
    "## 2.2) Output of the results"
   ]
  },
  {
   "cell_type": "code",
   "execution_count": null,
   "id": "f5688e6e-9dfa-4ce8-903e-01d61b598899",
   "metadata": {},
   "outputs": [],
   "source": [
    "def extract_info(dataframes, labels=None):\n",
    "    \"\"\"\n",
    "    Extracts and compares R² values and computation times from multiple DataFrames,\n",
    "    structured for easier comparison between approaches.\n",
    "    \n",
    "    Parameters\n",
    "    ----------\n",
    "    dataframes : list of pd.DataFrame\n",
    "        List of DataFrames containing benchmarking results with columns 'n_samples', \n",
    "        'n_features', 'mean_time', and 'mean_r_squared'.\n",
    "    \n",
    "    labels : list of str, optional\n",
    "        List of labels for each DataFrame to identify the source/approach (default is None).\n",
    "    \n",
    "    Returns\n",
    "    -------\n",
    "    pd.DataFrame\n",
    "        Combined DataFrame with columns 'n_samples', 'n_features', and the mean R² values \n",
    "        and computation times for each approach in separate columns, structured for \n",
    "        side-by-side comparison.\n",
    "    \"\"\"\n",
    "    if labels and len(labels) != len(dataframes):\n",
    "        raise ValueError(\"Length of labels must match length of dataframes\")\n",
    "\n",
    "    merged_df = dataframes[0].rename(columns={'mean_time': f'{labels[0]}_mean_time', \n",
    "                                              'mean_r_squared': f'{labels[0]}_mean_r_squared'})\n",
    "    \n",
    "    for i, df in enumerate(dataframes[1:], start=1):\n",
    "        label = labels[i]\n",
    "        df = df.rename(columns={'mean_time': f'{label}_mean_time', \n",
    "                                'mean_r_squared': f'{label}_mean_r_squared'})\n",
    "        merged_df = pd.merge(merged_df, df[['n_samples', 'n_features', f'{label}_mean_time', f'{label}_mean_r_squared']],\n",
    "                             on=['n_samples', 'n_features'], how='outer')\n",
    "\n",
    "    return merged_df"
   ]
  },
  {
   "cell_type": "code",
   "execution_count": 71,
   "id": "3c0e1f5e-2563-48cc-afc7-fe9b05c7c648",
   "metadata": {},
   "outputs": [],
   "source": [
    "dataframes = [results_numpy_df, results_point_final, results_spark_final]\n",
    "labels = [\"Numpy\", \"Spark and manual QR decomposition\", \"Spark Linear Regressions\"]\n",
    "\n",
    "comparison_df = extract_info(dataframes, labels)\n"
   ]
  },
  {
   "cell_type": "code",
   "execution_count": 72,
   "id": "da76fad2-18bf-496b-a8a3-ba65ce3c108b",
   "metadata": {},
   "outputs": [
    {
     "data": {
      "text/html": [
       "<div>\n",
       "<style scoped>\n",
       "    .dataframe tbody tr th:only-of-type {\n",
       "        vertical-align: middle;\n",
       "    }\n",
       "\n",
       "    .dataframe tbody tr th {\n",
       "        vertical-align: top;\n",
       "    }\n",
       "\n",
       "    .dataframe thead th {\n",
       "        text-align: right;\n",
       "    }\n",
       "</style>\n",
       "<table border=\"1\" class=\"dataframe\">\n",
       "  <thead>\n",
       "    <tr style=\"text-align: right;\">\n",
       "      <th></th>\n",
       "      <th>n_samples</th>\n",
       "      <th>n_features</th>\n",
       "      <th>Numpy_mean_time</th>\n",
       "      <th>std_time</th>\n",
       "      <th>Numpy_mean_r_squared</th>\n",
       "      <th>std_r_squared</th>\n",
       "      <th>Spark and manual QR decomposition_mean_time</th>\n",
       "      <th>Spark and manual QR decomposition_mean_r_squared</th>\n",
       "      <th>Spark Linear Regressions_mean_time</th>\n",
       "      <th>Spark Linear Regressions_mean_r_squared</th>\n",
       "    </tr>\n",
       "  </thead>\n",
       "  <tbody>\n",
       "    <tr>\n",
       "      <th>0</th>\n",
       "      <td>200000</td>\n",
       "      <td>10</td>\n",
       "      <td>0.264353</td>\n",
       "      <td>0.176450</td>\n",
       "      <td>0.999040</td>\n",
       "      <td>3.983148e-06</td>\n",
       "      <td>5.666338</td>\n",
       "      <td>0.999042</td>\n",
       "      <td>3.221290</td>\n",
       "      <td>0.999042</td>\n",
       "    </tr>\n",
       "    <tr>\n",
       "      <th>1</th>\n",
       "      <td>500000</td>\n",
       "      <td>10</td>\n",
       "      <td>0.545938</td>\n",
       "      <td>0.211107</td>\n",
       "      <td>0.999042</td>\n",
       "      <td>2.227146e-06</td>\n",
       "      <td>8.865941</td>\n",
       "      <td>0.999043</td>\n",
       "      <td>3.902082</td>\n",
       "      <td>0.999043</td>\n",
       "    </tr>\n",
       "    <tr>\n",
       "      <th>2</th>\n",
       "      <td>1000000</td>\n",
       "      <td>10</td>\n",
       "      <td>0.919593</td>\n",
       "      <td>0.188071</td>\n",
       "      <td>0.999040</td>\n",
       "      <td>1.557318e-06</td>\n",
       "      <td>16.575382</td>\n",
       "      <td>0.999039</td>\n",
       "      <td>7.184584</td>\n",
       "      <td>0.999039</td>\n",
       "    </tr>\n",
       "    <tr>\n",
       "      <th>3</th>\n",
       "      <td>5000000</td>\n",
       "      <td>10</td>\n",
       "      <td>4.930542</td>\n",
       "      <td>0.650629</td>\n",
       "      <td>0.999040</td>\n",
       "      <td>8.271204e-07</td>\n",
       "      <td>80.131793</td>\n",
       "      <td>0.999040</td>\n",
       "      <td>32.022483</td>\n",
       "      <td>0.999040</td>\n",
       "    </tr>\n",
       "    <tr>\n",
       "      <th>4</th>\n",
       "      <td>10000000</td>\n",
       "      <td>10</td>\n",
       "      <td>9.140280</td>\n",
       "      <td>0.489890</td>\n",
       "      <td>0.999040</td>\n",
       "      <td>6.316811e-07</td>\n",
       "      <td>159.590770</td>\n",
       "      <td>0.999040</td>\n",
       "      <td>62.408405</td>\n",
       "      <td>0.999040</td>\n",
       "    </tr>\n",
       "    <tr>\n",
       "      <th>5</th>\n",
       "      <td>15000000</td>\n",
       "      <td>10</td>\n",
       "      <td>12.722001</td>\n",
       "      <td>0.267729</td>\n",
       "      <td>0.999040</td>\n",
       "      <td>1.974655e-07</td>\n",
       "      <td>231.189844</td>\n",
       "      <td>0.999039</td>\n",
       "      <td>91.926532</td>\n",
       "      <td>0.999039</td>\n",
       "    </tr>\n",
       "    <tr>\n",
       "      <th>6</th>\n",
       "      <td>20000000</td>\n",
       "      <td>10</td>\n",
       "      <td>16.073033</td>\n",
       "      <td>0.212598</td>\n",
       "      <td>0.999040</td>\n",
       "      <td>4.352536e-07</td>\n",
       "      <td>306.599324</td>\n",
       "      <td>0.999039</td>\n",
       "      <td>121.611345</td>\n",
       "      <td>0.999039</td>\n",
       "    </tr>\n",
       "    <tr>\n",
       "      <th>7</th>\n",
       "      <td>25000000</td>\n",
       "      <td>10</td>\n",
       "      <td>19.955422</td>\n",
       "      <td>0.188008</td>\n",
       "      <td>0.999040</td>\n",
       "      <td>2.781232e-07</td>\n",
       "      <td>385.193334</td>\n",
       "      <td>0.999039</td>\n",
       "      <td>152.622898</td>\n",
       "      <td>0.999039</td>\n",
       "    </tr>\n",
       "    <tr>\n",
       "      <th>8</th>\n",
       "      <td>30000000</td>\n",
       "      <td>10</td>\n",
       "      <td>24.019758</td>\n",
       "      <td>0.159221</td>\n",
       "      <td>0.999040</td>\n",
       "      <td>2.755813e-07</td>\n",
       "      <td>454.897410</td>\n",
       "      <td>0.999040</td>\n",
       "      <td>194.260576</td>\n",
       "      <td>0.999040</td>\n",
       "    </tr>\n",
       "    <tr>\n",
       "      <th>9</th>\n",
       "      <td>35000000</td>\n",
       "      <td>10</td>\n",
       "      <td>29.157389</td>\n",
       "      <td>1.294133</td>\n",
       "      <td>0.999040</td>\n",
       "      <td>2.449528e-07</td>\n",
       "      <td>532.630095</td>\n",
       "      <td>0.999040</td>\n",
       "      <td>238.451077</td>\n",
       "      <td>0.999040</td>\n",
       "    </tr>\n",
       "  </tbody>\n",
       "</table>\n",
       "</div>"
      ],
      "text/plain": [
       "   n_samples  n_features  Numpy_mean_time  std_time  Numpy_mean_r_squared  \\\n",
       "0     200000          10         0.264353  0.176450              0.999040   \n",
       "1     500000          10         0.545938  0.211107              0.999042   \n",
       "2    1000000          10         0.919593  0.188071              0.999040   \n",
       "3    5000000          10         4.930542  0.650629              0.999040   \n",
       "4   10000000          10         9.140280  0.489890              0.999040   \n",
       "5   15000000          10        12.722001  0.267729              0.999040   \n",
       "6   20000000          10        16.073033  0.212598              0.999040   \n",
       "7   25000000          10        19.955422  0.188008              0.999040   \n",
       "8   30000000          10        24.019758  0.159221              0.999040   \n",
       "9   35000000          10        29.157389  1.294133              0.999040   \n",
       "\n",
       "   std_r_squared  Spark and manual QR decomposition_mean_time  \\\n",
       "0   3.983148e-06                                     5.666338   \n",
       "1   2.227146e-06                                     8.865941   \n",
       "2   1.557318e-06                                    16.575382   \n",
       "3   8.271204e-07                                    80.131793   \n",
       "4   6.316811e-07                                   159.590770   \n",
       "5   1.974655e-07                                   231.189844   \n",
       "6   4.352536e-07                                   306.599324   \n",
       "7   2.781232e-07                                   385.193334   \n",
       "8   2.755813e-07                                   454.897410   \n",
       "9   2.449528e-07                                   532.630095   \n",
       "\n",
       "   Spark and manual QR decomposition_mean_r_squared  \\\n",
       "0                                          0.999042   \n",
       "1                                          0.999043   \n",
       "2                                          0.999039   \n",
       "3                                          0.999040   \n",
       "4                                          0.999040   \n",
       "5                                          0.999039   \n",
       "6                                          0.999039   \n",
       "7                                          0.999039   \n",
       "8                                          0.999040   \n",
       "9                                          0.999040   \n",
       "\n",
       "   Spark Linear Regressions_mean_time  Spark Linear Regressions_mean_r_squared  \n",
       "0                            3.221290                                 0.999042  \n",
       "1                            3.902082                                 0.999043  \n",
       "2                            7.184584                                 0.999039  \n",
       "3                           32.022483                                 0.999040  \n",
       "4                           62.408405                                 0.999040  \n",
       "5                           91.926532                                 0.999039  \n",
       "6                          121.611345                                 0.999039  \n",
       "7                          152.622898                                 0.999039  \n",
       "8                          194.260576                                 0.999040  \n",
       "9                          238.451077                                 0.999040  "
      ]
     },
     "execution_count": 72,
     "metadata": {},
     "output_type": "execute_result"
    }
   ],
   "source": [
    "comparison_df"
   ]
  },
  {
   "cell_type": "markdown",
   "id": "e58b5098-64e9-4e05-956a-0605c8884113",
   "metadata": {},
   "source": [
    "## 2.3) Plotting of the results"
   ]
  },
  {
   "cell_type": "code",
   "execution_count": null,
   "id": "698a3738-4d09-4794-95fd-7edeb2bebeca",
   "metadata": {},
   "outputs": [],
   "source": [
    "def plot_benchmark_results(n_values, avg_times, std_times):\n",
    "    \"\"\"\n",
    "    Plots benchmark results of computation times for a QR decomposition-based regression model \n",
    "    across varying sample sizes, displaying mean computation time with error bars representing \n",
    "    standard deviation.\n",
    "\n",
    "    Parameters\n",
    "    ----------\n",
    "    n_values : list\n",
    "        List of sample sizes (number of observations) for which benchmarks were performed.\n",
    "    avg_times : list\n",
    "        List of average computation times (in seconds) corresponding to each sample size in n_values.\n",
    "    std_times : list\n",
    "        List of standard deviations of computation times (in seconds) for each sample size in n_values.\n",
    "    \n",
    "    Returns\n",
    "    -------\n",
    "    None\n",
    "        The function directly displays a plot, with no return value.\n",
    "    \n",
    "    Notes\n",
    "    -----\n",
    "    - The plot uses a logarithmic scale on both axes to improve visibility of differences across a range of sample sizes.\n",
    "    - Error bars represent the standard deviation of computation times, offering a visual indication of variability.\n",
    "    - Plot labels, legend, and title are set in English.\n",
    "    \"\"\"\n",
    "    plt.figure(figsize=(10, 6))\n",
    "    plt.errorbar(n_values, avg_times, yerr=std_times, fmt='o', ecolor='r', capsize=5,\n",
    "                 label='Average Computation Time with Standard Deviation', linestyle='None')\n",
    "    plt.xscale('log')\n",
    "    plt.yscale('log')\n",
    "    plt.xlabel('Number of Observations (n)')\n",
    "    plt.ylabel('Computation Time (s)')\n",
    "    plt.title('Computation Time of QR Decomposition-Based Regression for Increasing n')\n",
    "    plt.grid(True)\n",
    "    plt.legend()\n",
    "    plt.show()\n"
   ]
  },
  {
   "cell_type": "code",
   "execution_count": 78,
   "id": "94435955-82ec-413c-9038-70bca7e4347f",
   "metadata": {},
   "outputs": [
    {
     "data": {
      "image/png": "[encoded data removed]",
      "text/plain": [
       "<Figure size 1000x600 with 1 Axes>"
      ]
     },
     "metadata": {},
     "output_type": "display_data"
    }
   ],
   "source": [
    "plot_benchmark_results(results_numpy_df[\"n_samples\"], results_numpy_df[\"mean_time\"], results_numpy_df[\"std_time\"])"
   ]
  },
  {
   "cell_type": "code",
   "execution_count": 79,
   "id": "63f16519-abac-4883-8ab2-2b095325bc26",
   "metadata": {},
   "outputs": [
    {
     "data": {
      "image/png": "[encoded data removed]",
      "text/plain": [
       "<Figure size 1000x600 with 1 Axes>"
      ]
     },
     "metadata": {},
     "output_type": "display_data"
    }
   ],
   "source": [
    "plot_benchmark_results(results_point_final[\"n_samples\"], results_point_final[\"mean_time\"], results_point_final[\"std_time\"])"
   ]
  },
  {
   "cell_type": "code",
   "execution_count": 80,
   "id": "06dd5e0d-6540-44d4-9e05-cad1be352128",
   "metadata": {},
   "outputs": [
    {
     "data": {
      "image/png": "[encoded data removed]",
      "text/plain": [
       "<Figure size 1000x600 with 1 Axes>"
      ]
     },
     "metadata": {},
     "output_type": "display_data"
    }
   ],
   "source": [
    "plot_benchmark_results(results_spark_final[\"n_samples\"], results_spark_final[\"mean_time\"], results_spark_final[\"std_time\"])"
   ]
  },
  {
   "cell_type": "code",
   "execution_count": null,
   "id": "ff10c315-79d4-4ead-a165-3b30af59089a",
   "metadata": {},
   "outputs": [],
   "source": []
  },
  {
   "cell_type": "code",
   "execution_count": null,
   "id": "93f86e1f-6d1b-46ab-905e-462090b9bd19",
   "metadata": {},
   "outputs": [],
   "source": []
  },
  {
   "cell_type": "code",
   "execution_count": null,
   "id": "9e257958-5aa2-4130-b5c2-313f3f3dc4a5",
   "metadata": {},
   "outputs": [],
   "source": []
  }
 ],
 "metadata": {
  "kernelspec": {
   "display_name": "Python 3 (ipykernel)",
   "language": "python",
   "name": "python3"
  },
  "language_info": {
   "codemirror_mode": {
    "name": "ipython",
    "version": 3
   },
   "file_extension": ".py",
   "mimetype": "text/x-python",
   "name": "python",
   "nbconvert_exporter": "python",
   "pygments_lexer": "ipython3",
   "version": "3.10.0"
  }
 },
 "nbformat": 4,
 "nbformat_minor": 5
}
