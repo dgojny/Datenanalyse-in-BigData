{
 "cells": [
  {
   "cell_type": "code",
   "execution_count": 14,
   "id": "6760d326-5582-4b4c-82ba-bc2c6d5ccda3",
   "metadata": {},
   "source": [
    "from pyspark.sql import SparkSession\n",
    "\n",
    "spark = SparkSession.builder.master(\"spark://spark-master:7077\").appName(\"Test\").getOrCreate()"
   ],
   "outputs": []
  },
  {
   "cell_type": "code",
   "execution_count": 15,
   "id": "290d625b-5d02-405e-9f93-e86456184bc4",
   "metadata": {},
   "source": [
    "import requests\n",
    "import csv\n",
    "from io import StringIO\n",
    "\n",
    "url = 'https://drive.usercontent.google.com/download?id=1z_AfT9UYwG7XqExz95MZOr_Ix4jDUXFw&export=download'\n",
    "\n",
    "response = requests.get(url)\n",
    "\n",
    "csv_data = response.text\n",
    "csv_reader = csv.reader(StringIO(csv_data))\n",
    "\n",
    "header = next(csv_reader)\n",
    "rows = [tuple(row) for row in csv_reader]\n",
    "\n",
    "# Read the CSV using PySpark\n",
    "df = spark.createDataFrame(rows, schema=header)\n",
    "\n",
    "# Show the DataFrame\n",
    "df.show()"
   ],
   "outputs": []
  },
  {
   "cell_type": "code",
   "execution_count": 19,
   "id": "c025121a-a011-4c0e-b02b-d5117ff99685",
   "metadata": {},
   "source": [
    "from scipy.stats import t, f\n",
    "import numpy as np\n",
    "from pyspark.sql.functions import length\n",
    "\n",
    "n = df.count()\n",
    "k = len(df.columns) - 1\n",
    "\n",
    "X = np.array(df.select(df.columns[1:]).rdd.map(lambda row: [1] + list(row)).collect(), dtype=float)\n",
    "Y = np.array(df.select(df.columns[:1]).rdd.map(lambda row: row[0]).collect(), dtype=float)\n",
    "\n",
    "XtX = np.dot(X.T, X)\n",
    "XtY = np.dot(X.T, Y)\n",
    "XtX_inv = np.linalg.inv(XtX)\n",
    "\n",
    "beta = np.dot(XtX_inv, XtY)\n",
    "\n",
    "Y_pred = np.dot(X, beta)\n",
    "\n",
    "residuals = Y - Y_pred\n",
    "f_residuals = n - k - 1\n",
    "\n",
    "SSE = np.sum(residuals ** 2)\n",
    "SSR = np.sum((beta - np.mean(Y)) ** 2)\n",
    "SST = SSR + SSE\n",
    "\n",
    "sigma_hat = np.sqrt(SSE / f_residuals)\n",
    "cov_matrix = (sigma_hat ** 2) * XtX_inv\n",
    "se = np.sqrt(np.diag(cov_matrix))\n",
    "t_werte = beta / se\n",
    "p_werte = 2 * (1 - t.cdf(np.abs(t_werte), f_residuals))\n",
    "f_statistics = (SSR / k) / (SSE / f_residuals)\n",
    "f_p_wert = 1 - f.cdf(f_statistics, k, f_residuals)\n",
    "quantile1_3 = np.quantile(residuals, (0.25, 0.75))\n",
    "quantile = [np.min(residuals), quantile1_3[0], np.median(residuals), quantile1_3[1], np.max(residuals)]\n",
    "r_quadrat = 1 - (np.sum((Y - Y_pred) ** 2) / np.sum((Y - np.mean(Y)) ** 2))\n",
    "adjusted_r_quadrat = 1 - ((n - 1) / f_residuals) * (np.sum((Y - Y_pred) ** 2) / np.sum((Y - np.mean(Y)) ** 2))"
   ],
   "outputs": []
  },
  {
   "cell_type": "code",
   "execution_count": 11,
   "id": "b1eef9dd-8716-4c02-aac9-36369cafa60b",
   "metadata": {},
   "source": [
    "import pandas as pd\n",
    "import numpy as np\n",
    "\n",
    "# Assuming the following variables are defined:\n",
    "# beta, se, t_werte, p_werte, residuals, quantile, sigma_hat, df_residuals,\n",
    "# r_quadrat, adjusted_r_quadrat, f_statistiken, f_p_wert, n, k, Y, y_pred, X, dataframe, cov_matrix\n",
    "\n",
    "# Step 1: Create the summary dictionary with nested DataFrames\n",
    "result = {\n",
    "    'summary': {\n",
    "        'Coefficients': pd.DataFrame({\n",
    "            'Estimate': np.round(beta, 5),\n",
    "            'Std_Error': np.round(se, 5),\n",
    "            't_value': np.round(t_werte, 3),\n",
    "            'p_value': np.round(p_werte, 6)\n",
    "        }),\n",
    "        'Residuals': pd.DataFrame({\n",
    "            'Min': [np.round(min(residuals), 5)],\n",
    "            'Quantil1': [np.round(quantile[1], 5)],\n",
    "            'Med': [np.round(np.median(residuals), 5)],\n",
    "            'Quantil3': [np.round(quantile[3], 5)],\n",
    "            'Max': [np.round(max(residuals), 5)]\n",
    "        }),\n",
    "        'Properties': pd.DataFrame({\n",
    "            'n': [n],\n",
    "            'Sigma': [np.round(sigma_hat, 4)],\n",
    "            'df': [f_residuals],\n",
    "            'R_squared': [np.round(r_quadrat, 4)],\n",
    "            'R_squared_a': [np.round(adjusted_r_quadrat, 4)],\n",
    "            'F_statistic': [np.round(f_statistics, 1)],\n",
    "            'P_value': [f_p_wert]\n",
    "        })\n",
    "    },\n",
    "    'data': {\n",
    "        'n': n,\n",
    "        'k': k,\n",
    "        'Y': Y,\n",
    "        'Y_Predicted': Y_pred,\n",
    "        'X': X,\n",
    "        'Residuals': residuals,\n",
    "        'DataFrame': df,\n",
    "        'Beta': beta,\n",
    "        'Cov_Matrix': cov_matrix\n",
    "    }\n",
    "}\n",
    "result"
   ],
   "outputs": []
  },
  {
   "cell_type": "code",
   "execution_count": 23,
   "id": "6de4738e-ce06-4200-8f14-7f3579cb711b",
   "metadata": {},
   "source": [
    "spark.stop()"
   ],
   "outputs": []
  },
  {
   "cell_type": "code",
   "execution_count": 20,
   "id": "63b870e9-7d18-4f1d-a1a9-13e91ccd6d23",
   "metadata": {},
   "source": [
    "XtX"
   ],
   "outputs": []
  },
  {
   "cell_type": "code",
   "execution_count": 21,
   "id": "295ff9d7-5432-438e-ab18-581c05bba733",
   "metadata": {},
   "source": [
    "XtY"
   ],
   "outputs": []
  },
  {
   "cell_type": "code",
   "execution_count": 22,
   "id": "7f44b9f2-0139-4cab-9ecd-47376b89b689",
   "metadata": {},
   "source": [
    "XtX_inv"
   ],
   "outputs": []
  },
  {
   "cell_type": "code",
   "execution_count": null,
   "id": "adcd23bf-eb12-4549-8737-4516573a4a6b",
   "metadata": {},
   "source": [],
   "outputs": []
  }
 ],
 "metadata": {
  "kernelspec": {
   "display_name": "Python 3 (ipykernel)",
   "language": "python",
   "name": "python3"
  },
  "language_info": {
   "codemirror_mode": {
    "name": "ipython",
    "version": 3
   },
   "file_extension": ".py",
   "mimetype": "text/x-python",
   "name": "python",
   "nbconvert_exporter": "python",
   "pygments_lexer": "ipython3",
   "version": "3.9.2"
  }
 },
 "nbformat": 4,
 "nbformat_minor": 5
}
