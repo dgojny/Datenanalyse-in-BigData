{
 "cells": [
  {
   "cell_type": "code",
   "execution_count": 2,
   "id": "f52c2f0e-3f56-4008-b7db-766904e770eb",
   "metadata": {},
   "outputs": [
    {
     "ename": "KeyboardInterrupt",
     "evalue": "",
     "output_type": "error",
     "traceback": [
      "\u001b[0;31m---------------------------------------------------------------------------\u001b[0m",
      "\u001b[0;31mKeyboardInterrupt\u001b[0m                         Traceback (most recent call last)",
      "Cell \u001b[0;32mIn[2], line 67\u001b[0m\n\u001b[1;32m     64\u001b[0m     \u001b[38;5;28;01mreturn\u001b[39;00m results\n\u001b[1;32m     66\u001b[0m n_values \u001b[38;5;241m=\u001b[39m [\u001b[38;5;241m200000\u001b[39m, \u001b[38;5;241m500000\u001b[39m, \u001b[38;5;241m1000000\u001b[39m, \u001b[38;5;241m5000000\u001b[39m, \u001b[38;5;241m10000000\u001b[39m]\n\u001b[0;32m---> 67\u001b[0m benchmark_results \u001b[38;5;241m=\u001b[39m \u001b[43mrun_benchmark\u001b[49m\u001b[43m(\u001b[49m\u001b[43mn_values\u001b[49m\u001b[43m)\u001b[49m\n\u001b[1;32m     69\u001b[0m \u001b[38;5;28;01mfor\u001b[39;00m i \u001b[38;5;129;01min\u001b[39;00m benchmark_results:\n\u001b[1;32m     70\u001b[0m     \u001b[38;5;28mprint\u001b[39m(\u001b[38;5;124m\"\u001b[39m\u001b[38;5;130;01m\\n\u001b[39;00m\u001b[38;5;124m Datenzeilen: \u001b[39m\u001b[38;5;124m\"\u001b[39m, i[\u001b[38;5;241m0\u001b[39m])\n",
      "Cell \u001b[0;32mIn[2], line 57\u001b[0m, in \u001b[0;36mrun_benchmark\u001b[0;34m(n_list, repetitions)\u001b[0m\n\u001b[1;32m     55\u001b[0m \u001b[38;5;28;01mfor\u001b[39;00m _ \u001b[38;5;129;01min\u001b[39;00m \u001b[38;5;28mrange\u001b[39m(repetitions):\n\u001b[1;32m     56\u001b[0m     X, y \u001b[38;5;241m=\u001b[39m create_data(n, p, beta_true)\n\u001b[0;32m---> 57\u001b[0m     beta, elapsed_time \u001b[38;5;241m=\u001b[39m \u001b[43mlinear_regression_manual_qr\u001b[49m\u001b[43m(\u001b[49m\u001b[43mX\u001b[49m\u001b[43m,\u001b[49m\u001b[43m \u001b[49m\u001b[43my\u001b[49m\u001b[43m)\u001b[49m\n\u001b[1;32m     58\u001b[0m     times\u001b[38;5;241m.\u001b[39mappend(elapsed_time)\n\u001b[1;32m     60\u001b[0m avg_time \u001b[38;5;241m=\u001b[39m np\u001b[38;5;241m.\u001b[39mmean(times)\n",
      "Cell \u001b[0;32mIn[2], line 42\u001b[0m, in \u001b[0;36mlinear_regression_manual_qr\u001b[0;34m(X, y)\u001b[0m\n\u001b[1;32m     40\u001b[0m \u001b[38;5;28;01mdef\u001b[39;00m \u001b[38;5;21mlinear_regression_manual_qr\u001b[39m(X, y):\n\u001b[1;32m     41\u001b[0m     start_time \u001b[38;5;241m=\u001b[39m time\u001b[38;5;241m.\u001b[39mtime()\n\u001b[0;32m---> 42\u001b[0m     Q, R \u001b[38;5;241m=\u001b[39m \u001b[43mgram_schmidt\u001b[49m\u001b[43m(\u001b[49m\u001b[43mX\u001b[49m\u001b[43m)\u001b[49m\n\u001b[1;32m     43\u001b[0m     beta \u001b[38;5;241m=\u001b[39m backward_substitution(R, Q\u001b[38;5;241m.\u001b[39mT \u001b[38;5;241m@\u001b[39m y)\n\u001b[1;32m     44\u001b[0m     end_time \u001b[38;5;241m=\u001b[39m time\u001b[38;5;241m.\u001b[39mtime()\n",
      "Cell \u001b[0;32mIn[2], line 25\u001b[0m, in \u001b[0;36mgram_schmidt\u001b[0;34m(X)\u001b[0m\n\u001b[1;32m     22\u001b[0m v \u001b[38;5;241m=\u001b[39m X[:, j]\n\u001b[1;32m     24\u001b[0m \u001b[38;5;28;01mfor\u001b[39;00m i \u001b[38;5;129;01min\u001b[39;00m \u001b[38;5;28mrange\u001b[39m(j):\n\u001b[0;32m---> 25\u001b[0m     R[i, j] \u001b[38;5;241m=\u001b[39m \u001b[43mnp\u001b[49m\u001b[38;5;241;43m.\u001b[39;49m\u001b[43mdot\u001b[49m\u001b[43m(\u001b[49m\u001b[43mQ\u001b[49m\u001b[43m[\u001b[49m\u001b[43m:\u001b[49m\u001b[43m,\u001b[49m\u001b[43m \u001b[49m\u001b[43mi\u001b[49m\u001b[43m]\u001b[49m\u001b[43m,\u001b[49m\u001b[43m \u001b[49m\u001b[43mX\u001b[49m\u001b[43m[\u001b[49m\u001b[43m:\u001b[49m\u001b[43m,\u001b[49m\u001b[43m \u001b[49m\u001b[43mj\u001b[49m\u001b[43m]\u001b[49m\u001b[43m)\u001b[49m\n\u001b[1;32m     26\u001b[0m     v \u001b[38;5;241m=\u001b[39m v \u001b[38;5;241m-\u001b[39m R[i, j] \u001b[38;5;241m*\u001b[39m Q[:, i]\n\u001b[1;32m     28\u001b[0m R[j, j] \u001b[38;5;241m=\u001b[39m np\u001b[38;5;241m.\u001b[39mlinalg\u001b[38;5;241m.\u001b[39mnorm(v)\n",
      "\u001b[0;31mKeyboardInterrupt\u001b[0m: "
     ]
    }
   ],
   "source": [
    "import numpy as np\n",
    "import time\n",
    "\n",
    "def backward_substitution(A, y):\n",
    "    n = A.shape[0]\n",
    "    b = np.zeros(n)\n",
    "\n",
    "    for i in range(n - 1, -1, -1):\n",
    "        if A[i, i] == 0:\n",
    "            raise ValueError(\"Die Matrix A enthält eine Null auf der Diagonale, keine eindeutige Lösung möglich.\")\n",
    "        \n",
    "        b[i] = (y[i] - np.dot(A[i, i+1:], b[i+1:])) / A[i, i]\n",
    "\n",
    "    return b\n",
    "\n",
    "def gram_schmidt(X):\n",
    "    n, m = X.shape\n",
    "    Q = np.zeros((n, m))\n",
    "    R = np.zeros((m, m))\n",
    "\n",
    "    for j in range(m):\n",
    "        v = X[:, j]\n",
    "        \n",
    "        for i in range(j):\n",
    "            R[i, j] = np.dot(Q[:, i], X[:, j])\n",
    "            v = v - R[i, j] * Q[:, i]\n",
    "\n",
    "        R[j, j] = np.linalg.norm(v)\n",
    "        Q[:, j] = v / R[j, j]\n",
    "\n",
    "    return Q, R\n",
    "\n",
    "def create_data(n, p, beta_true):\n",
    "    np.random.seed(42)\n",
    "    X = np.random.rand(n, p)\n",
    "    X = np.column_stack([np.ones(X.shape[0]), X])\n",
    "    y = X @ beta_true + np.random.randn(n) * 0.1\n",
    "    return X, y\n",
    "\n",
    "def linear_regression_manual_qr(X, y):\n",
    "    start_time = time.time()\n",
    "    Q, R = gram_schmidt(X)\n",
    "    beta = backward_substitution(R, Q.T @ y)\n",
    "    end_time = time.time()\n",
    "    elapsed_time = end_time - start_time\n",
    "    return beta, elapsed_time\n",
    "\n",
    "def run_benchmark(n_list, repetitions=5):\n",
    "    results = []\n",
    "    beta_true = [-8, -1.6, 4.1, -10, -9.2, 1.3, 1.6, 2.3]\n",
    "    p = 7\n",
    "\n",
    "    for n in n_list:\n",
    "        times = []\n",
    "        for _ in range(repetitions):\n",
    "            X, y = create_data(n, p, beta_true)\n",
    "            beta, elapsed_time = linear_regression_manual_qr(X, y)\n",
    "            times.append(elapsed_time)\n",
    "\n",
    "        avg_time = np.mean(times)\n",
    "        std_time = np.std(times)\n",
    "        results.append([n, avg_time, std_time, beta])\n",
    "\n",
    "    return results\n",
    "\n",
    "n_values = [200000, 500000, 1000000, 5000000, 10000000]\n",
    "benchmark_results = run_benchmark(n_values)\n",
    "\n",
    "for i in benchmark_results:\n",
    "    print(\"\\n Datenzeilen: \", i[0])\n",
    "    print(\"Laufzeit: \", i[1])"
   ]
  },
  {
   "cell_type": "code",
   "execution_count": null,
   "id": "963d16cc-9450-4001-af95-411924f1470d",
   "metadata": {},
   "outputs": [],
   "source": []
  }
 ],
 "metadata": {
  "kernelspec": {
   "display_name": "Python 3 (ipykernel)",
   "language": "python",
   "name": "python3"
  },
  "language_info": {
   "codemirror_mode": {
    "name": "ipython",
    "version": 3
   },
   "file_extension": ".py",
   "mimetype": "text/x-python",
   "name": "python",
   "nbconvert_exporter": "python",
   "pygments_lexer": "ipython3",
   "version": "3.10.0"
  }
 },
 "nbformat": 4,
 "nbformat_minor": 5
}
