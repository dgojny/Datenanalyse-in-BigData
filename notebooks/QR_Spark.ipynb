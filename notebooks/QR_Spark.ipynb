{
 "cells": [
  {
   "cell_type": "markdown",
   "id": "8fe69520-de18-4f7e-a57d-3ce1bf9c801d",
   "metadata": {},
   "source": [
    "# Imports"
   ]
  },
  {
   "cell_type": "code",
   "execution_count": 1,
   "id": "e7bf477c-4d95-43c1-98b3-b204326365e8",
   "metadata": {},
   "outputs": [],
   "source": [
    "#!pip install statsmodels matplotlib"
   ]
  },
  {
   "cell_type": "code",
   "execution_count": 6,
   "id": "780a1904-2987-455f-90ef-5de906bf8863",
   "metadata": {},
   "outputs": [],
   "source": [
    "from pyspark.ml.feature import VectorAssembler\n",
    "from pyspark.ml.linalg import Vectors, VectorUDT\n",
    "from pyspark.ml.regression import LinearRegression\n",
    "from pyspark.sql import SparkSession\n",
    "from pyspark.sql.types import StructType, StructField, DoubleType\n",
    "import numpy as np\n",
    "import pandas as pd\n",
    "import matplotlib.pyplot as plt\n",
    "import time\n",
    "import numpy as np\n",
    "import numpy as np\n",
    "from pyspark.sql.functions import col\n",
    "from pyspark.ml.linalg import Vectors, VectorUDT\n",
    "from pyspark.sql.types import DoubleType\n",
    "import time\n",
    "import scipy.stats as stats\n",
    "import numpy as np\n",
    "import pandas as pd\n",
    "import statsmodels.api as sm\n",
    "import scipy.stats as stats\n",
    "from scipy.stats import t, f\n",
    "import time\n",
    "import matplotlib.pyplot as plt  # Diesen Import hinzufügen\n",
    "from numpy.linalg import LinAlgError\n"
   ]
  },
  {
   "cell_type": "markdown",
   "id": "a0efbb38-8ac2-4704-a8d2-c5bf884b37b4",
   "metadata": {},
   "source": [
    "# Initialize Spark session"
   ]
  },
  {
   "cell_type": "code",
   "execution_count": 7,
   "id": "4d0d7bb0-bb83-4dd1-bc10-c99a76b7af12",
   "metadata": {},
   "outputs": [],
   "source": [
    "spark = SparkSession.builder.master(\"spark://spark-master:7077\").appName(\"ManualQRDecomposition\").getOrCreate()\n",
    "spark.sparkContext.setLogLevel(\"ERROR\")"
   ]
  },
  {
   "cell_type": "markdown",
   "id": "e8bc8cf8-3584-4cdf-88fa-7a3dbd17c89a",
   "metadata": {},
   "source": [
    "# 1) Funktionen für Lineare Regression mit QR Decomposition"
   ]
  },
  {
   "cell_type": "markdown",
   "id": "1fd80614-6695-401e-a843-8b9e585e4f28",
   "metadata": {},
   "source": [
    "## 1.1) Lösen eines LGS durch Rückwärts Einsetzen"
   ]
  },
  {
   "cell_type": "code",
   "execution_count": 8,
   "id": "c52d27f0-21af-4b08-ad87-c39f37e81e8a",
   "metadata": {},
   "outputs": [],
   "source": [
    "def backward_substitution(R, b):\n",
    "    \"\"\"\n",
    "    Solves the upper triangular system Rx = b for x using backward substitution.\n",
    "    \n",
    "    Parameters\n",
    "    ----------\n",
    "    R : ndarray\n",
    "        Upper triangular matrix from QR decomposition\n",
    "    b : ndarray\n",
    "        The right-hand side vector\n",
    "        \n",
    "    Returns\n",
    "    -------\n",
    "    ndarray\n",
    "        Solution vector x that satisfies Rx = b\n",
    "        \n",
    "    Notes\n",
    "    -----\n",
    "    - Implements classic backward substitution algorithm\n",
    "    - Includes numerical stability check (threshold of 1e-10)\n",
    "    - Returns zero for numerically unstable solutions\n",
    "    \"\"\"\n",
    "    n = len(b)\n",
    "    x = np.zeros(n)\n",
    "    \n",
    "    for i in range(n-1, -1, -1):\n",
    "        sum_val = 0\n",
    "        for j in range(i+1, n):\n",
    "            sum_val += R[i, j] * x[j]\n",
    "        \n",
    "        if abs(R[i, i]) > 1e-10:  # Check for numerical stability\n",
    "            x[i] = (b[i] - sum_val) / R[i, i]\n",
    "        else:\n",
    "            x[i] = 0\n",
    "            \n",
    "    return x"
   ]
  },
  {
   "cell_type": "markdown",
   "id": "699aa431-e57f-42a3-b539-20c118e38599",
   "metadata": {},
   "source": [
    "## 1.2) QR Zerlegung"
   ]
  },
  {
   "cell_type": "markdown",
   "id": "8e60304a-4ec6-4928-989b-1d4a5c8cb70c",
   "metadata": {},
   "source": [
    "### 1.2.1) Gram Schmidt ohne Sparkoptimierung"
   ]
  },
  {
   "cell_type": "code",
   "execution_count": 9,
   "id": "bc07ed62-e4b1-42aa-99fd-0f649fc8b243",
   "metadata": {},
   "outputs": [],
   "source": [
    "def manual_qr_decomposition(X_array):\n",
    "    \"\"\"\n",
    "    Performs QR decomposition using modified Gram-Schmidt with numerical stability handling.\n",
    "    \n",
    "    Parameters\n",
    "    ----------\n",
    "    X_array : ndarray\n",
    "        Input matrix to decompose, shape (n, m)\n",
    "        \n",
    "    Returns\n",
    "    -------\n",
    "    Q : ndarray\n",
    "        Orthogonal matrix, shape (n, m)\n",
    "    R : ndarray\n",
    "        Upper triangular matrix, shape (m, m)\n",
    "        \n",
    "    Notes\n",
    "    -----\n",
    "    - Implements modified Gram-Schmidt process\n",
    "    - Includes numerical stability threshold (1e-12)\n",
    "    - Returns zeros for numerically unstable columns\n",
    "    \"\"\"\n",
    "    n, m = X_array.shape\n",
    "    Q = np.zeros((n, m))\n",
    "    R = np.zeros((m, m))\n",
    "    \n",
    "    for j in range(m):\n",
    "        v = X_array[:, j]\n",
    "        for i in range(j):\n",
    "            R[i, j] = np.dot(Q[:, i], X_array[:, j])\n",
    "            v = v - R[i, j] * Q[:, i]\n",
    "        norm = np.linalg.norm(v)\n",
    "        if norm > 1e-12:  # Only normalize if norm is significant\n",
    "            Q[:, j] = v / norm\n",
    "            R[j, j] = norm\n",
    "        else:\n",
    "            R[j, j] = 0\n",
    "    return Q, R"
   ]
  },
  {
   "cell_type": "markdown",
   "id": "515461cc-cc5e-4bec-b04a-7d90294d8f71",
   "metadata": {},
   "source": [
    "### 1.2.1) Gram Schmidt mit Sparkoptimierung"
   ]
  },
  {
   "cell_type": "code",
   "execution_count": 10,
   "id": "8830863b-6f7b-4317-b0e6-bc25d95d1d2e",
   "metadata": {},
   "outputs": [],
   "source": [
    "def gram_schmidt(X):\n",
    "    \"\"\"\n",
    "    Performs classical Gram-Schmidt orthogonalization.\n",
    "    \n",
    "    Parameters\n",
    "    ----------\n",
    "    X : ndarray\n",
    "        Input matrix to orthogonalize, shape (n, m)\n",
    "        \n",
    "    Returns\n",
    "    -------\n",
    "    Q : ndarray\n",
    "        Orthogonal matrix, shape (n, m)\n",
    "    R : ndarray\n",
    "        Upper triangular matrix, shape (m, m)\n",
    "        \n",
    "    Notes\n",
    "    -----\n",
    "    - Implements classical Gram-Schmidt orthogonalization\n",
    "    - No explicit numerical stability checks\n",
    "    - May be less stable than modified Gram-Schmidt for ill-conditioned matrices\n",
    "    \"\"\"\n",
    "    n, m = X.shape\n",
    "    Q = np.zeros((n, m))\n",
    "    R = np.zeros((m, m))\n",
    "\n",
    "    for j in range(m):\n",
    "        v = X[:, j]\n",
    "        \n",
    "        for i in range(j):\n",
    "            R[i, j] = np.dot(Q[:, i], X[:, j])\n",
    "            v = v - R[i, j] * Q[:, i]\n",
    "\n",
    "        R[j, j] = np.linalg.norm(v)\n",
    "        Q[:, j] = v / R[j, j]\n",
    "\n",
    "    return Q, R"
   ]
  },
  {
   "cell_type": "markdown",
   "id": "1b829778-5e93-476e-8c5e-2b93dee3beab",
   "metadata": {},
   "source": [
    "## 1.3) Datensatz simulieren"
   ]
  },
  {
   "cell_type": "markdown",
   "id": "ff8df7af-e5c3-4194-b54b-64bdaa2b25ff",
   "metadata": {},
   "source": [
    "### 1.3.1) Datensatz simulieren ohne Sparkoptimierung"
   ]
  },
  {
   "cell_type": "code",
   "execution_count": 7,
   "id": "b98535df-d721-4911-bb4b-1dab272760d6",
   "metadata": {},
   "outputs": [],
   "source": [
    "def create_data_numpy(n, p, beta_true):\n",
    "    \"\"\"\n",
    "    Generates synthetic regression data using NumPy.\n",
    "    \n",
    "    Parameters\n",
    "    ----------\n",
    "    n : int\n",
    "        Number of samples\n",
    "    p : int\n",
    "        Number of features (excluding intercept)\n",
    "    beta_true : ndarray\n",
    "        True coefficient values including intercept\n",
    "        \n",
    "    Returns\n",
    "    -------\n",
    "    X : ndarray\n",
    "        Design matrix with intercept column, shape (n, p+1)\n",
    "    y : ndarray\n",
    "        Target variable vector, shape (n,)\n",
    "        \n",
    "    Notes\n",
    "    -----\n",
    "    - Uses fixed random seed (42) for reproducibility\n",
    "    - Adds constant term (intercept) to X\n",
    "    - Adds Gaussian noise with std=0.1 to y\n",
    "    \"\"\"\n",
    "    np.random.seed(42)\n",
    "    X = np.random.rand(n, p)\n",
    "    X = np.column_stack([np.ones(X.shape[0]), X])\n",
    "    y = X @ beta_true + np.random.randn(n) * 0.1\n",
    "    return X, y"
   ]
  },
  {
   "cell_type": "markdown",
   "id": "f3053fff-9fd2-4383-b210-efd0a70ca89e",
   "metadata": {},
   "source": [
    "### 1.3.2) Datensatz simulieren mit Sparkoptimierung"
   ]
  },
  {
   "cell_type": "code",
   "execution_count": 8,
   "id": "da0d5d5e-a431-4674-8e25-fadb4a65e54c",
   "metadata": {},
   "outputs": [],
   "source": [
    "def create_data_spark(n_samples, n_features, beta_true, noise_std=0.1, partition_size=10000):\n",
    "    \"\"\"\n",
    "    Generates distributed synthetic regression data optimized for Spark.\n",
    "    \n",
    "    Parameters\n",
    "    ----------\n",
    "    n_samples : int\n",
    "        Total number of observations\n",
    "    n_features : int\n",
    "        Number of features (excluding intercept)\n",
    "    beta_true : ndarray\n",
    "        True coefficient values including intercept\n",
    "    noise_std : float, optional\n",
    "        Standard deviation of Gaussian noise, default=0.1\n",
    "    partition_size : int, optional\n",
    "        Number of samples per partition, default=10000\n",
    "        \n",
    "    Returns\n",
    "    -------\n",
    "    DataFrame\n",
    "        Spark DataFrame with features and target columns\n",
    "        \n",
    "    Notes\n",
    "    -----\n",
    "    - Generates data in parallel across partitions\n",
    "    - Uses unique random seeds per partition\n",
    "    - Optimized for distributed processing\n",
    "    \"\"\"\n",
    "    def generate_partition(partition_index, partition_size):\n",
    "        np.random.seed(42 + partition_index)  # Unique seed for each partition to avoid duplicate data\n",
    "        X = np.random.randn(partition_size, n_features)\n",
    "        X = np.column_stack([np.ones(partition_size), X])  # Add intercept\n",
    "        y = X @ beta_true + np.random.normal(0, noise_std, partition_size)\n",
    "        return [(Vectors.dense(x), float(y_i)) for x, y_i in zip(X, y)]\n",
    "    \n",
    "    num_partitions = max(n_samples // partition_size, spark.sparkContext.defaultParallelism)\n",
    "    samples_per_partition = n_samples // num_partitions\n",
    "    \n",
    "    # Parallelize the data generation across partitions\n",
    "    rdd = (spark.sparkContext\n",
    "           .parallelize(range(num_partitions), num_partitions)\n",
    "           .flatMap(lambda i: generate_partition(i, samples_per_partition)))\n",
    "    \n",
    "    return spark.createDataFrame(rdd, [\"features\", \"y\"])\n"
   ]
  },
  {
   "cell_type": "markdown",
   "id": "306d14c3-ea1f-4d92-8823-f39e6ecc1023",
   "metadata": {},
   "source": [
    "## 1.4) Funktion zur Durchführung der linearen Regression \n",
    "\n",
    "- simuliert einen Datensatz\n",
    "- führt die lineare Regression durch\n",
    "- berechnet alle Metriken, die auch statmodels `summary()` ausgibt\n",
    "- misst die Zeit"
   ]
  },
  {
   "cell_type": "markdown",
   "id": "b6e6acd3-d231-4ac8-bd3f-7c28c9dd525b",
   "metadata": {},
   "source": [
    "### 1.4.1) Funktion zur Berechnung der Statistik"
   ]
  },
  {
   "cell_type": "code",
   "execution_count": 12,
   "id": "6d058ac9-6aeb-4537-a3a9-b916d74b259e",
   "metadata": {},
   "outputs": [],
   "source": [
    "def compute_statistics_numpy(X, y, beta, residuals):\n",
    "    \"\"\"\n",
    "    Computes comprehensive regression statistics using NumPy.\n",
    "    \n",
    "    Parameters\n",
    "    ----------\n",
    "    X : ndarray\n",
    "        Design matrix including intercept\n",
    "    y : ndarray\n",
    "        Target variable vector\n",
    "    beta : ndarray\n",
    "        Estimated coefficients\n",
    "    residuals : ndarray\n",
    "        Model residuals (y - X @ beta)\n",
    "        \n",
    "    Returns\n",
    "    -------\n",
    "    dict\n",
    "        Dictionary containing various statistics including:\n",
    "        - R-squared and Adjusted R-squared\n",
    "        - F-statistic and p-value\n",
    "        - Standard errors and t-statistics\n",
    "        - AIC and BIC\n",
    "        - Durbin-Watson statistic\n",
    "        - Jarque-Bera test results\n",
    "        \n",
    "    Notes\n",
    "    -----\n",
    "    - Computes full suite of regression diagnostics\n",
    "    - Includes both model fit and residual diagnostics\n",
    "    \"\"\"\n",
    "    n, k = X.shape\n",
    "    SSE = np.sum(residuals ** 2)\n",
    "    SST = np.sum((y - np.mean(y)) ** 2)\n",
    "    SSR = SST - SSE\n",
    "    df_residuals = n - k\n",
    "    df_model = k - 1\n",
    "    \n",
    "    r_squared = 1 - (SSE / SST)\n",
    "    adj_r_squared = 1 - ((1 - r_squared) * (n - 1) / df_residuals)\n",
    "    \n",
    "    MSE = SSE / df_residuals\n",
    "    MSR = SSR / df_model\n",
    "    f_statistic = MSR / MSE\n",
    "    f_p_value = stats.f.sf(f_statistic, df_model, df_residuals)\n",
    "    \n",
    "    sigma_squared = MSE\n",
    "    XtX_inv = np.linalg.inv(X.T @ X)\n",
    "    se = np.sqrt(np.diag(sigma_squared * XtX_inv))\n",
    "    t_values = beta / se\n",
    "    p_values = 2 * (1 - stats.t.cdf(np.abs(t_values), df_residuals))\n",
    "    \n",
    "    skewness = stats.skew(residuals)\n",
    "    kurtosis = stats.kurtosis(residuals, fisher=False)\n",
    "    log_likelihood = -0.5 * n * (np.log(2 * np.pi * sigma_squared) + 1)\n",
    "    AIC = 2 * k - 2 * log_likelihood\n",
    "    BIC = n * np.log(SSE / n) + k * np.log(n)\n",
    "    \n",
    "    dw_statistic = np.sum(np.diff(residuals) ** 2) / SSE\n",
    "    \n",
    "    jarque_bera_stat = (n / 6) * (skewness**2 + (kurtosis - 3)**2 / 4)\n",
    "    prob_jb = 1 - stats.chi2.cdf(jarque_bera_stat, df=2)\n",
    "    \n",
    "    return {\n",
    "        'r_squared': r_squared,\n",
    "        'Adjusted R-squared': adj_r_squared,\n",
    "        'F-statistic': f_statistic,\n",
    "        'Prob (F-statistic)': f_p_value,\n",
    "        'Log-Likelihood': log_likelihood,\n",
    "        'AIC': AIC,\n",
    "        'BIC': BIC,\n",
    "        'coef': beta,\n",
    "        'std err': se,\n",
    "        't': t_values,\n",
    "        'P>|t|': p_values,\n",
    "        'Skew': skewness,\n",
    "        'Kurtosis': kurtosis,\n",
    "        'Durbin-Watson': dw_statistic,\n",
    "        'Jarque-Bera (JB)': jarque_bera_stat,\n",
    "        'Prob(JB)': prob_jb,\n",
    "        'mse': MSE\n",
    "    }"
   ]
  },
  {
   "cell_type": "code",
   "execution_count": null,
   "id": "cc87246e-14b8-4496-9546-33caa28f79a6",
   "metadata": {},
   "outputs": [],
   "source": [
    " def compute_statistics_partition(iterator, beta):\n",
    "     \"\"\"\n",
    "    Computes partial statistics for a partition of data in Spark.\n",
    "    \n",
    "    Parameters\n",
    "    ----------\n",
    "    iterator : iterator\n",
    "        Iterator over partition rows\n",
    "    beta : ndarray\n",
    "        Estimated coefficients\n",
    "        \n",
    "    Returns\n",
    "    -------\n",
    "    tuple\n",
    "        (SSE_local, SST_local, SSR_local, y_sum_local, count_local)\n",
    "        Local statistics for the partition\n",
    "        \n",
    "    Notes\n",
    "    -----\n",
    "    - Designed for distributed computation in Spark\n",
    "    - Handles empty partitions gracefully\n",
    "    - Computes sufficient statistics for later aggregation\n",
    "    \"\"\"\n",
    "        rows = list(iterator)\n",
    "        SSE_local, SST_local, SSR_local = 0, 0, 0\n",
    "        y_sum_local, count_local = 0, 0\n",
    "\n",
    "        if len(rows) == 0:\n",
    "            print(\"Empty partition in compute_statistics_partition.\")\n",
    "            return (0.0, 0.0, 0.0, 0.0, 0)\n",
    "\n",
    "        # First pass to get mean\n",
    "        for row in rows:\n",
    "            y = row.y\n",
    "            y_sum_local += y\n",
    "            count_local += 1\n",
    "\n",
    "        if count_local > 0:\n",
    "            y_mean_local = y_sum_local / count_local\n",
    "\n",
    "            # Second pass for calculations\n",
    "            for row in rows:\n",
    "                X = row.features.toArray()\n",
    "                y = row.y\n",
    "                y_pred = np.dot(X, beta)\n",
    "                residual = y - y_pred\n",
    "                SSE_local += residual ** 2\n",
    "                SST_local += (y - y_mean_local) ** 2\n",
    "\n",
    "            SSR_local = SST_local - SSE_local\n",
    "\n",
    "        return (SSE_local, SST_local, SSR_local, y_sum_local, count_local)"
   ]
  },
  {
   "cell_type": "code",
   "execution_count": null,
   "id": "25d1ea37-2d73-43e1-8360-709c0d154430",
   "metadata": {},
   "outputs": [],
   "source": [
    "\n",
    "def aggregate_statistics(rdd_stats, n, beta_length):\n",
    "    \"\"\"\n",
    "    Aggregates statistics across all partitions in Spark.\n",
    "    \n",
    "    Parameters\n",
    "    ----------\n",
    "    rdd_stats : RDD\n",
    "        RDD containing partial statistics from each partition\n",
    "    n : int\n",
    "        Total number of samples\n",
    "    beta_length : int\n",
    "        Number of coefficients (including intercept)\n",
    "        \n",
    "    Returns\n",
    "    -------\n",
    "    dict\n",
    "        Aggregated statistics including:\n",
    "        - R-squared and Adjusted R-squared\n",
    "        - F-statistic\n",
    "        - AIC and BIC\n",
    "        - Sample size and feature count\n",
    "        \n",
    "    Notes\n",
    "    -----\n",
    "    - Implements safe reduction operations\n",
    "    - Handles edge cases and potential errors\n",
    "    - Includes comprehensive error checking\n",
    "    \"\"\"\n",
    "    def safe_reduce(a, b):\n",
    "        try:\n",
    "            return (\n",
    "                a[0] + (b[0] if isinstance(b[0], (int, float)) else 0),\n",
    "                a[1] + (b[1] if isinstance(b[1], (int, float)) else 0),\n",
    "                a[2] + (b[2] if isinstance(b[2], (int, float)) else 0),\n",
    "                a[3] + (b[3] if isinstance(b[3], (int, float)) else 0),\n",
    "                a[4] + (b[4] if isinstance(b[4], int) else 0)\n",
    "            )\n",
    "        except IndexError as e:\n",
    "            print(f\"IndexError during aggregation with values a={a}, b={b}. Check data structure.\")\n",
    "            raise e\n",
    "\n",
    "    try:\n",
    "        (SSE, SST, SSR, y_sum_total, total_count) = rdd_stats.reduce(safe_reduce)\n",
    "    except IndexError as e:\n",
    "        print(\"IndexError during aggregation. Check input RDD data structure.\")\n",
    "        raise e\n",
    "\n",
    "    # Mean of y over all partitions\n",
    "    y_mean = y_sum_total / total_count if total_count > 0 else 0\n",
    "\n",
    "    # Calculate R-squared and Adjusted R-squared\n",
    "    r_squared = 1 - (SSE / SST) if SST > 0 else 0\n",
    "    adj_r_squared = (\n",
    "        1 - ((1 - r_squared) * (total_count - 1) / (total_count - beta_length))\n",
    "        if total_count > beta_length else 0\n",
    "    )\n",
    "\n",
    "    # Calculate Mean Squared Error (MSE) and F-statistic\n",
    "    MSE = SSE / (total_count - beta_length) if total_count > beta_length else 0\n",
    "    MSR = SSR / (beta_length - 1) if beta_length > 1 else 0\n",
    "    f_statistic = MSR / MSE if MSE > 0 else float('inf')\n",
    "\n",
    "    # Calculate AIC and BIC\n",
    "    AIC = total_count * np.log(SSE / total_count) + 2 * beta_length if total_count > 0 else 0\n",
    "    BIC = total_count * np.log(SSE / total_count) + beta_length * np.log(total_count) if total_count > 0 else 0\n",
    "\n",
    "    # Compile final statistics\n",
    "    stats = {\n",
    "        'r_squared': r_squared,\n",
    "        'Adjusted R-squared': adj_r_squared,\n",
    "        'F-statistic': f_statistic,\n",
    "        'AIC': AIC,\n",
    "        'BIC': BIC,\n",
    "        'SSE': SSE,\n",
    "        'SSR': SSR,\n",
    "        'SST': SST,\n",
    "        'n_samples': total_count,\n",
    "        'n_features': beta_length\n",
    "    }\n",
    "\n",
    "    return stats\n"
   ]
  },
  {
   "cell_type": "markdown",
   "id": "bc9ea64d-6edc-4b37-9ff9-ede937bf1939",
   "metadata": {},
   "source": [
    "### 1.4.1 Lineare Regression ohne Sparkoptimierung"
   ]
  },
  {
   "cell_type": "code",
   "execution_count": 14,
   "id": "15e67860-c100-450b-a82a-8147fc35694e",
   "metadata": {},
   "outputs": [],
   "source": [
    "def linear_regression_manual_qr(X, y):\n",
    "    \"\"\"\n",
    "    Fits linear regression using manual QR decomposition.\n",
    "    \n",
    "    Parameters\n",
    "    ----------\n",
    "    X : ndarray\n",
    "        Design matrix including intercept\n",
    "    y : ndarray\n",
    "        Target variable vector\n",
    "        \n",
    "    Returns\n",
    "    -------\n",
    "    dict\n",
    "        Regression results including coefficients and statistics\n",
    "    float\n",
    "        Computation time in seconds\n",
    "        \n",
    "    Notes\n",
    "    -----\n",
    "    - Uses Gram-Schmidt QR decomposition\n",
    "    - Computes comprehensive statistics\n",
    "    - Includes timing information\n",
    "    \"\"\"\n",
    "    start_time = time.time()\n",
    "    Q, R = gram_schmidt(X)\n",
    "    beta = backward_substitution(R, Q.T @ y)\n",
    "\n",
    "    y_pred = np.dot(X, beta) # mit den durch QR berechneten Betas die vorhergesagten y-Werte des linReg Modells bestimmen\n",
    "    residuals = y - y_pred\n",
    "\n",
    "    result = compute_statistics_numpy(X, y, beta, residuals)\n",
    "    \n",
    "    end_time = time.time()\n",
    "    elapsed_time = end_time - start_time\n",
    "\n",
    "    return result, elapsed_time"
   ]
  },
  {
   "cell_type": "markdown",
   "id": "a7f46832-388d-431c-94e7-7158f2545563",
   "metadata": {},
   "source": [
    "### 1.4.2 Optimiert für Spark mit manueller QR Zerlegung"
   ]
  },
  {
   "cell_type": "code",
   "execution_count": 15,
   "id": "a353e714-0791-4068-a632-ca4b4b1d2ede",
   "metadata": {},
   "outputs": [],
   "source": [
    "def fit_ols_manual2(df):\n",
    "    \"\"\"\n",
    "    Fits distributed OLS regression using manual QR decomposition in Spark.\n",
    "    \n",
    "    Parameters\n",
    "    ----------\n",
    "    df : DataFrame\n",
    "        Spark DataFrame with features and target columns\n",
    "        \n",
    "    Returns\n",
    "    -------\n",
    "    ndarray\n",
    "        Estimated coefficients\n",
    "    dict\n",
    "        Regression statistics\n",
    "        \n",
    "    Notes\n",
    "    -----\n",
    "    - Implements distributed QR decomposition\n",
    "    - Handles computation in partitions\n",
    "    - Includes timing information\n",
    "    \"\"\"\n",
    "    start_time = time.time()\n",
    "\n",
    "    # Step 1: Calculate combined QR decomposition across partitions\n",
    "    def process_partition(iterator):\n",
    "        X_local, y_local = [], []\n",
    "        for row in iterator:\n",
    "            X_local.append(row.features.toArray())\n",
    "            y_local.append(row.y)\n",
    "\n",
    "        if not X_local:\n",
    "            print(\"Empty partition encountered in process_partition.\")\n",
    "            return [(np.zeros((1, 1)), np.zeros(1))]  # Return a default structure to avoid empty lists\n",
    "\n",
    "        X_local = np.vstack(X_local)\n",
    "        y_local = np.array(y_local)\n",
    "\n",
    "        # Perform local QR decomposition\n",
    "        Q_local, R_local = manual_qr_decomposition(X_local)\n",
    "\n",
    "        # Calculate local Q^T y\n",
    "        Qty_local = np.dot(Q_local.T, y_local)\n",
    "\n",
    "        return [(R_local, Qty_local)]\n",
    "\n",
    "    # Aggregate QR decomposition results\n",
    "    results = df.rdd.mapPartitions(process_partition).filter(lambda x: len(x) > 0).reduce(\n",
    "        lambda a, b: (\n",
    "            a[0] + b[0] if isinstance(a[0], np.ndarray) and isinstance(b[0], np.ndarray) else np.zeros((1, 1)),\n",
    "            a[1] + b[1] if isinstance(a[1], np.ndarray) and isinstance(b[1], np.ndarray) else np.zeros(1)\n",
    "        )\n",
    "    )\n",
    "\n",
    "    R_total, Qty_total = results\n",
    "\n",
    "    # Step 2: Final QR on combined R_total\n",
    "    _, R_final = manual_qr_decomposition(R_total)\n",
    "    beta = backward_substitution(R_final, Qty_total)\n",
    "\n",
    "    # Step 3: Distributed calculation of statistics with additional checks\n",
    "   \n",
    "\n",
    "    # Ensure the `compute_statistics_partition` returns a tuple consistently\n",
    "    rdd_stats = df.rdd.mapPartitions(lambda iter: [compute_statistics_partition(iter, beta)])\n",
    "\n",
    "    # Aggregate statistics across all partitions\n",
    "    stats = aggregate_statistics(rdd_stats, n=df.count(), beta_length=len(beta))\n",
    "\n",
    "    # Add computation time to stats\n",
    "    computation_time = time.time() - start_time\n",
    "    stats['computation_time'] = computation_time\n",
    "    \n",
    "    return beta, stats\n"
   ]
  },
  {
   "cell_type": "markdown",
   "id": "f984c5e9-2db4-4409-9fdb-7985c8c525d1",
   "metadata": {},
   "source": [
    "### Optimiert für Spark mit Built-In Functions für die QR Zerlegung"
   ]
  },
  {
   "cell_type": "code",
   "execution_count": 16,
   "id": "ff1651dd-4214-4996-b8d9-5fce20fada03",
   "metadata": {},
   "outputs": [],
   "source": [
    "def fit_ols_spark(df):\n",
    "    \"\"\"\n",
    "    Fits linear regression using Spark's built-in implementation.\n",
    "    \n",
    "    Parameters\n",
    "    ----------\n",
    "    df : DataFrame\n",
    "        Spark DataFrame with features and target columns\n",
    "        \n",
    "    Returns\n",
    "    -------\n",
    "    LinearRegressionModel\n",
    "        Fitted Spark linear regression model\n",
    "    LinearRegressionTrainingSummary\n",
    "        Training summary with model statistics\n",
    "        \n",
    "    Notes\n",
    "    -----\n",
    "    - Uses Spark's MLlib implementation\n",
    "    - Uses QR decomposition solver\n",
    "    - Provides standard Spark model metrics\n",
    "    \"\"\"\n",
    "    lr = LinearRegression(featuresCol=\"features\", labelCol=\"y\", solver=\"normal\")\n",
    "    model = lr.fit(df)\n",
    "    \n",
    "    # Get the training summary to extract information like R^2, RMSE, etc.\n",
    "    training_summary = model.summary\n",
    "    \n",
    "    return model, training_summary\n"
   ]
  },
  {
   "cell_type": "markdown",
   "id": "b4560b59-a830-4be4-a0ab-814ae0cdd1ba",
   "metadata": {},
   "source": [
    "## 1.5) Funktion für Durchführung des Benchmarks"
   ]
  },
  {
   "cell_type": "markdown",
   "id": "0196e160-68ec-426b-8610-0f8fb5f106ef",
   "metadata": {},
   "source": [
    "### 1.5.1 summary"
   ]
  },
  {
   "cell_type": "code",
   "execution_count": 17,
   "id": "78b2181d-80dc-43b6-8b31-78799d463b7b",
   "metadata": {},
   "outputs": [],
   "source": [
    "def format_summary(beta, statistics, computation_time):\n",
    "    \"\"\"\n",
    "    Formats regression results to match statsmodels summary output.\n",
    "    \n",
    "    Parameters\n",
    "    ----------\n",
    "    beta : ndarray\n",
    "        Estimated coefficients\n",
    "    statistics : dict\n",
    "        Dictionary of computed statistics\n",
    "    computation_time : float\n",
    "        Model fitting time in seconds\n",
    "        \n",
    "    Returns\n",
    "    -------\n",
    "    str\n",
    "        Formatted summary string\n",
    "        \n",
    "    Notes\n",
    "    -----\n",
    "    - Matches statsmodels output format exactly\n",
    "    - Includes comprehensive model statistics\n",
    "    - Formats dates and times consistently\n",
    "    \"\"\"\n",
    "    n_obs = statistics['n_samples']\n",
    "    df_residuals = n_obs - len(beta)\n",
    "    df_model = len(beta) - 1\n",
    "    \n",
    "    # Header\n",
    "    summary = []\n",
    "    summary.append(\"=\" * 78)\n",
    "    summary.append(\"{: ^78}\".format(\"OLS Regression Results\"))\n",
    "    summary.append(\"=\" * 78)\n",
    "    \n",
    "    # Format current date and time\n",
    "    current_time = time.localtime()\n",
    "    formatted_date = time.strftime(\"%a, %d %b %Y\", current_time)\n",
    "    formatted_time = time.strftime(\"%H:%M:%S\", current_time)\n",
    "    \n",
    "    # Left and right columns with exact spacing\n",
    "    summary.append(\"{:<20} {:<12} {:<20} {: >20.3f}\".format(\n",
    "        \"Dep. Variable:\", \"y\",\n",
    "        \"R-squared:\", statistics['r_squared']))\n",
    "    \n",
    "    summary.append(\"{:<20} {:<12} {:<20} {: >20.3f}\".format(\n",
    "        \"Model:\", \"OLS\",\n",
    "        \"Adj. R-squared:\", statistics['Adjusted R-squared']))\n",
    "    \n",
    "    summary.append(\"{:<20} {:<12} {:<20} {: >20.3e}\".format(\n",
    "        \"Method:\", \"Least Squares\",\n",
    "        \"F-statistic:\", statistics['F-statistic']))\n",
    "    \n",
    "    # Calculate F-statistic p-value\n",
    "    f_pvalue = 1 - stats.f.cdf(statistics['F-statistic'], df_model, df_residuals)\n",
    "    summary.append(\"{:<20} {:<12} {:<20} {: >20.3e}\".format(\n",
    "        \"Date:\", formatted_date,\n",
    "        \"Prob (F-statistic):\", f_pvalue))\n",
    "    \n",
    "    # Calculate log-likelihood\n",
    "    residuals = np.sqrt(statistics['SSE'])\n",
    "    log_likelihood = -n_obs/2 * (1 + np.log(2 * np.pi)) - n_obs/2 * np.log(residuals**2/n_obs)\n",
    "    \n",
    "    summary.append(\"{:<20} {:<12} {:<20} {: >20.3f}\".format(\n",
    "        \"Time:\", formatted_time,\n",
    "        \"Log-Likelihood:\", log_likelihood))\n",
    "    \n",
    "    summary.append(\"{:<20} {:<12} {:<20} {: >20.3f}\".format(\n",
    "        \"No. Observations:\", str(n_obs),\n",
    "        \"AIC:\", statistics['AIC']))\n",
    "    \n",
    "    summary.append(\"{:<20} {:<12} {:<20} {: >20.3f}\".format(\n",
    "        \"Df Residuals:\", str(df_residuals),\n",
    "        \"BIC:\", statistics['BIC']))\n",
    "    \n",
    "    summary.append(\"{:<20} {:<12}\".format(\n",
    "        \"Df Model:\", str(df_model)))\n",
    "    \n",
    "    summary.append(\"Covariance Type:            nonrobust\")\n",
    "    \n",
    "    # Parameter estimates table with exact spacing\n",
    "    summary.append(\"=\" * 78)\n",
    "    summary.append(\"{:>16} {:>10} {:>10} {:>10} {:>12} {:>10} {:>10}\".format(\n",
    "        \"\", \"coef\", \"std err\", \"t\", \"P>|t|\", \"[0.025\", \"0.975]\"))\n",
    "    summary.append(\"-\" * 78)\n",
    "    \n",
    "    # Calculate standard errors and t-statistics\n",
    "    mse = statistics['SSE'] / df_residuals\n",
    "    X = np.column_stack([np.ones(n_obs), np.random.randn(n_obs, len(beta)-1)])  # Replace with actual X matrix\n",
    "    X_transpose_X_inv = np.linalg.inv(np.dot(X.T, X))\n",
    "    std_errors = np.sqrt(np.diagonal(X_transpose_X_inv * mse))\n",
    "    t_stats = beta / std_errors\n",
    "    p_values = 2 * (1 - stats.t.cdf(np.abs(t_stats), df_residuals))\n",
    "    \n",
    "    # Add coefficients with exact formatting\n",
    "    var_names = [\"const\"] + [f\"x{i+1}\" for i in range(len(beta)-1)]\n",
    "    for i, name in enumerate(var_names):\n",
    "        conf_int_lower = beta[i] - 1.96 * std_errors[i]\n",
    "        conf_int_upper = beta[i] + 1.96 * std_errors[i]\n",
    "        summary.append(\"{:>16} {: >9.4f} {: >9.3f} {: >10.3f} {: >11.3f} {: >9.3f} {: >9.3f}\".format(\n",
    "            name,\n",
    "            beta[i],\n",
    "            std_errors[i],\n",
    "            t_stats[i],\n",
    "            p_values[i],\n",
    "            conf_int_lower,\n",
    "            conf_int_upper\n",
    "        ))\n",
    "    \n",
    "    # Diagnostic tests with exact spacing and nan values\n",
    "    summary.append(\"=\" * 78)\n",
    "    summary.append(\"{:<21} {: >10} {:<24} {: >19}\".format(\n",
    "        \"Omnibus:\", \"nan\",\n",
    "        \"Durbin-Watson:\", \"nan\"))\n",
    "    \n",
    "    summary.append(\"{:<21} {: >10} {:<24} {: >19}\".format(\n",
    "        \"Prob(Omnibus):\", \"nan\",\n",
    "        \"Jarque-Bera (JB):\", \"nan\"))\n",
    "    \n",
    "    # Calculate skewness and kurtosis\n",
    "    skew = \"nan\"  # Replace with actual calculation if needed\n",
    "    kurtosis = \"nan\"  # Replace with actual calculation if needed\n",
    "    \n",
    "    summary.append(\"{:<21} {: >10} {:<24} {: >19}\".format(\n",
    "        \"Skew:\", skew,\n",
    "        \"Prob(JB):\", \"nan\"))\n",
    "    \n",
    "    # Calculate condition number\n",
    "    cond_no = np.linalg.cond(X)\n",
    "    \n",
    "    summary.append(\"{:<21} {: >10} {:<24} {: >19.2f}\".format(\n",
    "        \"Kurtosis:\", kurtosis,\n",
    "        \"Cond. No.:\", cond_no))\n",
    "    \n",
    "    summary.append(\"=\" * 78)\n",
    "    summary.append(\"[1] Standard Errors assume that the covariance matrix of the errors is correctly specified.\")\n",
    "    \n",
    "    return \"\\n\".join(summary)"
   ]
  },
  {
   "cell_type": "markdown",
   "id": "c85a3f13-0fb2-494f-98d2-137e5fa557bc",
   "metadata": {},
   "source": [
    "### Berechnung für Numpy"
   ]
  },
  {
   "cell_type": "code",
   "execution_count": null,
   "id": "67f44301-7434-41a8-bebe-410ba1b9ae80",
   "metadata": {},
   "outputs": [],
   "source": [
    "def run_benchmark_numpy(n_list, beta_true, p, repetitions=10):\n",
    "    \"\"\"\n",
    "    Runs benchmarking for different implementations of linear regression.\n",
    "    \n",
    "    Parameters\n",
    "    ----------\n",
    "    n_list : list\n",
    "        Sample sizes to test\n",
    "    p : int\n",
    "        Number of features\n",
    "    beta_true : ndarray\n",
    "        True coefficients for data generation\n",
    "    repetitions : int, optional\n",
    "        Number of benchmark repetitions, default=10\n",
    "        \n",
    "    Returns\n",
    "    -------\n",
    "    DataFrame\n",
    "        Benchmark results including:\n",
    "        - Sample sizes\n",
    "        - Mean and std of computation times\n",
    "        - Mean and std of R-squared values\n",
    "        - Success rates\n",
    "        \n",
    "    Notes\n",
    "    -----\n",
    "    - Includes error handling\n",
    "    - Prints progress information\n",
    "    - Generates comprehensive summaries\n",
    "    \"\"\"\n",
    "    results = []\n",
    "\n",
    "    for n in n_list:\n",
    "        times = []\n",
    "        print(f\"\\nBenchmarking for n={n:,} samples...\")\n",
    "\n",
    "        for i in range(repetitions):\n",
    "            # Generate synthetic data for each sample size\n",
    "            X = np.hstack([np.ones((n, 1)), np.random.randn(n, p)])  # Add intercept\n",
    "            y = X @ beta_true + np.random.normal(0, 0.1, n)  # Generate y with some noise\n",
    "\n",
    "            # Run the manual QR-based regression and measure time\n",
    "            result, elapsed_time = linear_regression_manual_qr(X, y)\n",
    "            times.append(elapsed_time)\n",
    "\n",
    "        # Compute average computation time\n",
    "        avg_time = np.mean(times)\n",
    "\n",
    "        # Prepare the statistics dictionary to include all required keys for format_summary\n",
    "        avg_statistics = {\n",
    "            'n_samples': n,\n",
    "            'SSE': np.sum((y - X @ result['coef']) ** 2),  # Calculate SSE as the sum of squared residuals\n",
    "            'r_squared': result['r_squared'],\n",
    "            'Adjusted R-squared': result['Adjusted R-squared'],\n",
    "            'F-statistic': result['F-statistic'],\n",
    "            'Prob (F-statistic)': result['Prob (F-statistic)'],\n",
    "            'Log-Likelihood': result['Log-Likelihood'],\n",
    "            'AIC': result['AIC'],\n",
    "            'BIC': result['BIC'],\n",
    "            'coef': result['coef'],\n",
    "            'std err': result['std err'],\n",
    "            't': result['t'],\n",
    "            'P>|t|': result['P>|t|'],\n",
    "            'Skew': result['Skew'],\n",
    "            'Kurtosis': result['Kurtosis'],\n",
    "            'Durbin-Watson': result['Durbin-Watson'],\n",
    "            'Jarque-Bera (JB)': result['Jarque-Bera (JB)'],\n",
    "            'Prob(JB)': result['Prob(JB)'],\n",
    "            'mse': result['mse']\n",
    "        }\n",
    "\n",
    "        # Call format_summary with beta, statistics, and computation time\n",
    "        print(\"\\nSummary for final run:\")\n",
    "        summary_str = format_summary(result['coef'], avg_statistics, avg_time)\n",
    "        print(summary_str)\n",
    "\n",
    "        # Append results for this sample size to the final results list\n",
    "        results = {\n",
    "            'n_samples': n,\n",
    "            'n_features': p,\n",
    "            'mean_time': avg_time,\n",
    "            'std_time': np.std(times),\n",
    "            'mean_r_squared': result['r_squared'],\n",
    "            'std_r_squared': np.std(result['r_squared'])\n",
    "        }\n",
    "        \n",
    "        print(f\"\\nSummary for n={n:,}:\")\n",
    "        print(f\"  Mean time: {avg_time:.2f}s ± {np.std(times):.2f}s\")\n",
    "        print(f\"  Mean R²: {results['r_squared']:.4f} ± {results['std_r_squared']:.4f}\")\n",
    "\n",
    "    # Return DataFrame with summary of results\n",
    "    return pd.DataFrame(results)\n"
   ]
  },
  {
   "cell_type": "markdown",
   "id": "4ee49a82-d6f0-4301-a20e-3f03407be25a",
   "metadata": {},
   "source": [
    "### Berechnung für einen festen Wert"
   ]
  },
  {
   "cell_type": "code",
   "execution_count": 37,
   "id": "4726dfbf-79ed-4be7-87ca-222d8aaa810f",
   "metadata": {},
   "outputs": [],
   "source": [
    "def run_benchmark_point(n, p, true_coefficients, repetitions=10):\n",
    "    \"\"\"\n",
    "    Runs benchmarking for different implementations of linear regression.\n",
    "    \n",
    "    Parameters\n",
    "    ----------\n",
    "    n : int\n",
    "        Sample size(s) to test\n",
    "    p : int\n",
    "        Number of features\n",
    "    beta_true : ndarray\n",
    "        True coefficients for data generation\n",
    "    repetitions : int, optional\n",
    "        Number of benchmark repetitions, default=10\n",
    "        \n",
    "    Returns\n",
    "    -------\n",
    "    DataFrame\n",
    "        Benchmark results including:\n",
    "        - Sample sizes\n",
    "        - Mean and std of computation times\n",
    "        - Mean and std of R-squared values\n",
    "        - Success rates\n",
    "        \n",
    "    Notes\n",
    "    -----\n",
    "    - Includes error handling\n",
    "    - Prints progress information\n",
    "    - Generates comprehensive summaries\n",
    "    \"\"\"\n",
    "    times = []\n",
    "    r_squares = []\n",
    "    successful_runs = 0\n",
    "\n",
    "    print(f\"\\nBenchmarking n={n:,} samples...\")\n",
    "    \n",
    "    for i in range(repetitions):\n",
    "        try:\n",
    "            # Profile data creation time\n",
    "            start_data_creation = time.time()\n",
    "            df = create_data_spark(n, p, true_coefficients)\n",
    "            end_data_creation = time.time()\n",
    "\n",
    "            # Profile model fitting time\n",
    "            start_fit = time.time()\n",
    "            beta, summary = fit_ols_manual2(df)  # Replace with fit_ols_manual if needed\n",
    "            end_fit = time.time()\n",
    "            \n",
    "            # Measure total run time\n",
    "            elapsed_time = end_fit - start_data_creation\n",
    "            times.append(elapsed_time)\n",
    "            r_squares.append(summary['r_squared'])\n",
    "            successful_runs += 1\n",
    "            \n",
    "            print(f\"  Run {i+1}: time={elapsed_time:.2f}s, R²={summary['r_squared']:.4f}\")\n",
    "            \n",
    "        except Exception as e:\n",
    "            print(f\"  Run {i+1} failed: {str(e)}\")\n",
    "    \n",
    "    if successful_runs > 0:\n",
    "        result = {\n",
    "            'n_samples': n,\n",
    "            'n_features': p,\n",
    "            'mean_time': np.mean(times),\n",
    "            'std_time': np.std(times),\n",
    "            'mean_r_squared': np.mean(r_squares),\n",
    "            'std_r_squared': np.std(r_squares),\n",
    "            'successful_runs': successful_runs\n",
    "        }\n",
    "        print(format_summary(beta, summary, result['mean_time']))\n",
    "        print(f\"\\nSummary for n={n:,}:\")\n",
    "        print(f\"  Mean time: {result['mean_time']:.2f}s ± {result['std_time']:.2f}s\")\n",
    "        print(f\"  Mean R²: {result['mean_r_squared']:.4f} ± {result['std_r_squared']:.4f}\")\n",
    "    \n",
    "    return pd.DataFrame([result])\n"
   ]
  },
  {
   "cell_type": "markdown",
   "id": "f3424ab2-16f9-4cf1-a321-fe79f93a2e96",
   "metadata": {},
   "source": [
    "### Berechnung für Spark Functions"
   ]
  },
  {
   "cell_type": "code",
   "execution_count": 38,
   "id": "46854dfe-34a2-4a13-9ce3-e37e71d9c047",
   "metadata": {},
   "outputs": [],
   "source": [
    "def run_benchmark_spark(n, p, beta_true, repetitions=10):\n",
    "    \"\"\"\n",
    "    Runs benchmarking for different implementations of linear regression.\n",
    "    \n",
    "    Parameters\n",
    "    ----------\n",
    "    n : int\n",
    "        Sample size(s) to test\n",
    "    p : int\n",
    "        Number of features\n",
    "    beta_true : ndarray\n",
    "        True coefficients for data generation\n",
    "    repetitions : int, optional\n",
    "        Number of benchmark repetitions, default=10\n",
    "        \n",
    "    Returns\n",
    "    -------\n",
    "    DataFrame\n",
    "        Benchmark results including:\n",
    "        - Sample sizes\n",
    "        - Mean and std of computation times\n",
    "        - Mean and std of R-squared values\n",
    "        - Success rates\n",
    "        \n",
    "    Notes\n",
    "    -----\n",
    "    - Includes error handling\n",
    "    - Prints progress information\n",
    "    - Generates comprehensive summaries\n",
    "    \"\"\"\n",
    "    times = []\n",
    "    r_squares = []\n",
    "    successful_runs = 0\n",
    "    results = []\n",
    "\n",
    "    print(f\"\\nBenchmarking for n={n:,} samples...\")\n",
    "\n",
    "    for i in range(repetitions):\n",
    "        try:\n",
    "            # Generate synthetic data\n",
    "            start_data_creation = time.time()\n",
    "            df = create_data_spark(n, p, beta_true)\n",
    "            end_data_creation = time.time()\n",
    "\n",
    "            # Fit the model\n",
    "            start_fit = time.time()\n",
    "            model, summary = fit_ols_spark(df)\n",
    "            end_fit = time.time()\n",
    "\n",
    "            # Measure total elapsed time\n",
    "            elapsed_time = end_fit - start_data_creation\n",
    "            times.append(elapsed_time)\n",
    "            r_squares.append(summary.r2)\n",
    "            successful_runs += 1\n",
    "\n",
    "            print(f\"  Run {i+1}: time={elapsed_time:.2f}s, R²={summary.r2:.4f}, Adjusted R²={summary.r2adj:.4f}\")\n",
    "\n",
    "        except Exception as e:\n",
    "            print(f\"  Run {i+1} failed: {str(e)}\")\n",
    "\n",
    "    \n",
    "    if successful_runs > 0:\n",
    "        result = {\n",
    "        'n_samples': n,\n",
    "        'n_features': p,\n",
    "        'mean_time': np.mean(times),\n",
    "        'std_time': np.std(times),\n",
    "        'mean_r_squared': np.mean(r_squares),\n",
    "        'std_r_squared': np.std(r_squares),\n",
    "        'successful_runs': successful_runs\n",
    "    }\n",
    "\n",
    "        print(f\"\\nSummary for n={n:,}:\")\n",
    "        print(f\"  Mean time: {result[\"mean_time\"]:.2f}s ± {result[\"std_time\"]:.2f}s\")\n",
    "        print(f\"  Mean R²: {result[\"mean_r_squared\"]:.4f} ± {result[\"std_r_squared\"]:.4f}\")\n",
    "    \n",
    "    return pd.DataFrame([result])\n"
   ]
  },
  {
   "cell_type": "markdown",
   "id": "39f3e295-03cd-479b-aefc-eb1e577872f8",
   "metadata": {},
   "source": [
    "# 2) Durchführung des Benchmarks und Ausgeben der Ergebnisse"
   ]
  },
  {
   "cell_type": "markdown",
   "id": "09235d19-d83b-489f-8b37-c6069fa456bc",
   "metadata": {},
   "source": [
    "## 2.1) Durchführung"
   ]
  },
  {
   "cell_type": "code",
   "execution_count": 39,
   "id": "abc3af8e-216f-4022-97c8-93469e34da5f",
   "metadata": {},
   "outputs": [],
   "source": [
    "n_values = [200000, 500000, 1000000, 5000000, 10000000]\n",
    "n_features = 10\n",
    "beta_true = np.random.randn(n_features + 1)"
   ]
  },
  {
   "cell_type": "code",
   "execution_count": 40,
   "id": "da201d6c-78d5-48d3-8108-e6f372726307",
   "metadata": {},
   "outputs": [],
   "source": [
    "n_values2 = [15000000, 20000000, 30000000, 40000000, 50000000]"
   ]
  },
  {
   "cell_type": "markdown",
   "id": "3716d95e-0cca-4fb9-8de4-a7729df933d4",
   "metadata": {},
   "source": [
    "### 2.1.1 Numpy"
   ]
  },
  {
   "cell_type": "code",
   "execution_count": 46,
   "id": "ca3874e2-0a3d-4276-a57c-db966351ea4f",
   "metadata": {
    "scrolled": true
   },
   "outputs": [
    {
     "name": "stdout",
     "output_type": "stream",
     "text": [
      "\n",
      "Benchmarking for n=200,000 samples...\n",
      "\n",
      "Summary for final run:\n",
      "==============================================================================\n",
      "                            OLS Regression Results                            \n",
      "==============================================================================\n",
      "Dep. Variable:       y            R-squared:                          1.000\n",
      "Model:               OLS          Adj. R-squared:                     1.000\n",
      "Method:              Least Squares F-statistic:                    5.421e+07\n",
      "Date:                Mon, 28 Oct 2024 Prob (F-statistic):             1.110e-16\n",
      "Time:                18:29:04     Log-Likelihood:                176820.023\n",
      "No. Observations:    200000       AIC:                          -353607.047\n",
      "Df Residuals:        199989       BIC:                          -921081.193\n",
      "Df Model:            10          \n",
      "Covariance Type:            nonrobust\n",
      "==============================================================================\n",
      "                       coef    std err          t        P>|t|     [0.025     0.975]\n",
      "------------------------------------------------------------------------------\n",
      "           const   -1.2060     0.000  -5395.469       0.000    -1.206    -1.206\n",
      "              x1   -0.4409     0.000  -1970.909       0.000    -0.441    -0.440\n",
      "              x2    3.3117     0.000  14816.487       0.000     3.311     3.312\n",
      "              x3    0.0472     0.000    211.147       0.000     0.047     0.048\n",
      "              x4   -1.9387     0.000  -8678.253       0.000    -1.939    -1.938\n",
      "              x5    0.2928     0.000   1312.838       0.000     0.292     0.293\n",
      "              x6    0.5329     0.000   2387.137       0.000     0.532     0.533\n",
      "              x7    2.4797     0.000  11094.206       0.000     2.479     2.480\n",
      "              x8    2.0358     0.000   9107.389       0.000     2.035     2.036\n",
      "              x9   -1.1496     0.000  -5150.265       0.000    -1.150    -1.149\n",
      "             x10   -0.3073     0.000  -1373.703       0.000    -0.308    -0.307\n",
      "==============================================================================\n",
      "Omnibus:                     nan Durbin-Watson:                           nan\n",
      "Prob(Omnibus):               nan Jarque-Bera (JB):                        nan\n",
      "Skew:                        nan Prob(JB):                                nan\n",
      "Kurtosis:                    nan Cond. No.:                              1.01\n",
      "==============================================================================\n",
      "[1] Standard Errors assume that the covariance matrix of the errors is correctly specified.\n",
      "\n",
      "Summary for n=200,000:\n",
      "  Mean time: 0.19s ± 0.05s\n",
      "  Mean R²: 0.9996 ± 0.9996\n",
      "\n",
      "Benchmarking for n=500,000 samples...\n",
      "\n",
      "Summary for final run:\n",
      "==============================================================================\n",
      "                            OLS Regression Results                            \n",
      "==============================================================================\n",
      "Dep. Variable:       y            R-squared:                          1.000\n",
      "Model:               OLS          Adj. R-squared:                     1.000\n",
      "Method:              Least Squares F-statistic:                    1.355e+08\n",
      "Date:                Mon, 28 Oct 2024 Prob (F-statistic):             1.110e-16\n",
      "Time:                18:29:12     Log-Likelihood:                442107.595\n",
      "No. Observations:    500000       AIC:                          -884182.190\n",
      "Df Residuals:        499989       BIC:                         -2303009.378\n",
      "Df Model:            10          \n",
      "Covariance Type:            nonrobust\n",
      "==============================================================================\n",
      "                       coef    std err          t        P>|t|     [0.025     0.975]\n",
      "------------------------------------------------------------------------------\n",
      "           const   -1.2061     0.000  -8533.338       0.000    -1.206    -1.206\n",
      "              x1   -0.4406     0.000  -3116.634       0.000    -0.441    -0.440\n",
      "              x2    3.3116     0.000  23444.350       0.000     3.311     3.312\n",
      "              x3    0.0471     0.000    332.758       0.000     0.047     0.047\n",
      "              x4   -1.9385     0.000 -13708.610       0.000    -1.939    -1.938\n",
      "              x5    0.2929     0.000   2076.450       0.000     0.293     0.293\n",
      "              x6    0.5326     0.000   3767.753       0.000     0.532     0.533\n",
      "              x7    2.4792     0.000  17538.231       0.000     2.479     2.480\n",
      "              x8    2.0363     0.000  14414.996       0.000     2.036     2.037\n",
      "              x9   -1.1496     0.000  -8132.814       0.000    -1.150    -1.149\n",
      "             x10   -0.3076     0.000  -2175.351       0.000    -0.308    -0.307\n",
      "==============================================================================\n",
      "Omnibus:                     nan Durbin-Watson:                           nan\n",
      "Prob(Omnibus):               nan Jarque-Bera (JB):                        nan\n",
      "Skew:                        nan Prob(JB):                                nan\n",
      "Kurtosis:                    nan Cond. No.:                              1.01\n",
      "==============================================================================\n",
      "[1] Standard Errors assume that the covariance matrix of the errors is correctly specified.\n",
      "\n",
      "Summary for n=500,000:\n",
      "  Mean time: 0.47s ± 0.10s\n",
      "  Mean R²: 0.9996 ± 0.9996\n",
      "\n",
      "Benchmarking for n=1,000,000 samples...\n",
      "\n",
      "Summary for final run:\n",
      "==============================================================================\n",
      "                            OLS Regression Results                            \n",
      "==============================================================================\n",
      "Dep. Variable:       y            R-squared:                          1.000\n",
      "Model:               OLS          Adj. R-squared:                     1.000\n",
      "Method:              Least Squares F-statistic:                    2.690e+08\n",
      "Date:                Mon, 28 Oct 2024 Prob (F-statistic):             1.110e-16\n",
      "Time:                18:29:25     Log-Likelihood:                882300.406\n",
      "No. Observations:    1000000      AIC:                         -1764567.811\n",
      "Df Residuals:        999989       BIC:                         -4602325.907\n",
      "Df Model:            10          \n",
      "Covariance Type:            nonrobust\n",
      "==============================================================================\n",
      "                       coef    std err          t        P>|t|     [0.025     0.975]\n",
      "------------------------------------------------------------------------------\n",
      "           const   -1.2062     0.000 -12045.852       0.000    -1.206    -1.206\n",
      "              x1   -0.4405     0.000  -4394.125       0.000    -0.441    -0.440\n",
      "              x2    3.3116     0.000  33101.444       0.000     3.311     3.312\n",
      "              x3    0.0470     0.000    469.536       0.000     0.047     0.047\n",
      "              x4   -1.9388     0.000 -19368.443       0.000    -1.939    -1.939\n",
      "              x5    0.2926     0.000   2919.581       0.000     0.292     0.293\n",
      "              x6    0.5330     0.000   5322.511       0.000     0.533     0.533\n",
      "              x7    2.4792     0.000  24802.678       0.000     2.479     2.479\n",
      "              x8    2.0361     0.000  20322.959       0.000     2.036     2.036\n",
      "              x9   -1.1496     0.000 -11461.550       0.000    -1.150    -1.149\n",
      "             x10   -0.3077     0.000  -3075.246       0.000    -0.308    -0.307\n",
      "==============================================================================\n",
      "Omnibus:                     nan Durbin-Watson:                           nan\n",
      "Prob(Omnibus):               nan Jarque-Bera (JB):                        nan\n",
      "Skew:                        nan Prob(JB):                                nan\n",
      "Kurtosis:                    nan Cond. No.:                              1.01\n",
      "==============================================================================\n",
      "[1] Standard Errors assume that the covariance matrix of the errors is correctly specified.\n",
      "\n",
      "Summary for n=1,000,000:\n",
      "  Mean time: 0.86s ± 0.04s\n",
      "  Mean R²: 0.9996 ± 0.9996\n",
      "\n",
      "Benchmarking for n=5,000,000 samples...\n",
      "\n",
      "Summary for final run:\n",
      "==============================================================================\n",
      "                            OLS Regression Results                            \n",
      "==============================================================================\n",
      "Dep. Variable:       y            R-squared:                          1.000\n",
      "Model:               OLS          Adj. R-squared:                     1.000\n",
      "Method:              Least Squares F-statistic:                    1.350e+09\n",
      "Date:                Mon, 28 Oct 2024 Prob (F-statistic):             1.110e-16\n",
      "Time:                18:30:34     Log-Likelihood:               4417279.109\n",
      "No. Observations:    5000000      AIC:                         -8834525.217\n",
      "Df Residuals:        4999989      BIC:                        -23023773.875\n",
      "Df Model:            10          \n",
      "Covariance Type:            nonrobust\n",
      "==============================================================================\n",
      "                       coef    std err          t        P>|t|     [0.025     0.975]\n",
      "------------------------------------------------------------------------------\n",
      "           const   -1.2060     0.000 -26962.101       0.000    -1.206    -1.206\n",
      "              x1   -0.4408     0.000  -9853.304       0.000    -0.441    -0.441\n",
      "              x2    3.3117     0.000  74042.800       0.000     3.312     3.312\n",
      "              x3    0.0472     0.000   1055.224       0.000     0.047     0.047\n",
      "              x4   -1.9386     0.000 -43340.894       0.000    -1.939    -1.939\n",
      "              x5    0.2928     0.000   6548.140       0.000     0.293     0.293\n",
      "              x6    0.5330     0.000  11916.658       0.000     0.533     0.533\n",
      "              x7    2.4792     0.000  55439.191       0.000     2.479     2.479\n",
      "              x8    2.0361     0.000  45516.584       0.000     2.036     2.036\n",
      "              x9   -1.1497     0.000 -25699.684       0.000    -1.150    -1.150\n",
      "             x10   -0.3076     0.000  -6873.681       0.000    -0.308    -0.307\n",
      "==============================================================================\n",
      "Omnibus:                     nan Durbin-Watson:                           nan\n",
      "Prob(Omnibus):               nan Jarque-Bera (JB):                        nan\n",
      "Skew:                        nan Prob(JB):                                nan\n",
      "Kurtosis:                    nan Cond. No.:                              1.00\n",
      "==============================================================================\n",
      "[1] Standard Errors assume that the covariance matrix of the errors is correctly specified.\n",
      "\n",
      "Summary for n=5,000,000:\n",
      "  Mean time: 4.55s ± 0.32s\n",
      "  Mean R²: 0.9996 ± 0.9996\n",
      "\n",
      "Benchmarking for n=10,000,000 samples...\n",
      "\n",
      "Summary for final run:\n",
      "==============================================================================\n",
      "                            OLS Regression Results                            \n",
      "==============================================================================\n",
      "Dep. Variable:       y            R-squared:                          1.000\n",
      "Model:               OLS          Adj. R-squared:                     1.000\n",
      "Method:              Least Squares F-statistic:                    2.699e+09\n",
      "Date:                Mon, 28 Oct 2024 Prob (F-statistic):             1.110e-16\n",
      "Time:                18:32:52     Log-Likelihood:               8836944.140\n",
      "No. Observations:    10000000     AIC:                        -17673855.281\n",
      "Df Residuals:        9999989      BIC:                        -46052481.646\n",
      "Df Model:            10          \n",
      "Covariance Type:            nonrobust\n",
      "==============================================================================\n",
      "                       coef    std err          t        P>|t|     [0.025     0.975]\n",
      "------------------------------------------------------------------------------\n",
      "           const   -1.2061     0.000 -38140.525       0.000    -1.206    -1.206\n",
      "              x1   -0.4407     0.000 -13940.380       0.000    -0.441    -0.441\n",
      "              x2    3.3116     0.000 104725.493       0.000     3.312     3.312\n",
      "              x3    0.0471     0.000   1488.627       0.000     0.047     0.047\n",
      "              x4   -1.9387     0.000 -61282.906       0.000    -1.939    -1.939\n",
      "              x5    0.2928     0.000   9261.681       0.000     0.293     0.293\n",
      "              x6    0.5329     0.000  16852.906       0.000     0.533     0.533\n",
      "              x7    2.4792     0.000  78404.199       0.000     2.479     2.479\n",
      "              x8    2.0360     0.000  64385.738       0.000     2.036     2.036\n",
      "              x9   -1.1496     0.000 -36363.337       0.000    -1.150    -1.150\n",
      "             x10   -0.3075     0.000  -9726.266       0.000    -0.308    -0.307\n",
      "==============================================================================\n",
      "Omnibus:                     nan Durbin-Watson:                           nan\n",
      "Prob(Omnibus):               nan Jarque-Bera (JB):                        nan\n",
      "Skew:                        nan Prob(JB):                                nan\n",
      "Kurtosis:                    nan Cond. No.:                              1.00\n",
      "==============================================================================\n",
      "[1] Standard Errors assume that the covariance matrix of the errors is correctly specified.\n",
      "\n",
      "Summary for n=10,000,000:\n",
      "  Mean time: 9.09s ± 0.18s\n",
      "  Mean R²: 0.9996 ± 0.9996\n"
     ]
    }
   ],
   "source": [
    "results_numpy = run_benchmark_numpy(n_list=n_values, beta_true=beta_true, p=n_features) "
   ]
  },
  {
   "cell_type": "code",
   "execution_count": null,
   "id": "021f6785-85a3-4017-864c-451b67327a58",
   "metadata": {
    "scrolled": true
   },
   "outputs": [
    {
     "name": "stdout",
     "output_type": "stream",
     "text": [
      "\n",
      "Benchmarking for n=15,000,000 samples...\n",
      "\n",
      "Summary for final run:\n",
      "==============================================================================\n",
      "                            OLS Regression Results                            \n",
      "==============================================================================\n",
      "Dep. Variable:       y            R-squared:                          1.000\n",
      "Model:               OLS          Adj. R-squared:                     1.000\n",
      "Method:              Least Squares F-statistic:                    4.054e+09\n",
      "Date:                Mon, 28 Oct 2024 Prob (F-statistic):             1.110e-16\n",
      "Time:                18:39:20     Log-Likelihood:              13257053.413\n",
      "No. Observations:    15000000     AIC:                        -26514073.826\n",
      "Df Residuals:        14999989     BIC:                        -69082081.063\n",
      "Df Model:            10          \n",
      "Covariance Type:            nonrobust\n",
      "==============================================================================\n",
      "                       coef    std err          t        P>|t|     [0.025     0.975]\n",
      "------------------------------------------------------------------------------\n",
      "           const   -1.2060     0.000 -46716.062       0.000    -1.206    -1.206\n",
      "              x1   -0.4408     0.000 -17072.200       0.000    -0.441    -0.441\n",
      "              x2    3.3116     0.000 128310.295       0.000     3.312     3.312\n",
      "              x3    0.0471     0.000   1825.608       0.000     0.047     0.047\n",
      "              x4   -1.9387     0.000 -75070.966       0.000    -1.939    -1.939\n",
      "              x5    0.2928     0.000  11343.111       0.000     0.293     0.293\n",
      "              x6    0.5329     0.000  20643.951       0.000     0.533     0.533\n",
      "              x7    2.4792     0.000  96030.177       0.000     2.479     2.479\n",
      "              x8    2.0361     0.000  78883.877       0.000     2.036     2.036\n",
      "              x9   -1.1497     0.000 -44533.103       0.000    -1.150    -1.150\n",
      "             x10   -0.3075     0.000 -11912.201       0.000    -0.308    -0.307\n",
      "==============================================================================\n",
      "Omnibus:                     nan Durbin-Watson:                           nan\n",
      "Prob(Omnibus):               nan Jarque-Bera (JB):                        nan\n",
      "Skew:                        nan Prob(JB):                                nan\n",
      "Kurtosis:                    nan Cond. No.:                              1.00\n",
      "==============================================================================\n",
      "[1] Standard Errors assume that the covariance matrix of the errors is correctly specified.\n",
      "\n",
      "Summary for n=15,000,000:\n",
      "  Mean time: 13.61s ± 0.96s\n",
      "  Mean R²: 0.9996 ± 0.9996\n",
      "\n",
      "Benchmarking for n=20,000,000 samples...\n",
      "\n",
      "Summary for final run:\n",
      "==============================================================================\n",
      "                            OLS Regression Results                            \n",
      "==============================================================================\n",
      "Dep. Variable:       y            R-squared:                          1.000\n",
      "Model:               OLS          Adj. R-squared:                     1.000\n",
      "Method:              Least Squares F-statistic:                    5.401e+09\n",
      "Date:                Mon, 28 Oct 2024 Prob (F-statistic):             1.110e-16\n",
      "Time:                18:43:52     Log-Likelihood:              17671628.415\n",
      "No. Observations:    20000000     AIC:                        -35343223.830\n",
      "Df Residuals:        19999989     BIC:                        -92100613.234\n",
      "Df Model:            10          \n",
      "Covariance Type:            nonrobust\n",
      "==============================================================================\n",
      "                       coef    std err          t        P>|t|     [0.025     0.975]\n",
      "------------------------------------------------------------------------------\n",
      "           const   -1.2061     0.000 -53933.519       0.000    -1.206    -1.206\n",
      "              x1   -0.4407     0.000 -19708.342       0.000    -0.441    -0.441\n",
      "              x2    3.3117     0.000 148047.337       0.000     3.312     3.312\n",
      "              x3    0.0471     0.000   2107.466       0.000     0.047     0.047\n",
      "              x4   -1.9386     0.000 -86680.349       0.000    -1.939    -1.939\n",
      "              x5    0.2928     0.000  13094.192       0.000     0.293     0.293\n",
      "              x6    0.5329     0.000  23833.594       0.000     0.533     0.533\n",
      "              x7    2.4792     0.000 110870.419       0.000     2.479     2.479\n",
      "              x8    2.0361     0.000  91052.677       0.000     2.036     2.036\n",
      "              x9   -1.1497     0.000 -51412.646       0.000    -1.150    -1.150\n",
      "             x10   -0.3076     0.000 -13755.679       0.000    -0.308    -0.308\n",
      "==============================================================================\n",
      "Omnibus:                     nan Durbin-Watson:                           nan\n",
      "Prob(Omnibus):               nan Jarque-Bera (JB):                        nan\n",
      "Skew:                        nan Prob(JB):                                nan\n",
      "Kurtosis:                    nan Cond. No.:                              1.00\n",
      "==============================================================================\n",
      "[1] Standard Errors assume that the covariance matrix of the errors is correctly specified.\n",
      "\n",
      "Summary for n=20,000,000:\n",
      "  Mean time: 17.38s ± 0.49s\n",
      "  Mean R²: 0.9996 ± 0.9996\n",
      "\n",
      "Benchmarking for n=30,000,000 samples...\n",
      "\n",
      "Summary for final run:\n",
      "==============================================================================\n",
      "                            OLS Regression Results                            \n",
      "==============================================================================\n",
      "Dep. Variable:       y            R-squared:                          1.000\n",
      "Model:               OLS          Adj. R-squared:                     1.000\n",
      "Method:              Least Squares F-statistic:                    8.101e+09\n",
      "Date:                Mon, 28 Oct 2024 Prob (F-statistic):             1.110e-16\n",
      "Time:                18:50:30     Log-Likelihood:              26502464.214\n",
      "No. Observations:    30000000     AIC:                        -53004895.428\n",
      "Df Residuals:        29999989     BIC:                       -138141051.037\n",
      "Df Model:            10          \n",
      "Covariance Type:            nonrobust\n",
      "==============================================================================\n",
      "                       coef    std err          t        P>|t|     [0.025     0.975]\n",
      "------------------------------------------------------------------------------\n",
      "           const   -1.2060     0.000 -66039.893       0.000    -1.206    -1.206\n",
      "              x1   -0.4408     0.000 -24137.408       0.000    -0.441    -0.441\n",
      "              x2    3.3116     0.000 181381.507       0.000     3.312     3.312\n",
      "              x3    0.0471     0.000   2581.321       0.000     0.047     0.047\n",
      "              x4   -1.9387     0.000 -106165.765       0.000    -1.939    -1.939\n",
      "              x5    0.2928     0.000  16035.044       0.000     0.293     0.293\n",
      "              x6    0.5329     0.000  29190.958       0.000     0.533     0.533\n",
      "              x7    2.4792     0.000 135766.724       0.000     2.479     2.479\n",
      "              x8    2.0361     0.000 111482.500       0.000     2.036     2.036\n",
      "              x9   -1.1497     0.000 -62962.402       0.000    -1.150    -1.150\n",
      "             x10   -0.3075     0.000 -16838.043       0.000    -0.308    -0.308\n",
      "==============================================================================\n",
      "Omnibus:                     nan Durbin-Watson:                           nan\n",
      "Prob(Omnibus):               nan Jarque-Bera (JB):                        nan\n",
      "Skew:                        nan Prob(JB):                                nan\n",
      "Kurtosis:                    nan Cond. No.:                              1.00\n",
      "==============================================================================\n",
      "[1] Standard Errors assume that the covariance matrix of the errors is correctly specified.\n",
      "\n",
      "Summary for n=30,000,000:\n",
      "  Mean time: 25.38s ± 0.68s\n",
      "  Mean R²: 0.9996 ± 0.9996\n",
      "\n",
      "Benchmarking for n=40,000,000 samples...\n",
      "\n",
      "Summary for final run:\n",
      "==============================================================================\n",
      "                            OLS Regression Results                            \n",
      "==============================================================================\n",
      "Dep. Variable:       y            R-squared:                          1.000\n",
      "Model:               OLS          Adj. R-squared:                     1.000\n",
      "Method:              Least Squares F-statistic:                    1.080e+10\n",
      "Date:                Mon, 28 Oct 2024 Prob (F-statistic):             1.110e-16\n",
      "Time:                18:59:22     Log-Likelihood:              35344786.386\n",
      "No. Observations:    40000000     AIC:                        -70689539.772\n",
      "Df Residuals:        39999989     BIC:                       -184204462.881\n",
      "Df Model:            10          \n",
      "Covariance Type:            nonrobust\n",
      "==============================================================================\n",
      "                       coef    std err          t        P>|t|     [0.025     0.975]\n",
      "------------------------------------------------------------------------------\n",
      "           const   -1.2060     0.000 -76273.167       0.000    -1.206    -1.206\n",
      "              x1   -0.4408     0.000 -27876.525       0.000    -0.441    -0.441\n",
      "              x2    3.3116     0.000 209420.446       0.000     3.312     3.312\n",
      "              x3    0.0471     0.000   2979.974       0.000     0.047     0.047\n",
      "              x4   -1.9387     0.000 -122618.976       0.000    -1.939    -1.939\n",
      "              x5    0.2928     0.000  18514.729       0.000     0.293     0.293\n",
      "              x6    0.5330     0.000  33708.351       0.000     0.533     0.533\n",
      "              x7    2.4792     0.000 156809.469       0.000     2.479     2.479\n",
      "              x8    2.0361     0.000 128760.135       0.000     2.036     2.036\n",
      "              x9   -1.1496     0.000 -72712.985       0.000    -1.150    -1.150\n",
      "             x10   -0.3076     0.000 -19453.864       0.000    -0.308    -0.308\n",
      "==============================================================================\n",
      "Omnibus:                     nan Durbin-Watson:                           nan\n",
      "Prob(Omnibus):               nan Jarque-Bera (JB):                        nan\n",
      "Skew:                        nan Prob(JB):                                nan\n",
      "Kurtosis:                    nan Cond. No.:                              1.00\n",
      "==============================================================================\n",
      "[1] Standard Errors assume that the covariance matrix of the errors is correctly specified.\n",
      "\n",
      "Summary for n=40,000,000:\n",
      "  Mean time: 33.65s ± 0.71s\n",
      "  Mean R²: 0.9996 ± 0.9996\n",
      "\n",
      "Benchmarking for n=50,000,000 samples...\n"
     ]
    }
   ],
   "source": [
    "results_numpy2 = run_benchmark_numpy(n_list=n_values2, beta_true=beta_true, p=n_features)"
   ]
  },
  {
   "cell_type": "code",
   "execution_count": null,
   "id": "2858e181-99ef-419b-9e47-ac8f7dee1d6b",
   "metadata": {},
   "outputs": [],
   "source": [
    "results_numpy"
   ]
  },
  {
   "cell_type": "markdown",
   "id": "26997485-2f3b-4dd1-95cc-5efb1c860c6a",
   "metadata": {},
   "source": [
    "### Benchmark Spark mit manueller QR-Zerlegung"
   ]
  },
  {
   "cell_type": "code",
   "execution_count": null,
   "id": "de869ab9-65a4-4416-950d-aa99543a5bab",
   "metadata": {
    "scrolled": true
   },
   "outputs": [
    {
     "name": "stdout",
     "output_type": "stream",
     "text": [
      "\n",
      "Benchmarking n=200,000 samples...\n"
     ]
    },
    {
     "name": "stderr",
     "output_type": "stream",
     "text": [
      "                                                                                \r"
     ]
    },
    {
     "name": "stdout",
     "output_type": "stream",
     "text": [
      "  Run 1: time=12.47s, R²=0.9989\n"
     ]
    },
    {
     "name": "stderr",
     "output_type": "stream",
     "text": [
      "                                                                                \r"
     ]
    },
    {
     "name": "stdout",
     "output_type": "stream",
     "text": [
      "  Run 2: time=4.65s, R²=0.9989\n"
     ]
    },
    {
     "name": "stderr",
     "output_type": "stream",
     "text": [
      "                                                                                \r"
     ]
    },
    {
     "name": "stdout",
     "output_type": "stream",
     "text": [
      "  Run 3: time=4.72s, R²=0.9989\n"
     ]
    },
    {
     "name": "stderr",
     "output_type": "stream",
     "text": [
      "                                                                                \r"
     ]
    },
    {
     "name": "stdout",
     "output_type": "stream",
     "text": [
      "  Run 4: time=4.31s, R²=0.9989\n"
     ]
    },
    {
     "name": "stderr",
     "output_type": "stream",
     "text": [
      "                                                                                \r"
     ]
    },
    {
     "name": "stdout",
     "output_type": "stream",
     "text": [
      "  Run 5: time=4.46s, R²=0.9989\n"
     ]
    },
    {
     "name": "stderr",
     "output_type": "stream",
     "text": [
      "                                                                                \r"
     ]
    },
    {
     "name": "stdout",
     "output_type": "stream",
     "text": [
      "  Run 6: time=4.24s, R²=0.9989\n"
     ]
    },
    {
     "name": "stderr",
     "output_type": "stream",
     "text": [
      "                                                                                \r"
     ]
    },
    {
     "name": "stdout",
     "output_type": "stream",
     "text": [
      "  Run 7: time=4.14s, R²=0.9989\n"
     ]
    },
    {
     "name": "stderr",
     "output_type": "stream",
     "text": [
      "                                                                                \r"
     ]
    },
    {
     "name": "stdout",
     "output_type": "stream",
     "text": [
      "  Run 8: time=4.04s, R²=0.9989\n"
     ]
    },
    {
     "name": "stderr",
     "output_type": "stream",
     "text": [
      "                                                                                \r"
     ]
    },
    {
     "name": "stdout",
     "output_type": "stream",
     "text": [
      "  Run 9: time=4.09s, R²=0.9989\n"
     ]
    },
    {
     "name": "stderr",
     "output_type": "stream",
     "text": [
      "                                                                                \r"
     ]
    },
    {
     "name": "stdout",
     "output_type": "stream",
     "text": [
      "  Run 10: time=4.36s, R²=0.9989\n",
      "Run 1: time=5.15s, R²=0.9989\n",
      "==============================================================================\n",
      "                            OLS Regression Results                            \n",
      "==============================================================================\n",
      "Dep. Variable:       y            R-squared:                          0.999\n",
      "Model:               OLS          Adj. R-squared:                     0.999\n",
      "Method:              Least Squares F-statistic:                    1.833e+07\n",
      "Date:                Mon, 28 Oct 2024 Prob (F-statistic):             1.110e-16\n",
      "Time:                17:57:37     Log-Likelihood:                176894.633\n",
      "No. Observations:    200000       AIC:                          -921342.680\n",
      "Df Residuals:        199989       BIC:                          -921230.413\n",
      "Df Model:            10          \n",
      "Covariance Type:            nonrobust\n",
      "==============================================================================\n",
      "                       coef    std err          t        P>|t|     [0.025     0.975]\n",
      "------------------------------------------------------------------------------\n",
      "           const   -0.8830     0.000  -3952.143       0.000    -0.883    -0.883\n",
      "              x1    1.0782     0.000   4816.694       0.000     1.078     1.079\n",
      "              x2    0.0671     0.000    299.719       0.000     0.067     0.068\n",
      "              x3    1.1183     0.000   5005.823       0.000     1.118     1.119\n",
      "              x4   -1.1725     0.000  -5243.390       0.000    -1.173    -1.172\n",
      "              x5    1.1248     0.000   5016.134       0.000     1.124     1.125\n",
      "              x6    0.4592     0.000   2059.848       0.000     0.459     0.460\n",
      "              x7    1.2834     0.000   5754.575       0.000     1.283     1.284\n",
      "              x8    1.2568     0.000   5624.551       0.000     1.256     1.257\n",
      "              x9   -0.7623     0.000  -3410.872       0.000    -0.763    -0.762\n",
      "             x10   -0.2929     0.000  -1310.049       0.000    -0.293    -0.292\n",
      "==============================================================================\n",
      "Omnibus:                     nan Durbin-Watson:                           nan\n",
      "Prob(Omnibus):               nan Jarque-Bera (JB):                        nan\n",
      "Skew:                        nan Prob(JB):                                nan\n",
      "Kurtosis:                    nan Cond. No.:                              1.01\n",
      "==============================================================================\n",
      "[1] Standard Errors assume that the covariance matrix of the errors is correctly specified.\n",
      "\n",
      "Summary for n=200,000:\n",
      "  Mean time: 5.15s ± 2.45s\n",
      "  Mean R²: 0.9989 ± 0.0000\n",
      "\n",
      "Benchmarking n=500,000 samples...\n"
     ]
    },
    {
     "name": "stderr",
     "output_type": "stream",
     "text": [
      "                                                                                \r"
     ]
    },
    {
     "name": "stdout",
     "output_type": "stream",
     "text": [
      "  Run 1: time=8.70s, R²=0.9989\n"
     ]
    },
    {
     "name": "stderr",
     "output_type": "stream",
     "text": [
      "                                                                                \r"
     ]
    },
    {
     "name": "stdout",
     "output_type": "stream",
     "text": [
      "  Run 2: time=8.89s, R²=0.9989\n"
     ]
    },
    {
     "name": "stderr",
     "output_type": "stream",
     "text": [
      "                                                                                \r"
     ]
    },
    {
     "name": "stdout",
     "output_type": "stream",
     "text": [
      "  Run 3: time=8.98s, R²=0.9989\n"
     ]
    },
    {
     "name": "stderr",
     "output_type": "stream",
     "text": [
      "                                                                                \r"
     ]
    },
    {
     "name": "stdout",
     "output_type": "stream",
     "text": [
      "  Run 4: time=8.79s, R²=0.9989\n"
     ]
    },
    {
     "name": "stderr",
     "output_type": "stream",
     "text": [
      "                                                                                \r"
     ]
    },
    {
     "name": "stdout",
     "output_type": "stream",
     "text": [
      "  Run 5: time=8.74s, R²=0.9989\n"
     ]
    },
    {
     "name": "stderr",
     "output_type": "stream",
     "text": [
      "                                                                                \r"
     ]
    },
    {
     "name": "stdout",
     "output_type": "stream",
     "text": [
      "  Run 6: time=8.72s, R²=0.9989\n"
     ]
    },
    {
     "name": "stderr",
     "output_type": "stream",
     "text": [
      "                                                                                \r"
     ]
    },
    {
     "name": "stdout",
     "output_type": "stream",
     "text": [
      "  Run 7: time=9.30s, R²=0.9989\n"
     ]
    },
    {
     "name": "stderr",
     "output_type": "stream",
     "text": [
      "                                                                                \r"
     ]
    },
    {
     "name": "stdout",
     "output_type": "stream",
     "text": [
      "  Run 8: time=8.60s, R²=0.9989\n"
     ]
    },
    {
     "name": "stderr",
     "output_type": "stream",
     "text": [
      "                                                                                \r"
     ]
    },
    {
     "name": "stdout",
     "output_type": "stream",
     "text": [
      "  Run 9: time=8.93s, R²=0.9989\n"
     ]
    },
    {
     "name": "stderr",
     "output_type": "stream",
     "text": [
      "                                                                                \r"
     ]
    },
    {
     "name": "stdout",
     "output_type": "stream",
     "text": [
      "  Run 10: time=8.90s, R²=0.9989\n",
      "Run 1: time=8.86s, R²=0.9989\n",
      "==============================================================================\n",
      "                            OLS Regression Results                            \n",
      "==============================================================================\n",
      "Dep. Variable:       y            R-squared:                          0.999\n",
      "Model:               OLS          Adj. R-squared:                     0.999\n",
      "Method:              Least Squares F-statistic:                    4.584e+07\n",
      "Date:                Mon, 28 Oct 2024 Prob (F-statistic):             1.110e-16\n",
      "Time:                17:59:06     Log-Likelihood:                442861.348\n",
      "No. Observations:    500000       AIC:                         -2304639.229\n",
      "Df Residuals:        499989       BIC:                         -2304516.883\n",
      "Df Model:            10          \n",
      "Covariance Type:            nonrobust\n",
      "==============================================================================\n",
      "                       coef    std err          t        P>|t|     [0.025     0.975]\n",
      "------------------------------------------------------------------------------\n",
      "           const   -0.8833     0.000  -6258.481       0.000    -0.884    -0.883\n",
      "              x1    1.0781     0.000   7636.572       0.000     1.078     1.078\n",
      "              x2    0.0669     0.000    473.403       0.000     0.067     0.067\n",
      "              x3    1.1184     0.000   7932.483       0.000     1.118     1.119\n",
      "              x4   -1.1724     0.000  -8296.637       0.000    -1.173    -1.172\n",
      "              x5    1.1247     0.000   7964.990       0.000     1.124     1.125\n",
      "              x6    0.4590     0.000   3251.258       0.000     0.459     0.459\n",
      "              x7    1.2835     0.000   9097.055       0.000     1.283     1.284\n",
      "              x8    1.2570     0.000   8906.612       0.000     1.257     1.257\n",
      "              x9   -0.7621     0.000  -5397.520       0.000    -0.762    -0.762\n",
      "             x10   -0.2930     0.000  -2074.399       0.000    -0.293    -0.293\n",
      "==============================================================================\n",
      "Omnibus:                     nan Durbin-Watson:                           nan\n",
      "Prob(Omnibus):               nan Jarque-Bera (JB):                        nan\n",
      "Skew:                        nan Prob(JB):                                nan\n",
      "Kurtosis:                    nan Cond. No.:                              1.01\n",
      "==============================================================================\n",
      "[1] Standard Errors assume that the covariance matrix of the errors is correctly specified.\n",
      "\n",
      "Summary for n=500,000:\n",
      "  Mean time: 8.86s ± 0.19s\n",
      "  Mean R²: 0.9989 ± 0.0000\n",
      "\n",
      "Benchmarking n=1,000,000 samples...\n"
     ]
    },
    {
     "name": "stderr",
     "output_type": "stream",
     "text": [
      "                                                                                \r"
     ]
    },
    {
     "name": "stdout",
     "output_type": "stream",
     "text": [
      "  Run 1: time=16.68s, R²=0.9989\n"
     ]
    },
    {
     "name": "stderr",
     "output_type": "stream",
     "text": [
      "                                                                                \r"
     ]
    },
    {
     "name": "stdout",
     "output_type": "stream",
     "text": [
      "  Run 2: time=16.83s, R²=0.9989\n"
     ]
    },
    {
     "name": "stderr",
     "output_type": "stream",
     "text": [
      "                                                                                \r"
     ]
    },
    {
     "name": "stdout",
     "output_type": "stream",
     "text": [
      "  Run 3: time=16.80s, R²=0.9989\n"
     ]
    },
    {
     "name": "stderr",
     "output_type": "stream",
     "text": [
      "                                                                                \r"
     ]
    },
    {
     "name": "stdout",
     "output_type": "stream",
     "text": [
      "  Run 4: time=16.97s, R²=0.9989\n"
     ]
    },
    {
     "name": "stderr",
     "output_type": "stream",
     "text": [
      "                                                                                \r"
     ]
    },
    {
     "name": "stdout",
     "output_type": "stream",
     "text": [
      "  Run 5: time=16.57s, R²=0.9989\n"
     ]
    },
    {
     "name": "stderr",
     "output_type": "stream",
     "text": [
      "                                                                                \r"
     ]
    },
    {
     "name": "stdout",
     "output_type": "stream",
     "text": [
      "  Run 6: time=17.74s, R²=0.9989\n"
     ]
    },
    {
     "name": "stderr",
     "output_type": "stream",
     "text": [
      "                                                                                \r"
     ]
    },
    {
     "name": "stdout",
     "output_type": "stream",
     "text": [
      "  Run 7: time=17.10s, R²=0.9989\n"
     ]
    },
    {
     "name": "stderr",
     "output_type": "stream",
     "text": [
      "                                                                                \r"
     ]
    },
    {
     "name": "stdout",
     "output_type": "stream",
     "text": [
      "  Run 8: time=17.60s, R²=0.9989\n"
     ]
    },
    {
     "name": "stderr",
     "output_type": "stream",
     "text": [
      "                                                                                \r"
     ]
    },
    {
     "name": "stdout",
     "output_type": "stream",
     "text": [
      "  Run 9: time=17.88s, R²=0.9989\n"
     ]
    },
    {
     "name": "stderr",
     "output_type": "stream",
     "text": [
      "                                                                                \r"
     ]
    },
    {
     "name": "stdout",
     "output_type": "stream",
     "text": [
      "  Run 10: time=18.04s, R²=0.9989\n",
      "Run 1: time=17.22s, R²=0.9989\n",
      "==============================================================================\n",
      "                            OLS Regression Results                            \n",
      "==============================================================================\n",
      "Dep. Variable:       y            R-squared:                          0.999\n",
      "Model:               OLS          Adj. R-squared:                     0.999\n",
      "Method:              Least Squares F-statistic:                    9.149e+07\n",
      "Date:                Mon, 28 Oct 2024 Prob (F-statistic):             1.110e-16\n",
      "Time:                18:01:58     Log-Likelihood:                884632.775\n",
      "No. Observations:    1000000      AIC:                         -4607120.617\n",
      "Df Residuals:        999989       BIC:                         -4606990.647\n",
      "Df Model:            10          \n",
      "Covariance Type:            nonrobust\n",
      "==============================================================================\n",
      "                       coef    std err          t        P>|t|     [0.025     0.975]\n",
      "------------------------------------------------------------------------------\n",
      "           const   -0.8834     0.000  -8842.659       0.000    -0.884    -0.883\n",
      "              x1    1.0781     0.000  10783.097       0.000     1.078     1.078\n",
      "              x2    0.0669     0.000    670.063       0.000     0.067     0.067\n",
      "              x3    1.1185     0.000  11190.987       0.000     1.118     1.119\n",
      "              x4   -1.1724     0.000 -11726.929       0.000    -1.173    -1.172\n",
      "              x5    1.1247     0.000  11266.854       0.000     1.125     1.125\n",
      "              x6    0.4590     0.000   4599.724       0.000     0.459     0.459\n",
      "              x7    1.2834     0.000  12834.539       0.000     1.283     1.284\n",
      "              x8    1.2571     0.000  12574.905       0.000     1.257     1.257\n",
      "              x9   -0.7621     0.000  -7626.060       0.000    -0.762    -0.762\n",
      "             x10   -0.2930     0.000  -2932.475       0.000    -0.293    -0.293\n",
      "==============================================================================\n",
      "Omnibus:                     nan Durbin-Watson:                           nan\n",
      "Prob(Omnibus):               nan Jarque-Bera (JB):                        nan\n",
      "Skew:                        nan Prob(JB):                                nan\n",
      "Kurtosis:                    nan Cond. No.:                              1.01\n",
      "==============================================================================\n",
      "[1] Standard Errors assume that the covariance matrix of the errors is correctly specified.\n",
      "\n",
      "Summary for n=1,000,000:\n",
      "  Mean time: 17.22s ± 0.51s\n",
      "  Mean R²: 0.9989 ± 0.0000\n",
      "\n",
      "Benchmarking n=5,000,000 samples...\n"
     ]
    },
    {
     "name": "stderr",
     "output_type": "stream",
     "text": [
      "                                                                                \r"
     ]
    },
    {
     "name": "stdout",
     "output_type": "stream",
     "text": [
      "  Run 1: time=85.32s, R²=0.9989\n"
     ]
    },
    {
     "name": "stderr",
     "output_type": "stream",
     "text": [
      "                                                                                \r"
     ]
    },
    {
     "name": "stdout",
     "output_type": "stream",
     "text": [
      "  Run 2: time=82.57s, R²=0.9989\n"
     ]
    },
    {
     "name": "stderr",
     "output_type": "stream",
     "text": [
      "                                                                                \r"
     ]
    },
    {
     "name": "stdout",
     "output_type": "stream",
     "text": [
      "  Run 3: time=79.95s, R²=0.9989\n"
     ]
    },
    {
     "name": "stderr",
     "output_type": "stream",
     "text": [
      "                                                                                \r"
     ]
    },
    {
     "name": "stdout",
     "output_type": "stream",
     "text": [
      "  Run 4: time=78.69s, R²=0.9989\n"
     ]
    },
    {
     "name": "stderr",
     "output_type": "stream",
     "text": [
      "                                                                                \r"
     ]
    },
    {
     "name": "stdout",
     "output_type": "stream",
     "text": [
      "  Run 5: time=78.06s, R²=0.9989\n"
     ]
    },
    {
     "name": "stderr",
     "output_type": "stream",
     "text": [
      "                                                                                \r"
     ]
    },
    {
     "name": "stdout",
     "output_type": "stream",
     "text": [
      "  Run 6: time=77.71s, R²=0.9989\n"
     ]
    },
    {
     "name": "stderr",
     "output_type": "stream",
     "text": [
      "                                                                                \r"
     ]
    },
    {
     "name": "stdout",
     "output_type": "stream",
     "text": [
      "  Run 7: time=81.01s, R²=0.9989\n"
     ]
    },
    {
     "name": "stderr",
     "output_type": "stream",
     "text": [
      "[Stage 223:===============================>                    (302 + 18) / 500]\r"
     ]
    }
   ],
   "source": [
    "results_point = []\n",
    "results_point = [run_benchmark_point(n=n, p=n_features, true_coefficients=beta_true) for n in n_values]"
   ]
  },
  {
   "cell_type": "code",
   "execution_count": null,
   "id": "bf26993b-6f39-48c2-ad4f-6e9a548ba282",
   "metadata": {},
   "outputs": [],
   "source": [
    "results_point2 = [run_benchmark_point(n=n, p=n_features, true_coefficients=beta_true) for n in n_values2]"
   ]
  },
  {
   "cell_type": "code",
   "execution_count": null,
   "id": "60124b28-336d-4cea-899d-a25a9d62e49a",
   "metadata": {},
   "outputs": [],
   "source": [
    "results_point_df = pd.concat(results_point, ignore_index=True)\n",
    "results_point_df"
   ]
  },
  {
   "cell_type": "markdown",
   "id": "9c38eab9-100f-40ec-86c3-3ec84a177118",
   "metadata": {},
   "source": [
    "### Benchmark Spark"
   ]
  },
  {
   "cell_type": "code",
   "execution_count": null,
   "id": "992ea3fb-b1e3-4230-8a12-45293bcdf20b",
   "metadata": {
    "scrolled": true
   },
   "outputs": [],
   "source": [
    "results_spark = []\n",
    "results_spark = [run_benchmark_spark(n=n, p=n_features, beta_true=beta_true) for n in n_values]"
   ]
  },
  {
   "cell_type": "code",
   "execution_count": null,
   "id": "ee6dfe73",
   "metadata": {
    "scrolled": true
   },
   "outputs": [],
   "source": [
    "results_spark2 = [run_benchmark_spark(n=n, p=n_features, beta_true=beta_true) for n in n_values2]"
   ]
  },
  {
   "cell_type": "code",
   "execution_count": null,
   "id": "1b454784-8787-4264-8e7d-364aa14eeada",
   "metadata": {},
   "outputs": [],
   "source": [
    "results_spark_df = pd.concat(results_spark, ignore_index=True)"
   ]
  },
  {
   "cell_type": "code",
   "execution_count": null,
   "id": "2f04b047-0cb9-412c-bae8-198a0ea8217e",
   "metadata": {},
   "outputs": [],
   "source": [
    "results_spark_df"
   ]
  },
  {
   "cell_type": "markdown",
   "id": "e45ba8cd-e4cd-43f1-ae36-a039696ce95a",
   "metadata": {},
   "source": [
    "## 2.2) Ausgeben der Ergebnisse"
   ]
  },
  {
   "cell_type": "code",
   "execution_count": null,
   "id": "f5688e6e-9dfa-4ce8-903e-01d61b598899",
   "metadata": {},
   "outputs": [],
   "source": [
    "def extract_info(dataframes, labels=None):\n",
    "    \"\"\"\n",
    "    Extracts and compares R² values and computation times from multiple DataFrames,\n",
    "    structured for easier comparison between approaches.\n",
    "    \n",
    "    Parameters\n",
    "    ----------\n",
    "    dataframes : list of pd.DataFrame\n",
    "        List of DataFrames containing benchmarking results with columns 'n_samples', \n",
    "        'n_features', 'mean_time', and 'mean_r_squared'.\n",
    "    \n",
    "    labels : list of str, optional\n",
    "        List of labels for each DataFrame to identify the source/approach (default is None).\n",
    "    \n",
    "    Returns\n",
    "    -------\n",
    "    pd.DataFrame\n",
    "        Combined DataFrame with columns 'n_samples', 'n_features', and the mean R² values \n",
    "        and computation times for each approach in separate columns, structured for \n",
    "        side-by-side comparison.\n",
    "    \"\"\"\n",
    "    # Ensure labels list matches the dataframes list length, if provided\n",
    "    if labels and len(labels) != len(dataframes):\n",
    "        raise ValueError(\"Length of labels must match length of dataframes\")\n",
    "    \n",
    "    # Dictionary to collect extracted data for each approach\n",
    "    comparison_dict = {'n_samples': [], 'n_features': []}\n",
    "    \n",
    "    # Add columns for each approach based on the provided labels\n",
    "    for label in labels:\n",
    "        comparison_dict[f'{label}_mean_time'] = []\n",
    "        comparison_dict[f'{label}_mean_r_squared'] = []\n",
    "    \n",
    "    # Iterate over DataFrames to extract and align data\n",
    "    for i, df in enumerate(dataframes):\n",
    "        label = labels[i] if labels else f'Approach_{i+1}'\n",
    "        \n",
    "        # Check for required columns in each DataFrame\n",
    "        if all(col in df.columns for col in ['n_samples', 'n_features', 'mean_time', 'mean_r_squared']):\n",
    "            # Sort DataFrame by 'n_samples' and 'n_features' for alignment\n",
    "            df = df.sort_values(['n_samples', 'n_features']).reset_index(drop=True)\n",
    "            \n",
    "            # Add data to the dictionary, ensuring columns are aligned for each row\n",
    "            if 'n_samples' not in comparison_dict or 'n_features' not in comparison_dict:\n",
    "                comparison_dict['n_samples'] = df['n_samples'].tolist()\n",
    "                comparison_dict['n_features'] = df['n_features'].tolist()\n",
    "            \n",
    "            comparison_dict[f'{label}_mean_time'] = df['mean_time'].tolist()\n",
    "            comparison_dict[f'{label}_mean_r_squared'] = df['mean_r_squared'].tolist()\n",
    "        else:\n",
    "            # Fill with NaNs if columns are missing for that approach\n",
    "            comparison_dict[f'{label}_mean_time'] = [None] * len(df)\n",
    "            comparison_dict[f'{label}_mean_r_squared'] = [None] * len(df)\n",
    "    \n",
    "    # Convert dictionary to DataFrame\n",
    "    result = pd.DataFrame(comparison_dict)\n",
    "    \n",
    "    return result\n"
   ]
  },
  {
   "cell_type": "code",
   "execution_count": 61,
   "id": "3c0e1f5e-2563-48cc-afc7-fe9b05c7c648",
   "metadata": {},
   "outputs": [],
   "source": [
    "dataframes = [results_numpy, results_point_df, results_spark_df]\n",
    "labels = [\"Numpy\", \"Spark Manuelle QR-Zerlegung\", \"Spark Lineare Regression\"]\n",
    "\n",
    "# Extract and compare information\n",
    "comparison_df = extract_info(dataframes, labels)\n"
   ]
  },
  {
   "cell_type": "code",
   "execution_count": 62,
   "id": "da76fad2-18bf-496b-a8a3-ba65ce3c108b",
   "metadata": {},
   "outputs": [
    {
     "data": {
      "text/html": [
       "<div>\n",
       "<style scoped>\n",
       "    .dataframe tbody tr th:only-of-type {\n",
       "        vertical-align: middle;\n",
       "    }\n",
       "\n",
       "    .dataframe tbody tr th {\n",
       "        vertical-align: top;\n",
       "    }\n",
       "\n",
       "    .dataframe thead th {\n",
       "        text-align: right;\n",
       "    }\n",
       "</style>\n",
       "<table border=\"1\" class=\"dataframe\">\n",
       "  <thead>\n",
       "    <tr style=\"text-align: right;\">\n",
       "      <th></th>\n",
       "      <th>n_samples</th>\n",
       "      <th>n_features</th>\n",
       "      <th>mean_time</th>\n",
       "      <th>mean_r_squared</th>\n",
       "      <th>label</th>\n",
       "    </tr>\n",
       "  </thead>\n",
       "  <tbody>\n",
       "    <tr>\n",
       "      <th>0</th>\n",
       "      <td>200000</td>\n",
       "      <td>7</td>\n",
       "      <td>0.112910</td>\n",
       "      <td>0.997873</td>\n",
       "      <td>Numpy</td>\n",
       "    </tr>\n",
       "    <tr>\n",
       "      <th>1</th>\n",
       "      <td>500000</td>\n",
       "      <td>7</td>\n",
       "      <td>0.215405</td>\n",
       "      <td>0.997880</td>\n",
       "      <td>Numpy</td>\n",
       "    </tr>\n",
       "    <tr>\n",
       "      <th>2</th>\n",
       "      <td>1000000</td>\n",
       "      <td>7</td>\n",
       "      <td>0.448090</td>\n",
       "      <td>0.997865</td>\n",
       "      <td>Numpy</td>\n",
       "    </tr>\n",
       "    <tr>\n",
       "      <th>3</th>\n",
       "      <td>5000000</td>\n",
       "      <td>7</td>\n",
       "      <td>2.287778</td>\n",
       "      <td>0.997872</td>\n",
       "      <td>Numpy</td>\n",
       "    </tr>\n",
       "    <tr>\n",
       "      <th>4</th>\n",
       "      <td>10000000</td>\n",
       "      <td>7</td>\n",
       "      <td>4.496564</td>\n",
       "      <td>0.997874</td>\n",
       "      <td>Numpy</td>\n",
       "    </tr>\n",
       "    <tr>\n",
       "      <th>5</th>\n",
       "      <td>200000</td>\n",
       "      <td>7</td>\n",
       "      <td>4.247316</td>\n",
       "      <td>0.997859</td>\n",
       "      <td>Spark Manuelle QR-Zerlegung</td>\n",
       "    </tr>\n",
       "    <tr>\n",
       "      <th>6</th>\n",
       "      <td>500000</td>\n",
       "      <td>7</td>\n",
       "      <td>8.069833</td>\n",
       "      <td>0.997874</td>\n",
       "      <td>Spark Manuelle QR-Zerlegung</td>\n",
       "    </tr>\n",
       "    <tr>\n",
       "      <th>7</th>\n",
       "      <td>1000000</td>\n",
       "      <td>7</td>\n",
       "      <td>15.587266</td>\n",
       "      <td>0.997872</td>\n",
       "      <td>Spark Manuelle QR-Zerlegung</td>\n",
       "    </tr>\n",
       "    <tr>\n",
       "      <th>8</th>\n",
       "      <td>5000000</td>\n",
       "      <td>7</td>\n",
       "      <td>75.932151</td>\n",
       "      <td>0.997873</td>\n",
       "      <td>Spark Manuelle QR-Zerlegung</td>\n",
       "    </tr>\n",
       "    <tr>\n",
       "      <th>9</th>\n",
       "      <td>10000000</td>\n",
       "      <td>7</td>\n",
       "      <td>155.884379</td>\n",
       "      <td>0.997875</td>\n",
       "      <td>Spark Manuelle QR-Zerlegung</td>\n",
       "    </tr>\n",
       "    <tr>\n",
       "      <th>10</th>\n",
       "      <td>200000</td>\n",
       "      <td>7</td>\n",
       "      <td>2.354448</td>\n",
       "      <td>0.997859</td>\n",
       "      <td>Spark Lineare Regression</td>\n",
       "    </tr>\n",
       "    <tr>\n",
       "      <th>11</th>\n",
       "      <td>500000</td>\n",
       "      <td>7</td>\n",
       "      <td>3.757300</td>\n",
       "      <td>0.997874</td>\n",
       "      <td>Spark Lineare Regression</td>\n",
       "    </tr>\n",
       "    <tr>\n",
       "      <th>12</th>\n",
       "      <td>1000000</td>\n",
       "      <td>7</td>\n",
       "      <td>6.610899</td>\n",
       "      <td>0.997872</td>\n",
       "      <td>Spark Lineare Regression</td>\n",
       "    </tr>\n",
       "    <tr>\n",
       "      <th>13</th>\n",
       "      <td>5000000</td>\n",
       "      <td>7</td>\n",
       "      <td>29.807267</td>\n",
       "      <td>0.997873</td>\n",
       "      <td>Spark Lineare Regression</td>\n",
       "    </tr>\n",
       "    <tr>\n",
       "      <th>14</th>\n",
       "      <td>10000000</td>\n",
       "      <td>7</td>\n",
       "      <td>58.560505</td>\n",
       "      <td>0.997875</td>\n",
       "      <td>Spark Lineare Regression</td>\n",
       "    </tr>\n",
       "  </tbody>\n",
       "</table>\n",
       "</div>"
      ],
      "text/plain": [
       "    n_samples  n_features   mean_time  mean_r_squared  \\\n",
       "0      200000           7    0.112910        0.997873   \n",
       "1      500000           7    0.215405        0.997880   \n",
       "2     1000000           7    0.448090        0.997865   \n",
       "3     5000000           7    2.287778        0.997872   \n",
       "4    10000000           7    4.496564        0.997874   \n",
       "5      200000           7    4.247316        0.997859   \n",
       "6      500000           7    8.069833        0.997874   \n",
       "7     1000000           7   15.587266        0.997872   \n",
       "8     5000000           7   75.932151        0.997873   \n",
       "9    10000000           7  155.884379        0.997875   \n",
       "10     200000           7    2.354448        0.997859   \n",
       "11     500000           7    3.757300        0.997874   \n",
       "12    1000000           7    6.610899        0.997872   \n",
       "13    5000000           7   29.807267        0.997873   \n",
       "14   10000000           7   58.560505        0.997875   \n",
       "\n",
       "                          label  \n",
       "0                         Numpy  \n",
       "1                         Numpy  \n",
       "2                         Numpy  \n",
       "3                         Numpy  \n",
       "4                         Numpy  \n",
       "5   Spark Manuelle QR-Zerlegung  \n",
       "6   Spark Manuelle QR-Zerlegung  \n",
       "7   Spark Manuelle QR-Zerlegung  \n",
       "8   Spark Manuelle QR-Zerlegung  \n",
       "9   Spark Manuelle QR-Zerlegung  \n",
       "10     Spark Lineare Regression  \n",
       "11     Spark Lineare Regression  \n",
       "12     Spark Lineare Regression  \n",
       "13     Spark Lineare Regression  \n",
       "14     Spark Lineare Regression  "
      ]
     },
     "execution_count": 62,
     "metadata": {},
     "output_type": "execute_result"
    }
   ],
   "source": [
    "comparison_df"
   ]
  },
  {
   "cell_type": "markdown",
   "id": "c95411dc-0d37-4c21-a623-d08fb9c92c0e",
   "metadata": {},
   "source": [
    "- bei n_samples"
   ]
  },
  {
   "cell_type": "markdown",
   "id": "e58b5098-64e9-4e05-956a-0605c8884113",
   "metadata": {},
   "source": [
    "## 2.3) Plotten der Ergebnisse"
   ]
  },
  {
   "cell_type": "code",
   "execution_count": 45,
   "id": "698a3738-4d09-4794-95fd-7edeb2bebeca",
   "metadata": {},
   "outputs": [],
   "source": [
    "def plot_benchmark_results(n_values, avg_times, std_times):\n",
    "    \"\"\"\n",
    "    Plots benchmark results as error bars.\n",
    "\n",
    "    Parameters:\n",
    "    n_values (list): List of sample sizes (number of observations).\n",
    "    avg_times (list): List of average computation times for each sample size.\n",
    "    std_times (list): List of standard deviations of the computation times for each sample size.\n",
    "    \"\"\"\n",
    "    plt.figure(figsize=(10, 6))\n",
    "    plt.errorbar(n_values, avg_times, yerr=std_times, fmt='o', ecolor='r', capsize=5,\n",
    "                 label='Durchschnittliche Rechenzeit mit Standardabweichung', linestyle='None')\n",
    "    plt.xscale('log')\n",
    "    plt.yscale('log')\n",
    "    plt.xlabel('Anzahl der Beobachtungen (n)')\n",
    "    plt.ylabel('Rechenzeit (s)')\n",
    "    plt.title('Rechenzeit der QR-Dekompositions-basierten Regression für wachsendes n')\n",
    "    plt.grid(True)\n",
    "    plt.legend()\n",
    "    plt.show()"
   ]
  },
  {
   "cell_type": "code",
   "execution_count": 47,
   "id": "28567d06-d22a-49ec-b868-8cb360096f9b",
   "metadata": {},
   "outputs": [
    {
     "data": {
      "text/html": [
       "<div>\n",
       "<style scoped>\n",
       "    .dataframe tbody tr th:only-of-type {\n",
       "        vertical-align: middle;\n",
       "    }\n",
       "\n",
       "    .dataframe tbody tr th {\n",
       "        vertical-align: top;\n",
       "    }\n",
       "\n",
       "    .dataframe thead th {\n",
       "        text-align: right;\n",
       "    }\n",
       "</style>\n",
       "<table border=\"1\" class=\"dataframe\">\n",
       "  <thead>\n",
       "    <tr style=\"text-align: right;\">\n",
       "      <th></th>\n",
       "      <th>n_samples</th>\n",
       "      <th>n_features</th>\n",
       "      <th>mean_time</th>\n",
       "      <th>mean_r_squared</th>\n",
       "    </tr>\n",
       "  </thead>\n",
       "  <tbody>\n",
       "    <tr>\n",
       "      <th>0</th>\n",
       "      <td>200000</td>\n",
       "      <td>7</td>\n",
       "      <td>0.088900</td>\n",
       "      <td>0.997861</td>\n",
       "    </tr>\n",
       "    <tr>\n",
       "      <th>1</th>\n",
       "      <td>500000</td>\n",
       "      <td>7</td>\n",
       "      <td>0.208962</td>\n",
       "      <td>0.997871</td>\n",
       "    </tr>\n",
       "    <tr>\n",
       "      <th>2</th>\n",
       "      <td>1000000</td>\n",
       "      <td>7</td>\n",
       "      <td>0.401472</td>\n",
       "      <td>0.997871</td>\n",
       "    </tr>\n",
       "    <tr>\n",
       "      <th>3</th>\n",
       "      <td>5000000</td>\n",
       "      <td>7</td>\n",
       "      <td>2.282684</td>\n",
       "      <td>0.997874</td>\n",
       "    </tr>\n",
       "    <tr>\n",
       "      <th>4</th>\n",
       "      <td>10000000</td>\n",
       "      <td>7</td>\n",
       "      <td>4.496525</td>\n",
       "      <td>0.997874</td>\n",
       "    </tr>\n",
       "  </tbody>\n",
       "</table>\n",
       "</div>"
      ],
      "text/plain": [
       "   n_samples  n_features  mean_time  mean_r_squared\n",
       "0     200000           7   0.088900        0.997861\n",
       "1     500000           7   0.208962        0.997871\n",
       "2    1000000           7   0.401472        0.997871\n",
       "3    5000000           7   2.282684        0.997874\n",
       "4   10000000           7   4.496525        0.997874"
      ]
     },
     "execution_count": 47,
     "metadata": {},
     "output_type": "execute_result"
    }
   ],
   "source": [
    "results_numpy"
   ]
  },
  {
   "cell_type": "code",
   "execution_count": 46,
   "id": "94435955-82ec-413c-9038-70bca7e4347f",
   "metadata": {},
   "outputs": [
    {
     "ename": "KeyError",
     "evalue": "'std_time'",
     "output_type": "error",
     "traceback": [
      "\u001b[0;31m---------------------------------------------------------------------------\u001b[0m",
      "\u001b[0;31mKeyError\u001b[0m                                  Traceback (most recent call last)",
      "File \u001b[0;32m/usr/local/lib/python3.10/site-packages/pandas/core/indexes/base.py:3805\u001b[0m, in \u001b[0;36mIndex.get_loc\u001b[0;34m(self, key)\u001b[0m\n\u001b[1;32m   3804\u001b[0m \u001b[38;5;28;01mtry\u001b[39;00m:\n\u001b[0;32m-> 3805\u001b[0m     \u001b[38;5;28;01mreturn\u001b[39;00m \u001b[38;5;28;43mself\u001b[39;49m\u001b[38;5;241;43m.\u001b[39;49m\u001b[43m_engine\u001b[49m\u001b[38;5;241;43m.\u001b[39;49m\u001b[43mget_loc\u001b[49m\u001b[43m(\u001b[49m\u001b[43mcasted_key\u001b[49m\u001b[43m)\u001b[49m\n\u001b[1;32m   3806\u001b[0m \u001b[38;5;28;01mexcept\u001b[39;00m \u001b[38;5;167;01mKeyError\u001b[39;00m \u001b[38;5;28;01mas\u001b[39;00m err:\n",
      "File \u001b[0;32mindex.pyx:167\u001b[0m, in \u001b[0;36mpandas._libs.index.IndexEngine.get_loc\u001b[0;34m()\u001b[0m\n",
      "File \u001b[0;32mindex.pyx:196\u001b[0m, in \u001b[0;36mpandas._libs.index.IndexEngine.get_loc\u001b[0;34m()\u001b[0m\n",
      "File \u001b[0;32mpandas/_libs/hashtable_class_helper.pxi:7081\u001b[0m, in \u001b[0;36mpandas._libs.hashtable.PyObjectHashTable.get_item\u001b[0;34m()\u001b[0m\n",
      "File \u001b[0;32mpandas/_libs/hashtable_class_helper.pxi:7089\u001b[0m, in \u001b[0;36mpandas._libs.hashtable.PyObjectHashTable.get_item\u001b[0;34m()\u001b[0m\n",
      "\u001b[0;31mKeyError\u001b[0m: 'std_time'",
      "\nThe above exception was the direct cause of the following exception:\n",
      "\u001b[0;31mKeyError\u001b[0m                                  Traceback (most recent call last)",
      "Cell \u001b[0;32mIn[46], line 1\u001b[0m\n\u001b[0;32m----> 1\u001b[0m plot_benchmark_results(results_numpy[\u001b[38;5;124m\"\u001b[39m\u001b[38;5;124mn_samples\u001b[39m\u001b[38;5;124m\"\u001b[39m], results_numpy[\u001b[38;5;124m\"\u001b[39m\u001b[38;5;124mmean_time\u001b[39m\u001b[38;5;124m\"\u001b[39m], \u001b[43mresults_numpy\u001b[49m\u001b[43m[\u001b[49m\u001b[38;5;124;43m\"\u001b[39;49m\u001b[38;5;124;43mstd_time\u001b[39;49m\u001b[38;5;124;43m\"\u001b[39;49m\u001b[43m]\u001b[49m)\n",
      "File \u001b[0;32m/usr/local/lib/python3.10/site-packages/pandas/core/frame.py:4102\u001b[0m, in \u001b[0;36mDataFrame.__getitem__\u001b[0;34m(self, key)\u001b[0m\n\u001b[1;32m   4100\u001b[0m \u001b[38;5;28;01mif\u001b[39;00m \u001b[38;5;28mself\u001b[39m\u001b[38;5;241m.\u001b[39mcolumns\u001b[38;5;241m.\u001b[39mnlevels \u001b[38;5;241m>\u001b[39m \u001b[38;5;241m1\u001b[39m:\n\u001b[1;32m   4101\u001b[0m     \u001b[38;5;28;01mreturn\u001b[39;00m \u001b[38;5;28mself\u001b[39m\u001b[38;5;241m.\u001b[39m_getitem_multilevel(key)\n\u001b[0;32m-> 4102\u001b[0m indexer \u001b[38;5;241m=\u001b[39m \u001b[38;5;28;43mself\u001b[39;49m\u001b[38;5;241;43m.\u001b[39;49m\u001b[43mcolumns\u001b[49m\u001b[38;5;241;43m.\u001b[39;49m\u001b[43mget_loc\u001b[49m\u001b[43m(\u001b[49m\u001b[43mkey\u001b[49m\u001b[43m)\u001b[49m\n\u001b[1;32m   4103\u001b[0m \u001b[38;5;28;01mif\u001b[39;00m is_integer(indexer):\n\u001b[1;32m   4104\u001b[0m     indexer \u001b[38;5;241m=\u001b[39m [indexer]\n",
      "File \u001b[0;32m/usr/local/lib/python3.10/site-packages/pandas/core/indexes/base.py:3812\u001b[0m, in \u001b[0;36mIndex.get_loc\u001b[0;34m(self, key)\u001b[0m\n\u001b[1;32m   3807\u001b[0m     \u001b[38;5;28;01mif\u001b[39;00m \u001b[38;5;28misinstance\u001b[39m(casted_key, \u001b[38;5;28mslice\u001b[39m) \u001b[38;5;129;01mor\u001b[39;00m (\n\u001b[1;32m   3808\u001b[0m         \u001b[38;5;28misinstance\u001b[39m(casted_key, abc\u001b[38;5;241m.\u001b[39mIterable)\n\u001b[1;32m   3809\u001b[0m         \u001b[38;5;129;01mand\u001b[39;00m \u001b[38;5;28many\u001b[39m(\u001b[38;5;28misinstance\u001b[39m(x, \u001b[38;5;28mslice\u001b[39m) \u001b[38;5;28;01mfor\u001b[39;00m x \u001b[38;5;129;01min\u001b[39;00m casted_key)\n\u001b[1;32m   3810\u001b[0m     ):\n\u001b[1;32m   3811\u001b[0m         \u001b[38;5;28;01mraise\u001b[39;00m InvalidIndexError(key)\n\u001b[0;32m-> 3812\u001b[0m     \u001b[38;5;28;01mraise\u001b[39;00m \u001b[38;5;167;01mKeyError\u001b[39;00m(key) \u001b[38;5;28;01mfrom\u001b[39;00m \u001b[38;5;21;01merr\u001b[39;00m\n\u001b[1;32m   3813\u001b[0m \u001b[38;5;28;01mexcept\u001b[39;00m \u001b[38;5;167;01mTypeError\u001b[39;00m:\n\u001b[1;32m   3814\u001b[0m     \u001b[38;5;66;03m# If we have a listlike key, _check_indexing_error will raise\u001b[39;00m\n\u001b[1;32m   3815\u001b[0m     \u001b[38;5;66;03m#  InvalidIndexError. Otherwise we fall through and re-raise\u001b[39;00m\n\u001b[1;32m   3816\u001b[0m     \u001b[38;5;66;03m#  the TypeError.\u001b[39;00m\n\u001b[1;32m   3817\u001b[0m     \u001b[38;5;28mself\u001b[39m\u001b[38;5;241m.\u001b[39m_check_indexing_error(key)\n",
      "\u001b[0;31mKeyError\u001b[0m: 'std_time'"
     ]
    }
   ],
   "source": [
    "plot_benchmark_results(results_numpy[\"n_samples\"], results_numpy[\"mean_time\"], results_numpy[\"std_time\"])"
   ]
  },
  {
   "cell_type": "code",
   "execution_count": null,
   "id": "63f16519-abac-4883-8ab2-2b095325bc26",
   "metadata": {},
   "outputs": [],
   "source": [
    "plot_benchmark_results(results_spark_df[\"n_samples\"], results_spark_df[\"mean_time\"], results_spark_df[\"std_time\"])"
   ]
  },
  {
   "cell_type": "code",
   "execution_count": null,
   "id": "06dd5e0d-6540-44d4-9e05-cad1be352128",
   "metadata": {},
   "outputs": [],
   "source": [
    "plot_benchmark_results(results_point_df[\"n_samples\"], results_point_df[\"mean_time\"], results_point_df[\"std_time\"])"
   ]
  },
  {
   "cell_type": "markdown",
   "id": "ca867fd1-e441-4327-863a-0dfaad6e7ad9",
   "metadata": {},
   "source": [
    "### Numpy"
   ]
  },
  {
   "cell_type": "code",
   "execution_count": 54,
   "id": "3db1fd46-c5d1-4b4b-b9b9-e6a784f7ce30",
   "metadata": {},
   "outputs": [
    {
     "data": {
      "text/html": [
       "<div>\n",
       "<style scoped>\n",
       "    .dataframe tbody tr th:only-of-type {\n",
       "        vertical-align: middle;\n",
       "    }\n",
       "\n",
       "    .dataframe tbody tr th {\n",
       "        vertical-align: top;\n",
       "    }\n",
       "\n",
       "    .dataframe thead th {\n",
       "        text-align: right;\n",
       "    }\n",
       "</style>\n",
       "<table border=\"1\" class=\"dataframe\">\n",
       "  <thead>\n",
       "    <tr style=\"text-align: right;\">\n",
       "      <th></th>\n",
       "      <th>n_samples</th>\n",
       "      <th>n_features</th>\n",
       "      <th>mean_time</th>\n",
       "      <th>std_time</th>\n",
       "      <th>mean_r_squared</th>\n",
       "      <th>std_r_squared</th>\n",
       "      <th>successful_runs</th>\n",
       "    </tr>\n",
       "  </thead>\n",
       "  <tbody>\n",
       "    <tr>\n",
       "      <th>0</th>\n",
       "      <td>100000</td>\n",
       "      <td>7</td>\n",
       "      <td>5.286742</td>\n",
       "      <td>0.165430</td>\n",
       "      <td>-1.001643</td>\n",
       "      <td>0.008381</td>\n",
       "      <td>10</td>\n",
       "    </tr>\n",
       "    <tr>\n",
       "      <th>1</th>\n",
       "      <td>31622</td>\n",
       "      <td>7</td>\n",
       "      <td>2.684448</td>\n",
       "      <td>0.080616</td>\n",
       "      <td>-0.993147</td>\n",
       "      <td>0.024608</td>\n",
       "      <td>10</td>\n",
       "    </tr>\n",
       "    <tr>\n",
       "      <th>2</th>\n",
       "      <td>10000</td>\n",
       "      <td>7</td>\n",
       "      <td>1.791180</td>\n",
       "      <td>0.056499</td>\n",
       "      <td>-1.011343</td>\n",
       "      <td>0.025945</td>\n",
       "      <td>10</td>\n",
       "    </tr>\n",
       "    <tr>\n",
       "      <th>3</th>\n",
       "      <td>3162</td>\n",
       "      <td>7</td>\n",
       "      <td>1.565222</td>\n",
       "      <td>0.047042</td>\n",
       "      <td>-0.995377</td>\n",
       "      <td>0.035789</td>\n",
       "      <td>10</td>\n",
       "    </tr>\n",
       "    <tr>\n",
       "      <th>4</th>\n",
       "      <td>1000</td>\n",
       "      <td>7</td>\n",
       "      <td>1.453788</td>\n",
       "      <td>0.018836</td>\n",
       "      <td>-1.001341</td>\n",
       "      <td>0.093826</td>\n",
       "      <td>10</td>\n",
       "    </tr>\n",
       "  </tbody>\n",
       "</table>\n",
       "</div>"
      ],
      "text/plain": [
       "   n_samples  n_features  mean_time  std_time  mean_r_squared  std_r_squared  \\\n",
       "0     100000           7   5.286742  0.165430       -1.001643       0.008381   \n",
       "1      31622           7   2.684448  0.080616       -0.993147       0.024608   \n",
       "2      10000           7   1.791180  0.056499       -1.011343       0.025945   \n",
       "3       3162           7   1.565222  0.047042       -0.995377       0.035789   \n",
       "4       1000           7   1.453788  0.018836       -1.001341       0.093826   \n",
       "\n",
       "   successful_runs  \n",
       "0               10  \n",
       "1               10  \n",
       "2               10  \n",
       "3               10  \n",
       "4               10  "
      ]
     },
     "execution_count": 54,
     "metadata": {},
     "output_type": "execute_result"
    }
   ],
   "source": [
    "results_range"
   ]
  },
  {
   "cell_type": "code",
   "execution_count": 55,
   "id": "fef9c3fa-3f29-4d98-b398-e1fdde5522b4",
   "metadata": {},
   "outputs": [
    {
     "data": {
      "image/png": "[encoded data removed]",
      "text/plain": [
       "<Figure size 1000x600 with 1 Axes>"
      ]
     },
     "metadata": {},
     "output_type": "display_data"
    }
   ],
   "source": [
    "plot_benchmark_results(results_range[\"n_samples\"], results_range[\"mean_time\"], results_range[\"std_time\"])"
   ]
  },
  {
   "cell_type": "markdown",
   "id": "ae3b3849-98ab-49e3-b977-547495748bd6",
   "metadata": {},
   "source": [
    "### Spark manuell"
   ]
  },
  {
   "cell_type": "code",
   "execution_count": null,
   "id": "081fa1bc-042c-4638-aded-7d5748f7bb9e",
   "metadata": {},
   "outputs": [],
   "source": []
  },
  {
   "cell_type": "markdown",
   "id": "45e2983f-d60e-4493-b2c7-666cba684af8",
   "metadata": {},
   "source": [
    "### Spark normal"
   ]
  },
  {
   "cell_type": "markdown",
   "id": "30124dce-8dac-45fc-a851-d25ad7f5e69a",
   "metadata": {},
   "source": [
    "# 3) Vergleich mit statmodels"
   ]
  },
  {
   "cell_type": "markdown",
   "id": "98d37f2b-e538-4308-997f-367b0cf56b76",
   "metadata": {},
   "source": [
    "## 3.1) statmodels Ausgabe"
   ]
  },
  {
   "cell_type": "code",
   "execution_count": 23,
   "id": "8957c7a3-d821-49b4-a069-3085022eeffc",
   "metadata": {},
   "outputs": [
    {
     "name": "stdout",
     "output_type": "stream",
     "text": [
      "                            OLS Regression Results                            \n",
      "==============================================================================\n",
      "Dep. Variable:                      y   R-squared:                       0.999\n",
      "Model:                            OLS   Adj. R-squared:                  0.999\n",
      "Method:                 Least Squares   F-statistic:                 2.463e+06\n",
      "Date:                Sun, 27 Oct 2024   Prob (F-statistic):               0.00\n",
      "Time:                        19:47:24   Log-Likelihood:                 8740.0\n",
      "No. Observations:               10000   AIC:                        -1.746e+04\n",
      "Df Residuals:                    9992   BIC:                        -1.741e+04\n",
      "Df Model:                           7                                         \n",
      "Covariance Type:            nonrobust                                         \n",
      "==============================================================================\n",
      "                 coef    std err          t      P>|t|      [0.025      0.975]\n",
      "------------------------------------------------------------------------------\n",
      "const         -7.9986      0.005  -1686.761      0.000      -8.008      -7.989\n",
      "x1            -1.6001      0.004   -455.423      0.000      -1.607      -1.593\n",
      "x2             4.0995      0.004   1168.820      0.000       4.093       4.106\n",
      "x3           -10.0001      0.004  -2851.307      0.000     -10.007      -9.993\n",
      "x4            -9.1953      0.004  -2619.899      0.000      -9.202      -9.188\n",
      "x5             1.2993      0.003    372.782      0.000       1.292       1.306\n",
      "x6             1.6008      0.003    457.490      0.000       1.594       1.608\n",
      "x7             2.2949      0.004    653.421      0.000       2.288       2.302\n",
      "==============================================================================\n",
      "Omnibus:                        0.742   Durbin-Watson:                   2.004\n",
      "Prob(Omnibus):                  0.690   Jarque-Bera (JB):                0.771\n",
      "Skew:                           0.004   Prob(JB):                        0.680\n",
      "Kurtosis:                       2.958   Cond. No.                         9.72\n",
      "==============================================================================\n",
      "\n",
      "Notes:\n",
      "[1] Standard Errors assume that the covariance matrix of the errors is correctly specified.\n"
     ]
    }
   ],
   "source": [
    "X, y = create_data_numpy(10000, 7, [-8, -1.6, 4.1, -10, -9.2, 1.3, 1.6, 2.3])\n",
    "model = sm.OLS(y, X)\n",
    "results = model.fit()\n",
    "\n",
    "print(results.summary())"
   ]
  },
  {
   "cell_type": "markdown",
   "id": "38d357f4-5a5c-4c3d-a6a6-5309c364337d",
   "metadata": {},
   "source": [
    "## 3.2) Ausgabe der implementierten Methode"
   ]
  },
  {
   "cell_type": "code",
   "execution_count": null,
   "id": "ff10c315-79d4-4ead-a165-3b30af59089a",
   "metadata": {},
   "outputs": [],
   "source": []
  },
  {
   "cell_type": "code",
   "execution_count": null,
   "id": "93f86e1f-6d1b-46ab-905e-462090b9bd19",
   "metadata": {},
   "outputs": [],
   "source": []
  },
  {
   "cell_type": "code",
   "execution_count": null,
   "id": "9e257958-5aa2-4130-b5c2-313f3f3dc4a5",
   "metadata": {},
   "outputs": [],
   "source": []
  }
 ],
 "metadata": {
  "kernelspec": {
   "display_name": "Python 3 (ipykernel)",
   "language": "python",
   "name": "python3"
  },
  "language_info": {
   "codemirror_mode": {
    "name": "ipython",
    "version": 3
   },
   "file_extension": ".py",
   "mimetype": "text/x-python",
   "name": "python",
   "nbconvert_exporter": "python",
   "pygments_lexer": "ipython3",
   "version": "3.10.0"
  }
 },
 "nbformat": 4,
 "nbformat_minor": 5
}
